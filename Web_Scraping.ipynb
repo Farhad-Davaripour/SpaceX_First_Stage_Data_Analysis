{
 "cells": [
  {
   "cell_type": "markdown",
   "id": "2d6af918",
   "metadata": {},
   "source": [
    "__Falcon 9 Data Collection_ Web Scraping__  \n",
    "\n",
    "SpaceX is a well-known private company famous for several historic milestones in launching rockets and return the first stage from the low earth orbit. This capability enabled SpaceX to advertise the Falcon 9 rocket with the price of $62 million which is more than 60% cheaper that the other competitive companies.  \n",
    "\n",
    "The present notebook extracts data from [Wikipedia page](https://en.wikipedia.org/w/index.php?title=List_of_Falcon_9_and_Falcon_Heavy_launches&oldid=1027686922) and performs exploratory data analysis using SQL queries. \n",
    "\n",
    "The present lab is a part of [Applied Data Science Capstone Course](https://www.coursera.org/learn/applied-data-science-capstone) offered by [Coursera.org](https://www.Coursera.org)"
   ]
  },
  {
   "cell_type": "markdown",
   "id": "f120cbb5",
   "metadata": {},
   "source": [
    "![](https://cf-courses-data.s3.us.cloud-object-storage.appdomain.cloud/IBM-DS0321EN-SkillsNetwork/labs/module\\_1\\_L2/images/Falcon9\\_rocket_family.svg)"
   ]
  },
  {
   "cell_type": "markdown",
   "id": "df6cee0f",
   "metadata": {},
   "source": [
    "### List of libraries"
   ]
  },
  {
   "cell_type": "code",
   "execution_count": 16,
   "id": "15866f1b",
   "metadata": {},
   "outputs": [],
   "source": [
    "import requests\n",
    "import pandas as pd\n",
    "import numpy as np\n",
    "import datetime\n",
    "import os\n",
    "from bs4 import BeautifulSoup\n",
    "import unicodedata\n",
    "# below libraries will be used to submit query the database in IBM DB2\n",
    "import sqlalchemy\n",
    "import ibm_db_sa\n",
    "import ibm_db"
   ]
  },
  {
   "cell_type": "code",
   "execution_count": 25,
   "id": "4f286e06",
   "metadata": {},
   "outputs": [],
   "source": [
    "# changing the current directory\n",
    "os.chdir('G:\\My Drive\\Career\\IBM certificate\\Database\\Spacex')"
   ]
  },
  {
   "cell_type": "markdown",
   "id": "2b87b16e",
   "metadata": {},
   "source": [
    "### Data Collection"
   ]
  },
  {
   "cell_type": "code",
   "execution_count": 6,
   "id": "81429044",
   "metadata": {},
   "outputs": [],
   "source": [
    "# let's request the launch wiki page from its url to extract the list of \n",
    "#Falcon 9 and Falcon Heavy launches published on June 2021\n",
    "url = \"https://en.wikipedia.org/w/index.php?title=List_of_Falcon_9_and_Falcon_Heavy_launches&oldid=1027686922\"\n",
    "response = requests.get(url)"
   ]
  },
  {
   "cell_type": "code",
   "execution_count": 8,
   "id": "6cd7d4c7",
   "metadata": {},
   "outputs": [],
   "source": [
    "soup = BeautifulSoup(response.text,'html.parser')"
   ]
  },
  {
   "cell_type": "markdown",
   "id": "5d2e9880",
   "metadata": {},
   "source": [
    "### Extracting columns names"
   ]
  },
  {
   "cell_type": "code",
   "execution_count": 9,
   "id": "b0cc1a20",
   "metadata": {},
   "outputs": [],
   "source": [
    "html_tables = soup.find_all('table')"
   ]
  },
  {
   "cell_type": "code",
   "execution_count": 11,
   "id": "80205ccc",
   "metadata": {
    "scrolled": true
   },
   "outputs": [],
   "source": [
    "# let's use table number 3 to extract columns names\n",
    "first_launch_table = html_tables[2]"
   ]
  },
  {
   "cell_type": "code",
   "execution_count": 12,
   "id": "7314a855",
   "metadata": {},
   "outputs": [
    {
     "data": {
      "text/plain": [
       "['Flight No.',\n",
       " 'Date and time',\n",
       " 'Version Booster',\n",
       " 'Launch site',\n",
       " 'Payload',\n",
       " 'Payload mass',\n",
       " 'Orbit',\n",
       " 'Customer',\n",
       " 'Launch outcome',\n",
       " 'Booster landing']"
      ]
     },
     "execution_count": 12,
     "metadata": {},
     "output_type": "execute_result"
    }
   ],
   "source": [
    "column_names = []\n",
    "headers = first_launch_table.find_all('th')\n",
    "for th in headers:\n",
    "    if th.string:\n",
    "        column_names.append(th.text.strip())\n",
    "    elif '[c]' in th.text:\n",
    "        column_names.append(th.text.split('[')[0])\n",
    "    else:\n",
    "        column_names.append(((list(th.strings)[0].split(',')[0]+' '+list(th.strings)[1].split()[0]).split('[')[0]))\n",
    "column_names[:10]"
   ]
  },
  {
   "cell_type": "markdown",
   "id": "a08b8cf4",
   "metadata": {},
   "source": [
    "### Parsing the data from launch HTML table"
   ]
  },
  {
   "cell_type": "code",
   "execution_count": 14,
   "id": "192d06ce",
   "metadata": {},
   "outputs": [],
   "source": [
    "# let's create a dictionary of from the list above with some modifications\n",
    "launch_dict = dict.fromkeys(column_names[:10])\n",
    "launch_dict\n",
    "del launch_dict['Date and time']\n",
    "\n",
    "launch_dict['Flight No.'] = []\n",
    "launch_dict['Launch site'] = []\n",
    "launch_dict['Payload'] = []\n",
    "launch_dict['Payload mass'] = []\n",
    "launch_dict['Orbit'] = []\n",
    "launch_dict['Customer'] = []\n",
    "launch_dict['Launch outcome'] = []\n",
    "launch_dict['Version Booster'] = []\n",
    "launch_dict['Booster landing'] = []\n",
    "launch_dict['Date'] = []\n",
    "launch_dict['Time'] = []\n",
    "#let's fill up the dictionary above\n",
    "for table_number, table in enumerate(soup.find_all(\"table\",\"wikitable plainrowheaders collapsible\")):\n",
    "    for rows in table.find_all('tr'):\n",
    "        if rows.th:\n",
    "            if rows.th.string:\n",
    "                flight_number = rows.th.string.strip()\n",
    "                flag = flight_number.isdigit()\n",
    "        else:\n",
    "            flag=False\n",
    "        # get table element\n",
    "        row = rows.find_all('td')\n",
    "        # if it is a number save cells in a dictionary\n",
    "        if flag:\n",
    "            # Flight_number\n",
    "            launch_dict['Flight No.'].append(flight_number)\n",
    "            # Date\n",
    "            launch_dict['Date'].append(list(row[0].strings)[0].strip(','))\n",
    "            # Time\n",
    "            launch_dict['Time'].append(list(row[0].strings)[1].strip('\\n'))\n",
    "            # Version Booster\n",
    "            l_row1 = list(row[1].strings)\n",
    "            bv = [(i.strip('\\n')) for index,i in enumerate(l_row1) if list(l_row1[index])[0]=='B']\n",
    "            if bv:\n",
    "                launch_dict['Version Booster'].append(l_row1[0].strip('♺')+' '+bv[0])\n",
    "            else:\n",
    "                launch_dict['Version Booster'].append(l_row1[0].strip('♺'))\n",
    "            # Launch site\n",
    "            if row[2].a.string:\n",
    "                launch_dict['Launch site'].append(row[2].a.string.strip('\\n'))\n",
    "            else:\n",
    "                launch_dict['Launch site'].append(np.nan)\n",
    "            # Payload\n",
    "            launch_dict['Payload'].append(row[3].a.string)\n",
    "            # Payload mass\n",
    "            if row[4].text.strip():\n",
    "                l_row4 = list(row[4].text.strip())\n",
    "                launch_dict['Payload mass'].append((row[4].text.strip().split('kg')[0].strip('~')).replace(',',''))\n",
    "            else:\n",
    "                launch_dict['Payload mass'].append(np.nan)\n",
    "            # Orbit\n",
    "            launch_dict['Orbit'].append(row[5].a.string)\n",
    "            # Customer\n",
    "            if row[6].a:\n",
    "                if row[6].a.string:\n",
    "                    customer = row[6].a.string\n",
    "            else:\n",
    "                customer = \"unknown\"\n",
    "            launch_dict['Customer'].append(customer)\n",
    "            # Launch outcome\n",
    "            launch_outcome = list(row[7].strings)[0].strip('\\n')\n",
    "            launch_dict['Launch outcome'].append(launch_outcome)\n",
    "            # Booster landing\n",
    "            launch_dict['Booster landing'].append(list(row[8].strings)[0].strip())"
   ]
  },
  {
   "cell_type": "markdown",
   "id": "1fa63cbc",
   "metadata": {},
   "source": [
    "### Creating a dataframe"
   ]
  },
  {
   "cell_type": "code",
   "execution_count": 15,
   "id": "3ce1ea90",
   "metadata": {
    "scrolled": false
   },
   "outputs": [
    {
     "data": {
      "text/html": [
       "<div>\n",
       "<style scoped>\n",
       "    .dataframe tbody tr th:only-of-type {\n",
       "        vertical-align: middle;\n",
       "    }\n",
       "\n",
       "    .dataframe tbody tr th {\n",
       "        vertical-align: top;\n",
       "    }\n",
       "\n",
       "    .dataframe thead th {\n",
       "        text-align: right;\n",
       "    }\n",
       "</style>\n",
       "<table border=\"1\" class=\"dataframe\">\n",
       "  <thead>\n",
       "    <tr style=\"text-align: right;\">\n",
       "      <th></th>\n",
       "      <th>Flight No.</th>\n",
       "      <th>Version Booster</th>\n",
       "      <th>Launch site</th>\n",
       "      <th>Payload</th>\n",
       "      <th>Payload mass</th>\n",
       "      <th>Orbit</th>\n",
       "      <th>Customer</th>\n",
       "      <th>Launch outcome</th>\n",
       "      <th>Booster landing</th>\n",
       "      <th>Date</th>\n",
       "      <th>Time</th>\n",
       "    </tr>\n",
       "  </thead>\n",
       "  <tbody>\n",
       "    <tr>\n",
       "      <th>0</th>\n",
       "      <td>1</td>\n",
       "      <td>F9 v1.0 B0003.1</td>\n",
       "      <td>CCAFS</td>\n",
       "      <td>Dragon Spacecraft Qualification Unit</td>\n",
       "      <td>NaN</td>\n",
       "      <td>LEO</td>\n",
       "      <td>SpaceX</td>\n",
       "      <td>Success</td>\n",
       "      <td>Failure</td>\n",
       "      <td>4 June 2010</td>\n",
       "      <td>18:45</td>\n",
       "    </tr>\n",
       "    <tr>\n",
       "      <th>1</th>\n",
       "      <td>2</td>\n",
       "      <td>F9 v1.0 B0004.1</td>\n",
       "      <td>CCAFS</td>\n",
       "      <td>Dragon</td>\n",
       "      <td>NaN</td>\n",
       "      <td>LEO</td>\n",
       "      <td>NASA</td>\n",
       "      <td>Success</td>\n",
       "      <td>Failure</td>\n",
       "      <td>8 December 2010</td>\n",
       "      <td>15:43</td>\n",
       "    </tr>\n",
       "    <tr>\n",
       "      <th>2</th>\n",
       "      <td>3</td>\n",
       "      <td>F9 v1.0 B0005.1</td>\n",
       "      <td>CCAFS</td>\n",
       "      <td>Dragon</td>\n",
       "      <td>525</td>\n",
       "      <td>LEO</td>\n",
       "      <td>NASA</td>\n",
       "      <td>Success</td>\n",
       "      <td>No attempt</td>\n",
       "      <td>22 May 2012</td>\n",
       "      <td>07:44</td>\n",
       "    </tr>\n",
       "    <tr>\n",
       "      <th>3</th>\n",
       "      <td>4</td>\n",
       "      <td>F9 v1.0 B0006.1</td>\n",
       "      <td>CCAFS</td>\n",
       "      <td>SpaceX CRS-1</td>\n",
       "      <td>4700</td>\n",
       "      <td>LEO</td>\n",
       "      <td>NASA</td>\n",
       "      <td>Success</td>\n",
       "      <td>No attempt</td>\n",
       "      <td>8 October 2012</td>\n",
       "      <td>00:35</td>\n",
       "    </tr>\n",
       "    <tr>\n",
       "      <th>4</th>\n",
       "      <td>5</td>\n",
       "      <td>F9 v1.0 B0007.1</td>\n",
       "      <td>CCAFS</td>\n",
       "      <td>SpaceX CRS-2</td>\n",
       "      <td>4877</td>\n",
       "      <td>LEO</td>\n",
       "      <td>NASA</td>\n",
       "      <td>Success</td>\n",
       "      <td>No attempt</td>\n",
       "      <td>1 March 2013</td>\n",
       "      <td>15:10</td>\n",
       "    </tr>\n",
       "  </tbody>\n",
       "</table>\n",
       "</div>"
      ],
      "text/plain": [
       "  Flight No.  Version Booster Launch site  \\\n",
       "0          1  F9 v1.0 B0003.1       CCAFS   \n",
       "1          2  F9 v1.0 B0004.1       CCAFS   \n",
       "2          3  F9 v1.0 B0005.1       CCAFS   \n",
       "3          4  F9 v1.0 B0006.1       CCAFS   \n",
       "4          5  F9 v1.0 B0007.1       CCAFS   \n",
       "\n",
       "                                Payload Payload mass Orbit Customer  \\\n",
       "0  Dragon Spacecraft Qualification Unit          NaN   LEO   SpaceX   \n",
       "1                                Dragon          NaN   LEO     NASA   \n",
       "2                                Dragon         525    LEO     NASA   \n",
       "3                          SpaceX CRS-1        4700    LEO     NASA   \n",
       "4                          SpaceX CRS-2        4877    LEO     NASA   \n",
       "\n",
       "  Launch outcome Booster landing             Date   Time  \n",
       "0        Success         Failure      4 June 2010  18:45  \n",
       "1        Success         Failure  8 December 2010  15:43  \n",
       "2        Success      No attempt      22 May 2012  07:44  \n",
       "3        Success      No attempt   8 October 2012  00:35  \n",
       "4        Success      No attempt     1 March 2013  15:10  "
      ]
     },
     "execution_count": 15,
     "metadata": {},
     "output_type": "execute_result"
    }
   ],
   "source": [
    "df_launch = pd.DataFrame(launch_dict)\n",
    "df_launch.head()"
   ]
  },
  {
   "cell_type": "code",
   "execution_count": 24,
   "id": "96057f6b",
   "metadata": {},
   "outputs": [],
   "source": [
    "# let's download the dataset\n",
    "df_launch.to_csv('SPACEX_TABLE01.csv')"
   ]
  }
 ],
 "metadata": {
  "kernelspec": {
   "display_name": "Python 3",
   "language": "python",
   "name": "python3"
  },
  "language_info": {
   "codemirror_mode": {
    "name": "ipython",
    "version": 3
   },
   "file_extension": ".py",
   "mimetype": "text/x-python",
   "name": "python",
   "nbconvert_exporter": "python",
   "pygments_lexer": "ipython3",
   "version": "3.8.8"
  }
 },
 "nbformat": 4,
 "nbformat_minor": 5
}
