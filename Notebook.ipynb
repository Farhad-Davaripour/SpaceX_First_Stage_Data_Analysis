{
 "cells": [
  {
   "cell_type": "markdown",
   "id": "a5e39d80",
   "metadata": {},
   "source": [
    "__Falcon 9 First Stage Landing Prediction__  \n",
    "\n",
    "SpaceX is a well-known private company famous for several historic milestones in launching rockets and successfully returning the first stage. This capability enabled SpaceX to advertise the Falcon 9 rocket with the price of $62 million which is more than 60% cheaper that the other competitive companies.  \n",
    "\n",
    "Due to the importance of successful first stage landing, the present work uses Machine Learning (ML) models to predict the success of the first stage landing.  \n",
    "\n",
    "The present lab is a part of [Applied Data Science Capstone Course](https://www.coursera.org/learn/applied-data-science-capstone) offered by [Coursera.org](https://www.Coursera.org)"
   ]
  },
  {
   "cell_type": "markdown",
   "id": "506524fe",
   "metadata": {},
   
  },
  {
   "cell_type": "markdown",
   "id": "7690170a",
   "metadata": {},
   "source": [
    "### List of libraries"
   ]
  },
  {
   "cell_type": "code",
   "execution_count": 1,
   "id": "076fec63",
   "metadata": {},
   "outputs": [],
   "source": [
    "# Sklearn libraries\n",
    "from sklearn import preprocessing\n",
    "from sklearn.preprocessing import StandardScaler\n",
    "from sklearn.model_selection import train_test_split , GridSearchCV\n",
    "from sklearn.linear_model import LogisticRegression\n",
    "from sklearn.svm import SVC\n",
    "from sklearn.tree import DecisionTreeClassifier\n",
    "from sklearn.neighbors import KNeighborsClassifier\n",
    "from sklearn.metrics import confusion_matrix,classification_report,accuracy_score"
   ]
  },
  {
   "cell_type": "code",
   "execution_count": 2,
   "id": "617a1296",
   "metadata": {},
   "outputs": [],
   "source": [
    "# Folium libraries\n",
    "import folium\n",
    "from folium.plugins import MarkerCluster,MousePosition\n",
    "from folium.features import DivIcon"
   ]
  },
  {
   "cell_type": "code",
   "execution_count": 3,
   "id": "15866f1b",
   "metadata": {},
   "outputs": [],
   "source": [
    "# all the other libraries\n",
    "import warnings\n",
    "warnings.filterwarnings('ignore')\n",
    "import requests\n",
    "import pandas as pd\n",
    "import numpy as np\n",
    "import datetime\n",
    "import os\n",
    "import matplotlib.pyplot as plt\n",
    "import seaborn as sns\n",
    "from math import sin,cos,sqrt,atan2,radians\n",
    "import dash\n",
    "import dash_html_components as html\n",
    "import dash_core_components as dcc\n",
    "from dash.dependencies import Input,Output\n",
    "import plotly.graph_objects as go\n",
    "import plotly.express as px\n",
    "import plotly\n",
    "%matplotlib inline"
   ]
  },
  {
   "cell_type": "code",
   "execution_count": 4,
   "id": "9a08a9c5",
   "metadata": {},
   "outputs": [],
   "source": [
    "# this will print all the columns in a dataframe\n",
    "pd.set_option('display.max_columns',None)\n",
    "# this will print the all the data in a feature\n",
    "pd.set_option('display.max_colwidth',None)"
   ]
  },
  {
   "cell_type": "markdown",
   "id": "28440ba8",
   "metadata": {},
   "source": [
    "### Data Collection"
   ]
  },
  {
   "cell_type": "code",
   "execution_count": 5,
   "id": "3ba90671",
   "metadata": {},
   "outputs": [],
   "source": [
    "# changing the working directory\n",
    "os.chdir('G:\\My Drive\\Career\\IBM certificate\\Database\\Spacex')"
   ]
  },
  {
   "cell_type": "code",
   "execution_count": 6,
   "id": "cf7d2015",
   "metadata": {},
   "outputs": [],
   "source": [
    "# let's import the initial Json dataset using requests library\n",
    "static_json_url='https://cf-courses-data.s3.us.cloud-object-storage.appdomain.cloud/IBM-DS0321EN-SkillsNetwork/datasets/API_call_spacex_api.json'\n",
    "request = requests.get(static_json_url).json()"
   ]
  },
  {
   "cell_type": "code",
   "execution_count": 7,
   "id": "2bcb4df0",
   "metadata": {},
   "outputs": [
    {
     "data": {
      "text/html": [
       "<div>\n",
       "<style scoped>\n",
       "    .dataframe tbody tr th:only-of-type {\n",
       "        vertical-align: middle;\n",
       "    }\n",
       "\n",
       "    .dataframe tbody tr th {\n",
       "        vertical-align: top;\n",
       "    }\n",
       "\n",
       "    .dataframe thead th {\n",
       "        text-align: right;\n",
       "    }\n",
       "</style>\n",
       "<table border=\"1\" class=\"dataframe\">\n",
       "  <thead>\n",
       "    <tr style=\"text-align: right;\">\n",
       "      <th></th>\n",
       "      <th>static_fire_date_utc</th>\n",
       "      <th>static_fire_date_unix</th>\n",
       "      <th>tbd</th>\n",
       "      <th>net</th>\n",
       "      <th>window</th>\n",
       "      <th>rocket</th>\n",
       "      <th>success</th>\n",
       "      <th>details</th>\n",
       "      <th>crew</th>\n",
       "      <th>ships</th>\n",
       "      <th>capsules</th>\n",
       "      <th>payloads</th>\n",
       "      <th>launchpad</th>\n",
       "      <th>auto_update</th>\n",
       "      <th>failures</th>\n",
       "      <th>flight_number</th>\n",
       "      <th>name</th>\n",
       "      <th>date_utc</th>\n",
       "      <th>date_unix</th>\n",
       "      <th>date_local</th>\n",
       "      <th>date_precision</th>\n",
       "      <th>upcoming</th>\n",
       "      <th>cores</th>\n",
       "      <th>id</th>\n",
       "      <th>fairings.reused</th>\n",
       "      <th>fairings.recovery_attempt</th>\n",
       "      <th>fairings.recovered</th>\n",
       "      <th>fairings.ships</th>\n",
       "      <th>links.patch.small</th>\n",
       "      <th>links.patch.large</th>\n",
       "      <th>links.reddit.campaign</th>\n",
       "      <th>links.reddit.launch</th>\n",
       "      <th>links.reddit.media</th>\n",
       "      <th>links.reddit.recovery</th>\n",
       "      <th>links.flickr.small</th>\n",
       "      <th>links.flickr.original</th>\n",
       "      <th>links.presskit</th>\n",
       "      <th>links.webcast</th>\n",
       "      <th>links.youtube_id</th>\n",
       "      <th>links.article</th>\n",
       "      <th>links.wikipedia</th>\n",
       "      <th>fairings</th>\n",
       "    </tr>\n",
       "  </thead>\n",
       "  <tbody>\n",
       "    <tr>\n",
       "      <th>0</th>\n",
       "      <td>2006-03-17T00:00:00.000Z</td>\n",
       "      <td>1.142554e+09</td>\n",
       "      <td>False</td>\n",
       "      <td>False</td>\n",
       "      <td>0.0</td>\n",
       "      <td>5e9d0d95eda69955f709d1eb</td>\n",
       "      <td>False</td>\n",
       "      <td>Engine failure at 33 seconds and loss of vehicle</td>\n",
       "      <td>[]</td>\n",
       "      <td>[]</td>\n",
       "      <td>[]</td>\n",
       "      <td>[5eb0e4b5b6c3bb0006eeb1e1]</td>\n",
       "      <td>5e9e4502f5090995de566f86</td>\n",
       "      <td>True</td>\n",
       "      <td>[{'time': 33, 'altitude': None, 'reason': 'merlin engine failure'}]</td>\n",
       "      <td>1</td>\n",
       "      <td>FalconSat</td>\n",
       "      <td>2006-03-24T22:30:00.000Z</td>\n",
       "      <td>1143239400</td>\n",
       "      <td>2006-03-25T10:30:00+12:00</td>\n",
       "      <td>hour</td>\n",
       "      <td>False</td>\n",
       "      <td>[{'core': '5e9e289df35918033d3b2623', 'flight': 1, 'gridfins': False, 'legs': False, 'reused': False, 'landing_attempt': False, 'landing_success': None, 'landing_type': None, 'landpad': None}]</td>\n",
       "      <td>5eb87cd9ffd86e000604b32a</td>\n",
       "      <td>False</td>\n",
       "      <td>False</td>\n",
       "      <td>False</td>\n",
       "      <td>[]</td>\n",
       "      <td>https://images2.imgbox.com/3c/0e/T8iJcSN3_o.png</td>\n",
       "      <td>https://images2.imgbox.com/40/e3/GypSkayF_o.png</td>\n",
       "      <td>None</td>\n",
       "      <td>None</td>\n",
       "      <td>None</td>\n",
       "      <td>None</td>\n",
       "      <td>[]</td>\n",
       "      <td>[]</td>\n",
       "      <td>None</td>\n",
       "      <td>https://www.youtube.com/watch?v=0a_00nJ_Y88</td>\n",
       "      <td>0a_00nJ_Y88</td>\n",
       "      <td>https://www.space.com/2196-spacex-inaugural-falcon-1-rocket-lost-launch.html</td>\n",
       "      <td>https://en.wikipedia.org/wiki/DemoSat</td>\n",
       "      <td>NaN</td>\n",
       "    </tr>\n",
       "  </tbody>\n",
       "</table>\n",
       "</div>"
      ],
      "text/plain": [
       "       static_fire_date_utc  static_fire_date_unix    tbd    net  window  \\\n",
       "0  2006-03-17T00:00:00.000Z           1.142554e+09  False  False     0.0   \n",
       "\n",
       "                     rocket  success  \\\n",
       "0  5e9d0d95eda69955f709d1eb    False   \n",
       "\n",
       "                                            details crew ships capsules  \\\n",
       "0  Engine failure at 33 seconds and loss of vehicle   []    []       []   \n",
       "\n",
       "                     payloads                 launchpad  auto_update  \\\n",
       "0  [5eb0e4b5b6c3bb0006eeb1e1]  5e9e4502f5090995de566f86         True   \n",
       "\n",
       "                                                              failures  \\\n",
       "0  [{'time': 33, 'altitude': None, 'reason': 'merlin engine failure'}]   \n",
       "\n",
       "   flight_number       name                  date_utc   date_unix  \\\n",
       "0              1  FalconSat  2006-03-24T22:30:00.000Z  1143239400   \n",
       "\n",
       "                  date_local date_precision  upcoming  \\\n",
       "0  2006-03-25T10:30:00+12:00           hour     False   \n",
       "\n",
       "                                                                                                                                                                                              cores  \\\n",
       "0  [{'core': '5e9e289df35918033d3b2623', 'flight': 1, 'gridfins': False, 'legs': False, 'reused': False, 'landing_attempt': False, 'landing_success': None, 'landing_type': None, 'landpad': None}]   \n",
       "\n",
       "                         id fairings.reused fairings.recovery_attempt  \\\n",
       "0  5eb87cd9ffd86e000604b32a           False                     False   \n",
       "\n",
       "  fairings.recovered fairings.ships  \\\n",
       "0              False             []   \n",
       "\n",
       "                                 links.patch.small  \\\n",
       "0  https://images2.imgbox.com/3c/0e/T8iJcSN3_o.png   \n",
       "\n",
       "                                 links.patch.large links.reddit.campaign  \\\n",
       "0  https://images2.imgbox.com/40/e3/GypSkayF_o.png                  None   \n",
       "\n",
       "  links.reddit.launch links.reddit.media links.reddit.recovery  \\\n",
       "0                None               None                  None   \n",
       "\n",
       "  links.flickr.small links.flickr.original links.presskit  \\\n",
       "0                 []                    []           None   \n",
       "\n",
       "                                 links.webcast links.youtube_id  \\\n",
       "0  https://www.youtube.com/watch?v=0a_00nJ_Y88      0a_00nJ_Y88   \n",
       "\n",
       "                                                                  links.article  \\\n",
       "0  https://www.space.com/2196-spacex-inaugural-falcon-1-rocket-lost-launch.html   \n",
       "\n",
       "                         links.wikipedia  fairings  \n",
       "0  https://en.wikipedia.org/wiki/DemoSat       NaN  "
      ]
     },
     "execution_count": 7,
     "metadata": {},
     "output_type": "execute_result"
    }
   ],
   "source": [
    "# the json file is then converted into a dataframe using Pandas library\n",
    "data = pd.json_normalize(request)\n",
    "data.head(1)"
   ]
  },
  {
   "cell_type": "markdown",
   "id": "707192f2",
   "metadata": {},
   "source": [
    "### Data Preparation"
   ]
  },
  {
   "cell_type": "code",
   "execution_count": 8,
   "id": "7be52b40",
   "metadata": {},
   "outputs": [],
   "source": [
    "# let's take a subset of the dataframe and keep the columns that we need\n",
    "data = data[['rocket', 'payloads', 'launchpad', 'cores', 'flight_number', 'date_utc']]"
   ]
  },
  {
   "cell_type": "code",
   "execution_count": 9,
   "id": "c26039c5",
   "metadata": {},
   "outputs": [],
   "source": [
    "# let's remove the data from the columns cores and payloads with more than 1 value (e.g., list with two elements)\n",
    "data = data[data['cores'].map(len)==1]\n",
    "data = data[data['payloads'].map(len)==1]\n",
    "# now the data in both cores and payloads columns are lists with 1 value. Let's extract those values using map\n",
    "data['cores'] = data['cores'].map(lambda x:x[0])\n",
    "data['payloads'] = data['payloads'].map(lambda x:x[0])"
   ]
  },
  {
   "cell_type": "code",
   "execution_count": 10,
   "id": "7c92a49d",
   "metadata": {},
   "outputs": [],
   "source": [
    "# let's convert date_utc to a datatime datatype\n",
    "data['date'] = pd.to_datetime(data['date_utc']).dt.date"
   ]
  },
  {
   "cell_type": "code",
   "execution_count": 11,
   "id": "6ffc9427",
   "metadata": {},
   "outputs": [],
   "source": [
    "# let's restrict the data to those launches occured before 13/11/2020\n",
    "data = data[data['date'] <= datetime.date(2020,11,13)]"
   ]
  },
  {
   "cell_type": "markdown",
   "id": "6bf15096",
   "metadata": {},
   "source": [
    "### Data extraction from SpaceX REST API"
   ]
  },
  {
   "cell_type": "code",
   "execution_count": 12,
   "id": "6e83e7f0",
   "metadata": {},
   "outputs": [
    {
     "name": "stdout",
     "output_type": "stream",
     "text": [
      "all the lists are completed\n"
     ]
    }
   ],
   "source": [
    "BoosterVersion = []\n",
    "for x in data['rocket']:\n",
    "    response = requests.get(\"https://api.spacexdata.com/v4/rockets/\"+str(x)).json()\n",
    "    BoosterVersion.append(response['name'])\n",
    "print('all the lists are completed')"
   ]
  },
  {
   "cell_type": "code",
   "execution_count": 13,
   "id": "d4f187c9",
   "metadata": {},
   "outputs": [
    {
     "name": "stdout",
     "output_type": "stream",
     "text": [
      "all the lists are completed\n"
     ]
    }
   ],
   "source": [
    "LaunchSite = []\n",
    "Latitude = []\n",
    "Longitude = []\n",
    "for x in data['launchpad']:\n",
    "    response = requests.get(\"https://api.spacexdata.com/v4/launchpads/\"+str(x)).json()\n",
    "    LaunchSite.append(response['name'])\n",
    "    Latitude.append(response['latitude'])\n",
    "    Longitude.append(response['longitude'])\n",
    "print('all the lists are completed')"
   ]
  },
  {
   "cell_type": "code",
   "execution_count": 14,
   "id": "775395d3",
   "metadata": {},
   "outputs": [
    {
     "name": "stdout",
     "output_type": "stream",
     "text": [
      "all the lists are completed\n"
     ]
    }
   ],
   "source": [
    "PayloadMass = []\n",
    "Orbit = []\n",
    "for x in data['payloads']:\n",
    "    response = requests.get(\"https://api.spacexdata.com/v4/payloads/\"+str(x)).json()\n",
    "    PayloadMass.append(response['mass_kg'])\n",
    "    Orbit.append(response['orbit'])\n",
    "print('all the lists are completed')"
   ]
  },
  {
   "cell_type": "code",
   "execution_count": 15,
   "id": "367e60ee",
   "metadata": {},
   "outputs": [
    {
     "name": "stdout",
     "output_type": "stream",
     "text": [
      "all the lists are completed\n"
     ]
    }
   ],
   "source": [
    "Block = []\n",
    "ReusedCount = []\n",
    "Serial = []\n",
    "Outcome=[]\n",
    "Flights = []\n",
    "GridFins = []\n",
    "Reused = []\n",
    "Legs = []\n",
    "LandingPad = []\n",
    "for core in data['cores']:\n",
    "    if core['core']!= None:\n",
    "        response = requests.get(\"https://api.spacexdata.com/v4/cores/\"+str(core['core'])).json()\n",
    "        Block.append(response['block'])\n",
    "        ReusedCount.append(response['reuse_count'])\n",
    "        Serial.append(response['serial'])\n",
    "    else:\n",
    "        Block.append(None)\n",
    "        ReusedCount.append(None)\n",
    "        Serial.append(None)\n",
    "    Outcome.append(str(core['landing_success'])+\" \"+str(core['landing_type']))\n",
    "    Flights.append(core['flight'])\n",
    "    GridFins.append(core['gridfins'])\n",
    "    Reused.append(core['reused'])\n",
    "    Legs.append(core['legs'])\n",
    "    LandingPad.append(core['landpad'])\n",
    "print('all the lists are completed')"
   ]
  },
  {
   "cell_type": "markdown",
   "id": "ae04a7cf",
   "metadata": {},
   "source": [
    "*let's build a dictionary and construct a dataset using the data derived above*"
   ]
  },
  {
   "cell_type": "code",
   "execution_count": 16,
   "id": "db8405c8",
   "metadata": {},
   "outputs": [],
   "source": [
    "launch_dict = {'Flight_number':list(data['flight_number']),\n",
    "               'Date':list(data['date']),\n",
    "               'BoosterVersion':BoosterVersion,\n",
    "               'LaunchSite' : LaunchSite,\n",
    "               'Latitude' : Latitude,\n",
    "               'Longitude' : Longitude,\n",
    "               'PayloadMass' : PayloadMass,\n",
    "               'Orbit' : Orbit,\n",
    "               'Block' : Block,\n",
    "               'ReusedCount': ReusedCount,\n",
    "               'Serial' : Serial,\n",
    "               'Outcome' : Outcome,\n",
    "               'Flights' : Flights,\n",
    "               'GridFins' : GridFins,\n",
    "               'Reused' : Reused,\n",
    "               'Legs' : Legs,\n",
    "               'LandingPad' : LandingPad}\n",
    "# let's convert the above dictionary to a dataset using Pandas\n",
    "data = pd.DataFrame(launch_dict)"
   ]
  },
  {
   "cell_type": "markdown",
   "id": "ff18f4d1",
   "metadata": {},
   "source": [
    "## Data Wrangling"
   ]
  },
  {
   "cell_type": "markdown",
   "id": "04631c93",
   "metadata": {},
   "source": [
    "*In this lab we are only interested data associated with Falcon 9. As such, all the samples for Falcon 1 should be removed.*"
   ]
  },
  {
   "cell_type": "code",
   "execution_count": 17,
   "id": "dcbc8cf6",
   "metadata": {},
   "outputs": [],
   "source": [
    "data_falcone9 = data[data['BoosterVersion']!='Falcon 1'].copy()"
   ]
  },
  {
   "cell_type": "markdown",
   "id": "d3129228",
   "metadata": {},
   "source": [
    "*Since a few samples are removed from the dataset, let's reset the values of the feature flight_number to be used in further data exploratory analysis.*"
   ]
  },
  {
   "cell_type": "code",
   "execution_count": 18,
   "id": "e6d64feb",
   "metadata": {},
   "outputs": [
    {
     "data": {
      "text/html": [
       "<div>\n",
       "<style scoped>\n",
       "    .dataframe tbody tr th:only-of-type {\n",
       "        vertical-align: middle;\n",
       "    }\n",
       "\n",
       "    .dataframe tbody tr th {\n",
       "        vertical-align: top;\n",
       "    }\n",
       "\n",
       "    .dataframe thead th {\n",
       "        text-align: right;\n",
       "    }\n",
       "</style>\n",
       "<table border=\"1\" class=\"dataframe\">\n",
       "  <thead>\n",
       "    <tr style=\"text-align: right;\">\n",
       "      <th></th>\n",
       "      <th>Flight_number</th>\n",
       "      <th>Date</th>\n",
       "      <th>BoosterVersion</th>\n",
       "      <th>LaunchSite</th>\n",
       "      <th>Latitude</th>\n",
       "      <th>Longitude</th>\n",
       "      <th>PayloadMass</th>\n",
       "      <th>Orbit</th>\n",
       "      <th>Block</th>\n",
       "      <th>ReusedCount</th>\n",
       "      <th>Serial</th>\n",
       "      <th>Outcome</th>\n",
       "      <th>Flights</th>\n",
       "      <th>GridFins</th>\n",
       "      <th>Reused</th>\n",
       "      <th>Legs</th>\n",
       "      <th>LandingPad</th>\n",
       "    </tr>\n",
       "  </thead>\n",
       "  <tbody>\n",
       "    <tr>\n",
       "      <th>4</th>\n",
       "      <td>1</td>\n",
       "      <td>2010-06-04</td>\n",
       "      <td>Falcon 9</td>\n",
       "      <td>CCSFS SLC 40</td>\n",
       "      <td>28.561857</td>\n",
       "      <td>-80.577366</td>\n",
       "      <td>NaN</td>\n",
       "      <td>LEO</td>\n",
       "      <td>1.0</td>\n",
       "      <td>0</td>\n",
       "      <td>B0003</td>\n",
       "      <td>None None</td>\n",
       "      <td>1</td>\n",
       "      <td>False</td>\n",
       "      <td>False</td>\n",
       "      <td>False</td>\n",
       "      <td>None</td>\n",
       "    </tr>\n",
       "    <tr>\n",
       "      <th>5</th>\n",
       "      <td>2</td>\n",
       "      <td>2012-05-22</td>\n",
       "      <td>Falcon 9</td>\n",
       "      <td>CCSFS SLC 40</td>\n",
       "      <td>28.561857</td>\n",
       "      <td>-80.577366</td>\n",
       "      <td>525.0</td>\n",
       "      <td>LEO</td>\n",
       "      <td>1.0</td>\n",
       "      <td>0</td>\n",
       "      <td>B0005</td>\n",
       "      <td>None None</td>\n",
       "      <td>1</td>\n",
       "      <td>False</td>\n",
       "      <td>False</td>\n",
       "      <td>False</td>\n",
       "      <td>None</td>\n",
       "    </tr>\n",
       "  </tbody>\n",
       "</table>\n",
       "</div>"
      ],
      "text/plain": [
       "   Flight_number        Date BoosterVersion    LaunchSite   Latitude  \\\n",
       "4              1  2010-06-04       Falcon 9  CCSFS SLC 40  28.561857   \n",
       "5              2  2012-05-22       Falcon 9  CCSFS SLC 40  28.561857   \n",
       "\n",
       "   Longitude  PayloadMass Orbit  Block  ReusedCount Serial    Outcome  \\\n",
       "4 -80.577366          NaN   LEO    1.0            0  B0003  None None   \n",
       "5 -80.577366        525.0   LEO    1.0            0  B0005  None None   \n",
       "\n",
       "   Flights  GridFins  Reused   Legs LandingPad  \n",
       "4        1     False   False  False       None  \n",
       "5        1     False   False  False       None  "
      ]
     },
     "execution_count": 18,
     "metadata": {},
     "output_type": "execute_result"
    }
   ],
   "source": [
    "data_falcone9.loc[:,'Flight_number'] =list(range(1,data_falcone9['Flight_number'].shape[0]+1))\n",
    "data_falcone9.head(2)"
   ]
  },
  {
   "cell_type": "markdown",
   "id": "87de0c4e",
   "metadata": {},
   "source": [
    "*let's find out how many null values exist in the dataset*"
   ]
  },
  {
   "cell_type": "code",
   "execution_count": 38,
   "id": "9e072f8c",
   "metadata": {},
   "outputs": [
    {
     "data": {
      "text/plain": [
       "Flight_number      0\n",
       "Date               0\n",
       "BoosterVersion     0\n",
       "PayloadMass        0\n",
       "Orbit              0\n",
       "LaunchSite         0\n",
       "Outcome            0\n",
       "Flights            0\n",
       "GridFins           0\n",
       "Reused             0\n",
       "Legs               0\n",
       "LandingPad        26\n",
       "Block              0\n",
       "ReusedCount        0\n",
       "Serial             0\n",
       "Longitude          0\n",
       "Latitude           0\n",
       "Class              0\n",
       "dtype: int64"
      ]
     },
     "execution_count": 38,
     "metadata": {},
     "output_type": "execute_result"
    }
   ],
   "source": [
    "data_falcone9.isnull().sum()"
   ]
  },
  {
   "cell_type": "markdown",
   "id": "81ebc2d2",
   "metadata": {},
   "source": [
    "*let's calculate the percentage of missing values for the each column*"
   ]
  },
  {
   "cell_type": "code",
   "execution_count": 36,
   "id": "79130d94",
   "metadata": {
    "scrolled": true
   },
   "outputs": [
    {
     "name": "stdout",
     "output_type": "stream",
     "text": [
      "LandingPad 0.40625\n"
     ]
    }
   ],
   "source": [
    "for index, value in enumerate(data_falcone9.isnull().sum()/data_falcone9.count()):\n",
    "    if value!=0.0:\n",
    "        print(data_falcone9.columns[index],value)"
   ]
  },
  {
   "cell_type": "markdown",
   "id": "ec1f102c",
   "metadata": {},
   "source": [
    "**Discussion**: The payloadmass and landingpad have null values. Let's replace the missing values of column payloadmass with the average value of the column."
   ]
  },
  {
   "cell_type": "code",
   "execution_count": 20,
   "id": "fe35af67",
   "metadata": {},
   "outputs": [],
   "source": [
    "PayloadMass_mean = data_falcone9['PayloadMass'].notnull().mean()\n",
    "data_falcone9['PayloadMass'] = data_falcone9['PayloadMass'].replace(np.nan,PayloadMass_mean)"
   ]
  },
  {
   "cell_type": "markdown",
   "id": "bf0ebd77",
   "metadata": {},
   "source": [
    "*let's sort the columns in the dataframe*"
   ]
  },
  {
   "cell_type": "code",
   "execution_count": 21,
   "id": "a8a2e79e",
   "metadata": {},
   "outputs": [
    {
     "data": {
      "text/html": [
       "<div>\n",
       "<style scoped>\n",
       "    .dataframe tbody tr th:only-of-type {\n",
       "        vertical-align: middle;\n",
       "    }\n",
       "\n",
       "    .dataframe tbody tr th {\n",
       "        vertical-align: top;\n",
       "    }\n",
       "\n",
       "    .dataframe thead th {\n",
       "        text-align: right;\n",
       "    }\n",
       "</style>\n",
       "<table border=\"1\" class=\"dataframe\">\n",
       "  <thead>\n",
       "    <tr style=\"text-align: right;\">\n",
       "      <th></th>\n",
       "      <th>Flight_number</th>\n",
       "      <th>Date</th>\n",
       "      <th>BoosterVersion</th>\n",
       "      <th>PayloadMass</th>\n",
       "      <th>Orbit</th>\n",
       "      <th>LaunchSite</th>\n",
       "      <th>Outcome</th>\n",
       "      <th>Flights</th>\n",
       "      <th>GridFins</th>\n",
       "      <th>Reused</th>\n",
       "      <th>Legs</th>\n",
       "      <th>LandingPad</th>\n",
       "      <th>Block</th>\n",
       "      <th>ReusedCount</th>\n",
       "      <th>Serial</th>\n",
       "      <th>Longitude</th>\n",
       "      <th>Latitude</th>\n",
       "    </tr>\n",
       "  </thead>\n",
       "  <tbody>\n",
       "    <tr>\n",
       "      <th>0</th>\n",
       "      <td>1</td>\n",
       "      <td>2010-06-04</td>\n",
       "      <td>Falcon 9</td>\n",
       "      <td>0.944444</td>\n",
       "      <td>LEO</td>\n",
       "      <td>CCSFS SLC 40</td>\n",
       "      <td>None None</td>\n",
       "      <td>1</td>\n",
       "      <td>False</td>\n",
       "      <td>False</td>\n",
       "      <td>False</td>\n",
       "      <td>None</td>\n",
       "      <td>1.0</td>\n",
       "      <td>0</td>\n",
       "      <td>B0003</td>\n",
       "      <td>-80.577366</td>\n",
       "      <td>28.561857</td>\n",
       "    </tr>\n",
       "    <tr>\n",
       "      <th>1</th>\n",
       "      <td>2</td>\n",
       "      <td>2012-05-22</td>\n",
       "      <td>Falcon 9</td>\n",
       "      <td>525.000000</td>\n",
       "      <td>LEO</td>\n",
       "      <td>CCSFS SLC 40</td>\n",
       "      <td>None None</td>\n",
       "      <td>1</td>\n",
       "      <td>False</td>\n",
       "      <td>False</td>\n",
       "      <td>False</td>\n",
       "      <td>None</td>\n",
       "      <td>1.0</td>\n",
       "      <td>0</td>\n",
       "      <td>B0005</td>\n",
       "      <td>-80.577366</td>\n",
       "      <td>28.561857</td>\n",
       "    </tr>\n",
       "  </tbody>\n",
       "</table>\n",
       "</div>"
      ],
      "text/plain": [
       "   Flight_number        Date BoosterVersion  PayloadMass Orbit    LaunchSite  \\\n",
       "0              1  2010-06-04       Falcon 9     0.944444   LEO  CCSFS SLC 40   \n",
       "1              2  2012-05-22       Falcon 9   525.000000   LEO  CCSFS SLC 40   \n",
       "\n",
       "     Outcome  Flights  GridFins  Reused   Legs LandingPad  Block  ReusedCount  \\\n",
       "0  None None        1     False   False  False       None    1.0            0   \n",
       "1  None None        1     False   False  False       None    1.0            0   \n",
       "\n",
       "  Serial  Longitude   Latitude  \n",
       "0  B0003 -80.577366  28.561857  \n",
       "1  B0005 -80.577366  28.561857  "
      ]
     },
     "execution_count": 21,
     "metadata": {},
     "output_type": "execute_result"
    }
   ],
   "source": [
    "df_col_list = ['Flight_number', 'Date','BoosterVersion','PayloadMass','Orbit',\n",
    "               'LaunchSite','Outcome','Flights','GridFins','Reused','Legs',\n",
    "               'LandingPad','Block','ReusedCount','Serial','Longitude','Latitude']\n",
    "data_falcone9 = pd.DataFrame.reindex(data_falcone9 , columns=df_col_list)\n",
    "data_falcone9.reset_index(inplace=True,drop=True)\n",
    "data_falcone9.head(2)"
   ]
  },
  {
   "cell_type": "markdown",
   "id": "360d8e4f",
   "metadata": {},
   "source": [
    "#### Restructuring the outcomes"
   ]
  },
  {
   "cell_type": "code",
   "execution_count": 25,
   "id": "618e8487",
   "metadata": {},
   "outputs": [
    {
     "name": "stdout",
     "output_type": "stream",
     "text": [
      "0 True ASDS\n",
      "1 None None\n",
      "2 True RTLS\n",
      "3 False ASDS\n",
      "4 True Ocean\n",
      "5 None ASDS\n",
      "6 False Ocean\n",
      "7 False RTLS\n"
     ]
    }
   ],
   "source": [
    "# let's find out what are the outcome types\n",
    "for i,outcome in enumerate(landing_outcomes.keys()):\n",
    "    print(i,outcome)"
   ]
  },
  {
   "cell_type": "code",
   "execution_count": 26,
   "id": "13f617f5",
   "metadata": {},
   "outputs": [
    {
     "data": {
      "text/plain": [
       "{'False ASDS', 'False Ocean', 'False RTLS', 'None ASDS', 'None None'}"
      ]
     },
     "execution_count": 26,
     "metadata": {},
     "output_type": "execute_result"
    }
   ],
   "source": [
    "# let's create a set of all non successful outcomes \n",
    "bad_outcomes = set(landing_outcomes.keys()[[1,3,5,6,7]])\n",
    "bad_outcomes"
   ]
  },
  {
   "cell_type": "code",
   "execution_count": 28,
   "id": "6705ed9a",
   "metadata": {},
   "outputs": [],
   "source": [
    "# let's convert the outcome values into numeric values (0 not successfull and 1 successful)\n",
    "Landing_class = []\n",
    "for outcome in data_falcone9['Outcome'].values:\n",
    "    if outcome in bad_outcomes:\n",
    "        Landing_class.append(0)\n",
    "    else:\n",
    "        Landing_class.append(1)"
   ]
  },
  {
   "cell_type": "code",
   "execution_count": 30,
   "id": "77e81da7",
   "metadata": {},
   "outputs": [
    {
     "data": {
      "text/html": [
       "<div>\n",
       "<style scoped>\n",
       "    .dataframe tbody tr th:only-of-type {\n",
       "        vertical-align: middle;\n",
       "    }\n",
       "\n",
       "    .dataframe tbody tr th {\n",
       "        vertical-align: top;\n",
       "    }\n",
       "\n",
       "    .dataframe thead th {\n",
       "        text-align: right;\n",
       "    }\n",
       "</style>\n",
       "<table border=\"1\" class=\"dataframe\">\n",
       "  <thead>\n",
       "    <tr style=\"text-align: right;\">\n",
       "      <th></th>\n",
       "      <th>Flight_number</th>\n",
       "      <th>Date</th>\n",
       "      <th>BoosterVersion</th>\n",
       "      <th>PayloadMass</th>\n",
       "      <th>Orbit</th>\n",
       "      <th>LaunchSite</th>\n",
       "      <th>Outcome</th>\n",
       "      <th>Flights</th>\n",
       "      <th>GridFins</th>\n",
       "      <th>Reused</th>\n",
       "      <th>Legs</th>\n",
       "      <th>LandingPad</th>\n",
       "      <th>Block</th>\n",
       "      <th>ReusedCount</th>\n",
       "      <th>Serial</th>\n",
       "      <th>Longitude</th>\n",
       "      <th>Latitude</th>\n",
       "      <th>Class</th>\n",
       "    </tr>\n",
       "  </thead>\n",
       "  <tbody>\n",
       "    <tr>\n",
       "      <th>0</th>\n",
       "      <td>1</td>\n",
       "      <td>2010-06-04</td>\n",
       "      <td>Falcon 9</td>\n",
       "      <td>0.944444</td>\n",
       "      <td>LEO</td>\n",
       "      <td>CCSFS SLC 40</td>\n",
       "      <td>None None</td>\n",
       "      <td>1</td>\n",
       "      <td>False</td>\n",
       "      <td>False</td>\n",
       "      <td>False</td>\n",
       "      <td>None</td>\n",
       "      <td>1.0</td>\n",
       "      <td>0</td>\n",
       "      <td>B0003</td>\n",
       "      <td>-80.577366</td>\n",
       "      <td>28.561857</td>\n",
       "      <td>0</td>\n",
       "    </tr>\n",
       "    <tr>\n",
       "      <th>1</th>\n",
       "      <td>2</td>\n",
       "      <td>2012-05-22</td>\n",
       "      <td>Falcon 9</td>\n",
       "      <td>525.000000</td>\n",
       "      <td>LEO</td>\n",
       "      <td>CCSFS SLC 40</td>\n",
       "      <td>None None</td>\n",
       "      <td>1</td>\n",
       "      <td>False</td>\n",
       "      <td>False</td>\n",
       "      <td>False</td>\n",
       "      <td>None</td>\n",
       "      <td>1.0</td>\n",
       "      <td>0</td>\n",
       "      <td>B0005</td>\n",
       "      <td>-80.577366</td>\n",
       "      <td>28.561857</td>\n",
       "      <td>0</td>\n",
       "    </tr>\n",
       "    <tr>\n",
       "      <th>2</th>\n",
       "      <td>3</td>\n",
       "      <td>2013-03-01</td>\n",
       "      <td>Falcon 9</td>\n",
       "      <td>677.000000</td>\n",
       "      <td>ISS</td>\n",
       "      <td>CCSFS SLC 40</td>\n",
       "      <td>None None</td>\n",
       "      <td>1</td>\n",
       "      <td>False</td>\n",
       "      <td>False</td>\n",
       "      <td>False</td>\n",
       "      <td>None</td>\n",
       "      <td>1.0</td>\n",
       "      <td>0</td>\n",
       "      <td>B0007</td>\n",
       "      <td>-80.577366</td>\n",
       "      <td>28.561857</td>\n",
       "      <td>0</td>\n",
       "    </tr>\n",
       "    <tr>\n",
       "      <th>3</th>\n",
       "      <td>4</td>\n",
       "      <td>2013-09-29</td>\n",
       "      <td>Falcon 9</td>\n",
       "      <td>500.000000</td>\n",
       "      <td>PO</td>\n",
       "      <td>VAFB SLC 4E</td>\n",
       "      <td>False Ocean</td>\n",
       "      <td>1</td>\n",
       "      <td>False</td>\n",
       "      <td>False</td>\n",
       "      <td>False</td>\n",
       "      <td>None</td>\n",
       "      <td>1.0</td>\n",
       "      <td>0</td>\n",
       "      <td>B1003</td>\n",
       "      <td>-120.610829</td>\n",
       "      <td>34.632093</td>\n",
       "      <td>0</td>\n",
       "    </tr>\n",
       "    <tr>\n",
       "      <th>4</th>\n",
       "      <td>5</td>\n",
       "      <td>2013-12-03</td>\n",
       "      <td>Falcon 9</td>\n",
       "      <td>3170.000000</td>\n",
       "      <td>GTO</td>\n",
       "      <td>CCSFS SLC 40</td>\n",
       "      <td>None None</td>\n",
       "      <td>1</td>\n",
       "      <td>False</td>\n",
       "      <td>False</td>\n",
       "      <td>False</td>\n",
       "      <td>None</td>\n",
       "      <td>1.0</td>\n",
       "      <td>0</td>\n",
       "      <td>B1004</td>\n",
       "      <td>-80.577366</td>\n",
       "      <td>28.561857</td>\n",
       "      <td>0</td>\n",
       "    </tr>\n",
       "  </tbody>\n",
       "</table>\n",
       "</div>"
      ],
      "text/plain": [
       "   Flight_number        Date BoosterVersion  PayloadMass Orbit    LaunchSite  \\\n",
       "0              1  2010-06-04       Falcon 9     0.944444   LEO  CCSFS SLC 40   \n",
       "1              2  2012-05-22       Falcon 9   525.000000   LEO  CCSFS SLC 40   \n",
       "2              3  2013-03-01       Falcon 9   677.000000   ISS  CCSFS SLC 40   \n",
       "3              4  2013-09-29       Falcon 9   500.000000    PO   VAFB SLC 4E   \n",
       "4              5  2013-12-03       Falcon 9  3170.000000   GTO  CCSFS SLC 40   \n",
       "\n",
       "       Outcome  Flights  GridFins  Reused   Legs LandingPad  Block  \\\n",
       "0    None None        1     False   False  False       None    1.0   \n",
       "1    None None        1     False   False  False       None    1.0   \n",
       "2    None None        1     False   False  False       None    1.0   \n",
       "3  False Ocean        1     False   False  False       None    1.0   \n",
       "4    None None        1     False   False  False       None    1.0   \n",
       "\n",
       "   ReusedCount Serial   Longitude   Latitude  Class  \n",
       "0            0  B0003  -80.577366  28.561857      0  \n",
       "1            0  B0005  -80.577366  28.561857      0  \n",
       "2            0  B0007  -80.577366  28.561857      0  \n",
       "3            0  B1003 -120.610829  34.632093      0  \n",
       "4            0  B1004  -80.577366  28.561857      0  "
      ]
     },
     "execution_count": 30,
     "metadata": {},
     "output_type": "execute_result"
    }
   ],
   "source": [
    "# now let' create the target variable (class) which includes two clasesse 0 and 1\n",
    "data_falcone9['Class'] = Landing_class\n",
    "data_falcone9.head()"
   ]
  },
  {
   "cell_type": "markdown",
   "id": "6348a78f",
   "metadata": {},
   "source": [
    "*the success rate is presented as below*"
   ]
  },
  {
   "cell_type": "code",
   "execution_count": 34,
   "id": "5f8bb489",
   "metadata": {},
   "outputs": [
    {
     "name": "stdout",
     "output_type": "stream",
     "text": [
      "The overal success rate is : 0.67\n"
     ]
    }
   ],
   "source": [
    "# let's find out what the overal success rate is.\n",
    "print(f\"The overal success rate is : {round(data_falcone9['Class'].mean(),2)}\")"
   ]
  },
  {
   "cell_type": "markdown",
   "id": "3539d0a9",
   "metadata": {},
   "source": [
    "### Exploratory Data Analysis (EDA)"
   ]
  },
  {
   "cell_type": "markdown",
   "id": "ec630166",
   "metadata": {},
   "source": [
    "*let's find the data types for each column*"
   ]
  },
  {
   "cell_type": "code",
   "execution_count": 37,
   "id": "4ee548b8",
   "metadata": {},
   "outputs": [
    {
     "name": "stdout",
     "output_type": "stream",
     "text": [
      "<class 'pandas.core.frame.DataFrame'>\n",
      "RangeIndex: 90 entries, 0 to 89\n",
      "Data columns (total 18 columns):\n",
      " #   Column          Non-Null Count  Dtype  \n",
      "---  ------          --------------  -----  \n",
      " 0   Flight_number   90 non-null     int64  \n",
      " 1   Date            90 non-null     object \n",
      " 2   BoosterVersion  90 non-null     object \n",
      " 3   PayloadMass     90 non-null     float64\n",
      " 4   Orbit           90 non-null     object \n",
      " 5   LaunchSite      90 non-null     object \n",
      " 6   Outcome         90 non-null     object \n",
      " 7   Flights         90 non-null     int64  \n",
      " 8   GridFins        90 non-null     bool   \n",
      " 9   Reused          90 non-null     bool   \n",
      " 10  Legs            90 non-null     bool   \n",
      " 11  LandingPad      64 non-null     object \n",
      " 12  Block           90 non-null     float64\n",
      " 13  ReusedCount     90 non-null     int64  \n",
      " 14  Serial          90 non-null     object \n",
      " 15  Longitude       90 non-null     float64\n",
      " 16  Latitude        90 non-null     float64\n",
      " 17  Class           90 non-null     int64  \n",
      "dtypes: bool(3), float64(4), int64(4), object(7)\n",
      "memory usage: 10.9+ KB\n"
     ]
    }
   ],
   "source": [
    "data_falcone9.info()"
   ]
  },
  {
   "cell_type": "markdown",
   "id": "000ee000",
   "metadata": {},
   "source": [
    "*let's calculate the number of launched on each site*"
   ]
  },
  {
   "cell_type": "code",
   "execution_count": 39,
   "id": "4824b264",
   "metadata": {},
   "outputs": [
    {
     "data": {
      "text/plain": [
       "CCSFS SLC 40    55\n",
       "KSC LC 39A      22\n",
       "VAFB SLC 4E     13\n",
       "Name: LaunchSite, dtype: int64"
      ]
     },
     "execution_count": 39,
     "metadata": {},
     "output_type": "execute_result"
    }
   ],
   "source": [
    "data_falcone9['LaunchSite'].value_counts()"
   ]
  },
  {
   "cell_type": "markdown",
   "id": "414622a4",
   "metadata": {},
   "source": [
    "**Discussion**: The results above indicate that the number of launches from CCSFS SLC 40 is significantly higher than the other two. This could affect the success rate obtained from this site relative to the other two."
   ]
  },
  {
   "cell_type": "markdown",
   "id": "5b873805",
   "metadata": {},
   "source": [
    "*lets find the number of mission outcome per orbit type*"
   ]
  },
  {
   "cell_type": "code",
   "execution_count": 41,
   "id": "df32f0ea",
   "metadata": {},
   "outputs": [
    {
     "data": {
      "text/plain": [
       "GTO      27\n",
       "ISS      21\n",
       "VLEO     14\n",
       "PO        9\n",
       "LEO       7\n",
       "SSO       5\n",
       "MEO       3\n",
       "ES-L1     1\n",
       "GEO       1\n",
       "HEO       1\n",
       "SO        1\n",
       "Name: Orbit, dtype: int64"
      ]
     },
     "execution_count": 41,
     "metadata": {},
     "output_type": "execute_result"
    }
   ],
   "source": [
    "data_falcone9['Orbit'].value_counts()"
   ]
  },
  {
   "cell_type": "markdown",
   "id": "045f43a9",
   "metadata": {},
   "source": [
    "**Discussion**: The findings above indicate that some orbit classes have only 1 launch which could be misleading when visualizing for instance the success rate of for these orbit classes."
   ]
  },
  {
   "cell_type": "markdown",
   "id": "0330040d",
   "metadata": {},
   "source": [
    "### Visualization"
   ]
  },
  {
   "cell_type": "code",
   "execution_count": 42,
   "id": "939feefd",
   "metadata": {},
   "outputs": [
    {
     "data": {
      "image/png": "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\n",
      "text/plain": [
       "<Figure size 1482.38x360 with 1 Axes>"
      ]
     },
     "metadata": {
      "needs_background": "light"
     },
     "output_type": "display_data"
    }
   ],
   "source": [
    "# let's investigate the relation between flight number and payload mass\n",
    "sns.catplot(data = data_falcone9,x ='Flight_number',y='PayloadMass',hue='Class',aspect=4)\n",
    "plt.xlabel('Flight number',fontsize=20)\n",
    "plt.ylabel('Pay load mass',fontsize=20)\n",
    "plt.show()"
   ]
  },
  {
   "cell_type": "markdown",
   "id": "257c1bc6",
   "metadata": {},
   "source": [
    "**Discussion**: From the plot above it is hard to say how payload mass affects the success rate. Although in higher pay load mass the success rate is pretty high. However, it is clear that by increasing the flight number after 70th launch the success rate is very high."
   ]
  },
  {
   "cell_type": "code",
   "execution_count": 43,
   "id": "0e2e6afd",
   "metadata": {},
   "outputs": [
    {
     "data": {
      "image/png": "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\n",
      "text/plain": [
       "<Figure size 1482.38x360 with 1 Axes>"
      ]
     },
     "metadata": {
      "needs_background": "light"
     },
     "output_type": "display_data"
    }
   ],
   "source": [
    "# let's investigate the relation between flight number and launch site\n",
    "sns.catplot(data = data_falcone9,x ='Flight_number',y='LaunchSite',hue='Class',aspect=4)\n",
    "plt.xlabel('Flight number',fontsize=20)\n",
    "plt.ylabel('Launch site',fontsize=20)\n",
    "plt.show()"
   ]
  },
  {
   "cell_type": "markdown",
   "id": "ac394a51",
   "metadata": {},
   "source": [
    "**Discussion**: The plot above reveals the pattern for each launch site that by increasing the trials the success rate is increasing. In all cases the last few flights were all successful."
   ]
  },
  {
   "cell_type": "code",
   "execution_count": 44,
   "id": "deadd8fc",
   "metadata": {},
   "outputs": [
    {
     "data": {
      "image/png": "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\n",
      "text/plain": [
       "<Figure size 576x288 with 1 Axes>"
      ]
     },
     "metadata": {
      "needs_background": "light"
     },
     "output_type": "display_data"
    }
   ],
   "source": [
    "# let's investigate the success rate for each orbit type\n",
    "plt.subplots(figsize=(8,4))\n",
    "data_gb_orbit = data_falcone9.groupby('Orbit').mean().reset_index()\n",
    "sns.barplot(data=data_gb_orbit,x = 'Orbit',y = 'Class')\n",
    "plt.ylabel('Success rate')\n",
    "plt.title('Success rate for each orbit')\n",
    "plt.show()"
   ]
  },
  {
   "cell_type": "code",
   "execution_count": 46,
   "id": "0d221ce2",
   "metadata": {},
   "outputs": [
    {
     "data": {
      "image/png": "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\n",
      "text/plain": [
       "<Figure size 432x288 with 1 Axes>"
      ]
     },
     "metadata": {
      "needs_background": "light"
     },
     "output_type": "display_data"
    }
   ],
   "source": [
    "# let's find out the number of flights sent to each orbit type\n",
    "sns.scatterplot(data=data_falcone9,x='Flight_number',y='Orbit',hue='Class')\n",
    "plt.show()"
   ]
  },
  {
   "cell_type": "markdown",
   "id": "c582e205",
   "metadata": {},
   "source": [
    "**Discussion**: This plot shows why the success rate of orbit HEO and GEO are hight. This is due to the fact that the number of flights are very low (i.e., only 1) for these orbit types. However, the success rate obtained for for orbit types VLEO, GTO, ISS, PO and LEO could bring more reliable insights."
   ]
  },
  {
   "cell_type": "code",
   "execution_count": 47,
   "id": "4bb3d2c7",
   "metadata": {},
   "outputs": [
    {
     "data": {
      "image/png": "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\n",
      "text/plain": [
       "<Figure size 432x288 with 1 Axes>"
      ]
     },
     "metadata": {
      "needs_background": "light"
     },
     "output_type": "display_data"
    }
   ],
   "source": [
    "# let's visualize the relation between orbit types and payload mass\n",
    "sns.scatterplot(data=data_falcone9,x='Orbit',y='PayloadMass',hue='Class')\n",
    "plt.show()"
   ]
  },
  {
   "cell_type": "markdown",
   "id": "ff90c88e",
   "metadata": {},
   "source": [
    "**Discussion**: Some of the orbit types have got significantly higher payload masses. Also, the plot above shows the heavier the payload, the higher the success rate. However, for GTO is is hard to describe the effect of payload mass on the success rate."
   ]
  },
  {
   "cell_type": "code",
   "execution_count": 51,
   "id": "e7949ec5",
   "metadata": {},
   "outputs": [
    {
     "data": {
      "image/png": "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\n",
      "text/plain": [
       "<Figure size 432x288 with 1 Axes>"
      ]
     },
     "metadata": {
      "needs_background": "light"
     },
     "output_type": "display_data"
    }
   ],
   "source": [
    "# let's visualize the success rate change over the years\n",
    "data_falcone9['Date']=pd.to_datetime(data_falcone9['Date'],format='%Y-%m-%d')\n",
    "years = pd.DatetimeIndex(data_falcone9['Date']).year\n",
    "data_falcone9['Date_year'] = list(years)\n",
    "sns.lineplot(data=data_falcone9,x='Date_year',y='Class')\n",
    "plt.title('The success rate change over the years')\n",
    "plt.show()"
   ]
  },
  {
   "cell_type": "markdown",
   "id": "675cbd55",
   "metadata": {},
   "source": [
    "**Discussion**: The findings displayed above is very promising as the success rate is keep increasing except in the year of 2018."
   ]
  },
  {
   "cell_type": "markdown",
   "id": "2d05df6c",
   "metadata": {},
   "source": [
    "*the variables below are expected to affect the success rate the most and will be used for building machine learning models*"
   ]
  },
  {
   "cell_type": "code",
   "execution_count": 53,
   "id": "e3f7100f",
   "metadata": {},
   "outputs": [
    {
     "data": {
      "text/html": [
       "<div>\n",
       "<style scoped>\n",
       "    .dataframe tbody tr th:only-of-type {\n",
       "        vertical-align: middle;\n",
       "    }\n",
       "\n",
       "    .dataframe tbody tr th {\n",
       "        vertical-align: top;\n",
       "    }\n",
       "\n",
       "    .dataframe thead th {\n",
       "        text-align: right;\n",
       "    }\n",
       "</style>\n",
       "<table border=\"1\" class=\"dataframe\">\n",
       "  <thead>\n",
       "    <tr style=\"text-align: right;\">\n",
       "      <th></th>\n",
       "      <th>Flight_number</th>\n",
       "      <th>PayloadMass</th>\n",
       "      <th>Orbit</th>\n",
       "      <th>LaunchSite</th>\n",
       "      <th>Flights</th>\n",
       "      <th>GridFins</th>\n",
       "      <th>Reused</th>\n",
       "      <th>Legs</th>\n",
       "      <th>LandingPad</th>\n",
       "      <th>Block</th>\n",
       "      <th>ReusedCount</th>\n",
       "      <th>Serial</th>\n",
       "      <th>Class</th>\n",
       "    </tr>\n",
       "  </thead>\n",
       "  <tbody>\n",
       "    <tr>\n",
       "      <th>0</th>\n",
       "      <td>1</td>\n",
       "      <td>0.944444</td>\n",
       "      <td>LEO</td>\n",
       "      <td>CCSFS SLC 40</td>\n",
       "      <td>1</td>\n",
       "      <td>False</td>\n",
       "      <td>False</td>\n",
       "      <td>False</td>\n",
       "      <td>None</td>\n",
       "      <td>1.0</td>\n",
       "      <td>0</td>\n",
       "      <td>B0003</td>\n",
       "      <td>0</td>\n",
       "    </tr>\n",
       "    <tr>\n",
       "      <th>1</th>\n",
       "      <td>2</td>\n",
       "      <td>525.000000</td>\n",
       "      <td>LEO</td>\n",
       "      <td>CCSFS SLC 40</td>\n",
       "      <td>1</td>\n",
       "      <td>False</td>\n",
       "      <td>False</td>\n",
       "      <td>False</td>\n",
       "      <td>None</td>\n",
       "      <td>1.0</td>\n",
       "      <td>0</td>\n",
       "      <td>B0005</td>\n",
       "      <td>0</td>\n",
       "    </tr>\n",
       "    <tr>\n",
       "      <th>2</th>\n",
       "      <td>3</td>\n",
       "      <td>677.000000</td>\n",
       "      <td>ISS</td>\n",
       "      <td>CCSFS SLC 40</td>\n",
       "      <td>1</td>\n",
       "      <td>False</td>\n",
       "      <td>False</td>\n",
       "      <td>False</td>\n",
       "      <td>None</td>\n",
       "      <td>1.0</td>\n",
       "      <td>0</td>\n",
       "      <td>B0007</td>\n",
       "      <td>0</td>\n",
       "    </tr>\n",
       "    <tr>\n",
       "      <th>3</th>\n",
       "      <td>4</td>\n",
       "      <td>500.000000</td>\n",
       "      <td>PO</td>\n",
       "      <td>VAFB SLC 4E</td>\n",
       "      <td>1</td>\n",
       "      <td>False</td>\n",
       "      <td>False</td>\n",
       "      <td>False</td>\n",
       "      <td>None</td>\n",
       "      <td>1.0</td>\n",
       "      <td>0</td>\n",
       "      <td>B1003</td>\n",
       "      <td>0</td>\n",
       "    </tr>\n",
       "    <tr>\n",
       "      <th>4</th>\n",
       "      <td>5</td>\n",
       "      <td>3170.000000</td>\n",
       "      <td>GTO</td>\n",
       "      <td>CCSFS SLC 40</td>\n",
       "      <td>1</td>\n",
       "      <td>False</td>\n",
       "      <td>False</td>\n",
       "      <td>False</td>\n",
       "      <td>None</td>\n",
       "      <td>1.0</td>\n",
       "      <td>0</td>\n",
       "      <td>B1004</td>\n",
       "      <td>0</td>\n",
       "    </tr>\n",
       "  </tbody>\n",
       "</table>\n",
       "</div>"
      ],
      "text/plain": [
       "   Flight_number  PayloadMass Orbit    LaunchSite  Flights  GridFins  Reused  \\\n",
       "0              1     0.944444   LEO  CCSFS SLC 40        1     False   False   \n",
       "1              2   525.000000   LEO  CCSFS SLC 40        1     False   False   \n",
       "2              3   677.000000   ISS  CCSFS SLC 40        1     False   False   \n",
       "3              4   500.000000    PO   VAFB SLC 4E        1     False   False   \n",
       "4              5  3170.000000   GTO  CCSFS SLC 40        1     False   False   \n",
       "\n",
       "    Legs LandingPad  Block  ReusedCount Serial  Class  \n",
       "0  False       None    1.0            0  B0003      0  \n",
       "1  False       None    1.0            0  B0005      0  \n",
       "2  False       None    1.0            0  B0007      0  \n",
       "3  False       None    1.0            0  B1003      0  \n",
       "4  False       None    1.0            0  B1004      0  "
      ]
     },
     "execution_count": 53,
     "metadata": {},
     "output_type": "execute_result"
    }
   ],
   "source": [
    "features = data_falcone9[['Flight_number', 'PayloadMass', 'Orbit', 'LaunchSite', 'Flights', 'GridFins',\n",
    "                          'Reused', 'Legs', 'LandingPad', 'Block', 'ReusedCount', 'Serial','Class']]\n",
    "features.head()"
   ]
  },
  {
   "cell_type": "markdown",
   "id": "889863e0",
   "metadata": {},
   "source": [
    "*let's convert categorical data to numerical values*"
   ]
  },
  {
   "cell_type": "code",
   "execution_count": 54,
   "id": "ba1f36bf",
   "metadata": {},
   "outputs": [
    {
     "data": {
      "text/html": [
       "<div>\n",
       "<style scoped>\n",
       "    .dataframe tbody tr th:only-of-type {\n",
       "        vertical-align: middle;\n",
       "    }\n",
       "\n",
       "    .dataframe tbody tr th {\n",
       "        vertical-align: top;\n",
       "    }\n",
       "\n",
       "    .dataframe thead th {\n",
       "        text-align: right;\n",
       "    }\n",
       "</style>\n",
       "<table border=\"1\" class=\"dataframe\">\n",
       "  <thead>\n",
       "    <tr style=\"text-align: right;\">\n",
       "      <th></th>\n",
       "      <th>ES-L1</th>\n",
       "      <th>GEO</th>\n",
       "      <th>GTO</th>\n",
       "      <th>HEO</th>\n",
       "      <th>ISS</th>\n",
       "      <th>LEO</th>\n",
       "      <th>MEO</th>\n",
       "      <th>PO</th>\n",
       "      <th>SO</th>\n",
       "      <th>SSO</th>\n",
       "      <th>VLEO</th>\n",
       "      <th>CCSFS SLC 40</th>\n",
       "      <th>KSC LC 39A</th>\n",
       "      <th>VAFB SLC 4E</th>\n",
       "      <th>5e9e3032383ecb267a34e7c7</th>\n",
       "      <th>5e9e3032383ecb554034e7c9</th>\n",
       "      <th>5e9e3032383ecb6bb234e7ca</th>\n",
       "      <th>5e9e3032383ecb761634e7cb</th>\n",
       "      <th>5e9e3033383ecbb9e534e7cc</th>\n",
       "      <th>B0003</th>\n",
       "      <th>B0005</th>\n",
       "      <th>B0007</th>\n",
       "      <th>B1003</th>\n",
       "      <th>B1004</th>\n",
       "      <th>B1005</th>\n",
       "      <th>B1006</th>\n",
       "      <th>B1007</th>\n",
       "      <th>B1008</th>\n",
       "      <th>B1010</th>\n",
       "      <th>B1011</th>\n",
       "      <th>B1012</th>\n",
       "      <th>B1013</th>\n",
       "      <th>B1015</th>\n",
       "      <th>B1016</th>\n",
       "      <th>B1017</th>\n",
       "      <th>B1018</th>\n",
       "      <th>B1019</th>\n",
       "      <th>B1020</th>\n",
       "      <th>B1021</th>\n",
       "      <th>B1022</th>\n",
       "      <th>B1023</th>\n",
       "      <th>B1025</th>\n",
       "      <th>B1026</th>\n",
       "      <th>B1028</th>\n",
       "      <th>B1029</th>\n",
       "      <th>B1030</th>\n",
       "      <th>B1031</th>\n",
       "      <th>B1032</th>\n",
       "      <th>B1034</th>\n",
       "      <th>B1035</th>\n",
       "      <th>B1036</th>\n",
       "      <th>B1037</th>\n",
       "      <th>B1038</th>\n",
       "      <th>B1039</th>\n",
       "      <th>B1040</th>\n",
       "      <th>B1041</th>\n",
       "      <th>B1042</th>\n",
       "      <th>B1043</th>\n",
       "      <th>B1044</th>\n",
       "      <th>B1045</th>\n",
       "      <th>B1046</th>\n",
       "      <th>B1047</th>\n",
       "      <th>B1048</th>\n",
       "      <th>B1049</th>\n",
       "      <th>B1050</th>\n",
       "      <th>B1051</th>\n",
       "      <th>B1054</th>\n",
       "      <th>B1056</th>\n",
       "      <th>B1058</th>\n",
       "      <th>B1059</th>\n",
       "      <th>B1060</th>\n",
       "      <th>B1062</th>\n",
       "    </tr>\n",
       "  </thead>\n",
       "  <tbody>\n",
       "    <tr>\n",
       "      <th>0</th>\n",
       "      <td>0</td>\n",
       "      <td>0</td>\n",
       "      <td>0</td>\n",
       "      <td>0</td>\n",
       "      <td>0</td>\n",
       "      <td>1</td>\n",
       "      <td>0</td>\n",
       "      <td>0</td>\n",
       "      <td>0</td>\n",
       "      <td>0</td>\n",
       "      <td>0</td>\n",
       "      <td>1</td>\n",
       "      <td>0</td>\n",
       "      <td>0</td>\n",
       "      <td>0</td>\n",
       "      <td>0</td>\n",
       "      <td>0</td>\n",
       "      <td>0</td>\n",
       "      <td>0</td>\n",
       "      <td>1</td>\n",
       "      <td>0</td>\n",
       "      <td>0</td>\n",
       "      <td>0</td>\n",
       "      <td>0</td>\n",
       "      <td>0</td>\n",
       "      <td>0</td>\n",
       "      <td>0</td>\n",
       "      <td>0</td>\n",
       "      <td>0</td>\n",
       "      <td>0</td>\n",
       "      <td>0</td>\n",
       "      <td>0</td>\n",
       "      <td>0</td>\n",
       "      <td>0</td>\n",
       "      <td>0</td>\n",
       "      <td>0</td>\n",
       "      <td>0</td>\n",
       "      <td>0</td>\n",
       "      <td>0</td>\n",
       "      <td>0</td>\n",
       "      <td>0</td>\n",
       "      <td>0</td>\n",
       "      <td>0</td>\n",
       "      <td>0</td>\n",
       "      <td>0</td>\n",
       "      <td>0</td>\n",
       "      <td>0</td>\n",
       "      <td>0</td>\n",
       "      <td>0</td>\n",
       "      <td>0</td>\n",
       "      <td>0</td>\n",
       "      <td>0</td>\n",
       "      <td>0</td>\n",
       "      <td>0</td>\n",
       "      <td>0</td>\n",
       "      <td>0</td>\n",
       "      <td>0</td>\n",
       "      <td>0</td>\n",
       "      <td>0</td>\n",
       "      <td>0</td>\n",
       "      <td>0</td>\n",
       "      <td>0</td>\n",
       "      <td>0</td>\n",
       "      <td>0</td>\n",
       "      <td>0</td>\n",
       "      <td>0</td>\n",
       "      <td>0</td>\n",
       "      <td>0</td>\n",
       "      <td>0</td>\n",
       "      <td>0</td>\n",
       "      <td>0</td>\n",
       "      <td>0</td>\n",
       "    </tr>\n",
       "    <tr>\n",
       "      <th>1</th>\n",
       "      <td>0</td>\n",
       "      <td>0</td>\n",
       "      <td>0</td>\n",
       "      <td>0</td>\n",
       "      <td>0</td>\n",
       "      <td>1</td>\n",
       "      <td>0</td>\n",
       "      <td>0</td>\n",
       "      <td>0</td>\n",
       "      <td>0</td>\n",
       "      <td>0</td>\n",
       "      <td>1</td>\n",
       "      <td>0</td>\n",
       "      <td>0</td>\n",
       "      <td>0</td>\n",
       "      <td>0</td>\n",
       "      <td>0</td>\n",
       "      <td>0</td>\n",
       "      <td>0</td>\n",
       "      <td>0</td>\n",
       "      <td>1</td>\n",
       "      <td>0</td>\n",
       "      <td>0</td>\n",
       "      <td>0</td>\n",
       "      <td>0</td>\n",
       "      <td>0</td>\n",
       "      <td>0</td>\n",
       "      <td>0</td>\n",
       "      <td>0</td>\n",
       "      <td>0</td>\n",
       "      <td>0</td>\n",
       "      <td>0</td>\n",
       "      <td>0</td>\n",
       "      <td>0</td>\n",
       "      <td>0</td>\n",
       "      <td>0</td>\n",
       "      <td>0</td>\n",
       "      <td>0</td>\n",
       "      <td>0</td>\n",
       "      <td>0</td>\n",
       "      <td>0</td>\n",
       "      <td>0</td>\n",
       "      <td>0</td>\n",
       "      <td>0</td>\n",
       "      <td>0</td>\n",
       "      <td>0</td>\n",
       "      <td>0</td>\n",
       "      <td>0</td>\n",
       "      <td>0</td>\n",
       "      <td>0</td>\n",
       "      <td>0</td>\n",
       "      <td>0</td>\n",
       "      <td>0</td>\n",
       "      <td>0</td>\n",
       "      <td>0</td>\n",
       "      <td>0</td>\n",
       "      <td>0</td>\n",
       "      <td>0</td>\n",
       "      <td>0</td>\n",
       "      <td>0</td>\n",
       "      <td>0</td>\n",
       "      <td>0</td>\n",
       "      <td>0</td>\n",
       "      <td>0</td>\n",
       "      <td>0</td>\n",
       "      <td>0</td>\n",
       "      <td>0</td>\n",
       "      <td>0</td>\n",
       "      <td>0</td>\n",
       "      <td>0</td>\n",
       "      <td>0</td>\n",
       "      <td>0</td>\n",
       "    </tr>\n",
       "    <tr>\n",
       "      <th>2</th>\n",
       "      <td>0</td>\n",
       "      <td>0</td>\n",
       "      <td>0</td>\n",
       "      <td>0</td>\n",
       "      <td>1</td>\n",
       "      <td>0</td>\n",
       "      <td>0</td>\n",
       "      <td>0</td>\n",
       "      <td>0</td>\n",
       "      <td>0</td>\n",
       "      <td>0</td>\n",
       "      <td>1</td>\n",
       "      <td>0</td>\n",
       "      <td>0</td>\n",
       "      <td>0</td>\n",
       "      <td>0</td>\n",
       "      <td>0</td>\n",
       "      <td>0</td>\n",
       "      <td>0</td>\n",
       "      <td>0</td>\n",
       "      <td>0</td>\n",
       "      <td>1</td>\n",
       "      <td>0</td>\n",
       "      <td>0</td>\n",
       "      <td>0</td>\n",
       "      <td>0</td>\n",
       "      <td>0</td>\n",
       "      <td>0</td>\n",
       "      <td>0</td>\n",
       "      <td>0</td>\n",
       "      <td>0</td>\n",
       "      <td>0</td>\n",
       "      <td>0</td>\n",
       "      <td>0</td>\n",
       "      <td>0</td>\n",
       "      <td>0</td>\n",
       "      <td>0</td>\n",
       "      <td>0</td>\n",
       "      <td>0</td>\n",
       "      <td>0</td>\n",
       "      <td>0</td>\n",
       "      <td>0</td>\n",
       "      <td>0</td>\n",
       "      <td>0</td>\n",
       "      <td>0</td>\n",
       "      <td>0</td>\n",
       "      <td>0</td>\n",
       "      <td>0</td>\n",
       "      <td>0</td>\n",
       "      <td>0</td>\n",
       "      <td>0</td>\n",
       "      <td>0</td>\n",
       "      <td>0</td>\n",
       "      <td>0</td>\n",
       "      <td>0</td>\n",
       "      <td>0</td>\n",
       "      <td>0</td>\n",
       "      <td>0</td>\n",
       "      <td>0</td>\n",
       "      <td>0</td>\n",
       "      <td>0</td>\n",
       "      <td>0</td>\n",
       "      <td>0</td>\n",
       "      <td>0</td>\n",
       "      <td>0</td>\n",
       "      <td>0</td>\n",
       "      <td>0</td>\n",
       "      <td>0</td>\n",
       "      <td>0</td>\n",
       "      <td>0</td>\n",
       "      <td>0</td>\n",
       "      <td>0</td>\n",
       "    </tr>\n",
       "    <tr>\n",
       "      <th>3</th>\n",
       "      <td>0</td>\n",
       "      <td>0</td>\n",
       "      <td>0</td>\n",
       "      <td>0</td>\n",
       "      <td>0</td>\n",
       "      <td>0</td>\n",
       "      <td>0</td>\n",
       "      <td>1</td>\n",
       "      <td>0</td>\n",
       "      <td>0</td>\n",
       "      <td>0</td>\n",
       "      <td>0</td>\n",
       "      <td>0</td>\n",
       "      <td>1</td>\n",
       "      <td>0</td>\n",
       "      <td>0</td>\n",
       "      <td>0</td>\n",
       "      <td>0</td>\n",
       "      <td>0</td>\n",
       "      <td>0</td>\n",
       "      <td>0</td>\n",
       "      <td>0</td>\n",
       "      <td>1</td>\n",
       "      <td>0</td>\n",
       "      <td>0</td>\n",
       "      <td>0</td>\n",
       "      <td>0</td>\n",
       "      <td>0</td>\n",
       "      <td>0</td>\n",
       "      <td>0</td>\n",
       "      <td>0</td>\n",
       "      <td>0</td>\n",
       "      <td>0</td>\n",
       "      <td>0</td>\n",
       "      <td>0</td>\n",
       "      <td>0</td>\n",
       "      <td>0</td>\n",
       "      <td>0</td>\n",
       "      <td>0</td>\n",
       "      <td>0</td>\n",
       "      <td>0</td>\n",
       "      <td>0</td>\n",
       "      <td>0</td>\n",
       "      <td>0</td>\n",
       "      <td>0</td>\n",
       "      <td>0</td>\n",
       "      <td>0</td>\n",
       "      <td>0</td>\n",
       "      <td>0</td>\n",
       "      <td>0</td>\n",
       "      <td>0</td>\n",
       "      <td>0</td>\n",
       "      <td>0</td>\n",
       "      <td>0</td>\n",
       "      <td>0</td>\n",
       "      <td>0</td>\n",
       "      <td>0</td>\n",
       "      <td>0</td>\n",
       "      <td>0</td>\n",
       "      <td>0</td>\n",
       "      <td>0</td>\n",
       "      <td>0</td>\n",
       "      <td>0</td>\n",
       "      <td>0</td>\n",
       "      <td>0</td>\n",
       "      <td>0</td>\n",
       "      <td>0</td>\n",
       "      <td>0</td>\n",
       "      <td>0</td>\n",
       "      <td>0</td>\n",
       "      <td>0</td>\n",
       "      <td>0</td>\n",
       "    </tr>\n",
       "    <tr>\n",
       "      <th>4</th>\n",
       "      <td>0</td>\n",
       "      <td>0</td>\n",
       "      <td>1</td>\n",
       "      <td>0</td>\n",
       "      <td>0</td>\n",
       "      <td>0</td>\n",
       "      <td>0</td>\n",
       "      <td>0</td>\n",
       "      <td>0</td>\n",
       "      <td>0</td>\n",
       "      <td>0</td>\n",
       "      <td>1</td>\n",
       "      <td>0</td>\n",
       "      <td>0</td>\n",
       "      <td>0</td>\n",
       "      <td>0</td>\n",
       "      <td>0</td>\n",
       "      <td>0</td>\n",
       "      <td>0</td>\n",
       "      <td>0</td>\n",
       "      <td>0</td>\n",
       "      <td>0</td>\n",
       "      <td>0</td>\n",
       "      <td>1</td>\n",
       "      <td>0</td>\n",
       "      <td>0</td>\n",
       "      <td>0</td>\n",
       "      <td>0</td>\n",
       "      <td>0</td>\n",
       "      <td>0</td>\n",
       "      <td>0</td>\n",
       "      <td>0</td>\n",
       "      <td>0</td>\n",
       "      <td>0</td>\n",
       "      <td>0</td>\n",
       "      <td>0</td>\n",
       "      <td>0</td>\n",
       "      <td>0</td>\n",
       "      <td>0</td>\n",
       "      <td>0</td>\n",
       "      <td>0</td>\n",
       "      <td>0</td>\n",
       "      <td>0</td>\n",
       "      <td>0</td>\n",
       "      <td>0</td>\n",
       "      <td>0</td>\n",
       "      <td>0</td>\n",
       "      <td>0</td>\n",
       "      <td>0</td>\n",
       "      <td>0</td>\n",
       "      <td>0</td>\n",
       "      <td>0</td>\n",
       "      <td>0</td>\n",
       "      <td>0</td>\n",
       "      <td>0</td>\n",
       "      <td>0</td>\n",
       "      <td>0</td>\n",
       "      <td>0</td>\n",
       "      <td>0</td>\n",
       "      <td>0</td>\n",
       "      <td>0</td>\n",
       "      <td>0</td>\n",
       "      <td>0</td>\n",
       "      <td>0</td>\n",
       "      <td>0</td>\n",
       "      <td>0</td>\n",
       "      <td>0</td>\n",
       "      <td>0</td>\n",
       "      <td>0</td>\n",
       "      <td>0</td>\n",
       "      <td>0</td>\n",
       "      <td>0</td>\n",
       "    </tr>\n",
       "  </tbody>\n",
       "</table>\n",
       "</div>"
      ],
      "text/plain": [
       "   ES-L1  GEO  GTO  HEO  ISS  LEO  MEO  PO  SO  SSO  VLEO  CCSFS SLC 40  \\\n",
       "0      0    0    0    0    0    1    0   0   0    0     0             1   \n",
       "1      0    0    0    0    0    1    0   0   0    0     0             1   \n",
       "2      0    0    0    0    1    0    0   0   0    0     0             1   \n",
       "3      0    0    0    0    0    0    0   1   0    0     0             0   \n",
       "4      0    0    1    0    0    0    0   0   0    0     0             1   \n",
       "\n",
       "   KSC LC 39A  VAFB SLC 4E  5e9e3032383ecb267a34e7c7  \\\n",
       "0           0            0                         0   \n",
       "1           0            0                         0   \n",
       "2           0            0                         0   \n",
       "3           0            1                         0   \n",
       "4           0            0                         0   \n",
       "\n",
       "   5e9e3032383ecb554034e7c9  5e9e3032383ecb6bb234e7ca  \\\n",
       "0                         0                         0   \n",
       "1                         0                         0   \n",
       "2                         0                         0   \n",
       "3                         0                         0   \n",
       "4                         0                         0   \n",
       "\n",
       "   5e9e3032383ecb761634e7cb  5e9e3033383ecbb9e534e7cc  B0003  B0005  B0007  \\\n",
       "0                         0                         0      1      0      0   \n",
       "1                         0                         0      0      1      0   \n",
       "2                         0                         0      0      0      1   \n",
       "3                         0                         0      0      0      0   \n",
       "4                         0                         0      0      0      0   \n",
       "\n",
       "   B1003  B1004  B1005  B1006  B1007  B1008  B1010  B1011  B1012  B1013  \\\n",
       "0      0      0      0      0      0      0      0      0      0      0   \n",
       "1      0      0      0      0      0      0      0      0      0      0   \n",
       "2      0      0      0      0      0      0      0      0      0      0   \n",
       "3      1      0      0      0      0      0      0      0      0      0   \n",
       "4      0      1      0      0      0      0      0      0      0      0   \n",
       "\n",
       "   B1015  B1016  B1017  B1018  B1019  B1020  B1021  B1022  B1023  B1025  \\\n",
       "0      0      0      0      0      0      0      0      0      0      0   \n",
       "1      0      0      0      0      0      0      0      0      0      0   \n",
       "2      0      0      0      0      0      0      0      0      0      0   \n",
       "3      0      0      0      0      0      0      0      0      0      0   \n",
       "4      0      0      0      0      0      0      0      0      0      0   \n",
       "\n",
       "   B1026  B1028  B1029  B1030  B1031  B1032  B1034  B1035  B1036  B1037  \\\n",
       "0      0      0      0      0      0      0      0      0      0      0   \n",
       "1      0      0      0      0      0      0      0      0      0      0   \n",
       "2      0      0      0      0      0      0      0      0      0      0   \n",
       "3      0      0      0      0      0      0      0      0      0      0   \n",
       "4      0      0      0      0      0      0      0      0      0      0   \n",
       "\n",
       "   B1038  B1039  B1040  B1041  B1042  B1043  B1044  B1045  B1046  B1047  \\\n",
       "0      0      0      0      0      0      0      0      0      0      0   \n",
       "1      0      0      0      0      0      0      0      0      0      0   \n",
       "2      0      0      0      0      0      0      0      0      0      0   \n",
       "3      0      0      0      0      0      0      0      0      0      0   \n",
       "4      0      0      0      0      0      0      0      0      0      0   \n",
       "\n",
       "   B1048  B1049  B1050  B1051  B1054  B1056  B1058  B1059  B1060  B1062  \n",
       "0      0      0      0      0      0      0      0      0      0      0  \n",
       "1      0      0      0      0      0      0      0      0      0      0  \n",
       "2      0      0      0      0      0      0      0      0      0      0  \n",
       "3      0      0      0      0      0      0      0      0      0      0  \n",
       "4      0      0      0      0      0      0      0      0      0      0  "
      ]
     },
     "execution_count": 54,
     "metadata": {},
     "output_type": "execute_result"
    }
   ],
   "source": [
    "feature_one_hot = features.copy()\n",
    "feature_one_hot = pd.get_dummies(features['Orbit']).join(pd.get_dummies(features['LaunchSite'])).join(pd.get_dummies(features['LandingPad'])).join(pd.get_dummies(features['Serial']))\n",
    "feature_one_hot.head()"
   ]
  },
  {
   "cell_type": "code",
   "execution_count": 55,
   "id": "11fa22da",
   "metadata": {},
   "outputs": [],
   "source": [
    "# let's change the types for all columns to float 64\n",
    "feature_one_hot = feature_one_hot.astype('float64')"
   ]
  },
  {
   "cell_type": "code",
   "execution_count": 56,
   "id": "b0b7dc16",
   "metadata": {},
   "outputs": [],
   "source": [
    "# let's add the columns generated above to the dataframe features\n",
    "features = features.drop(['Orbit','LaunchSite','LandingPad','Serial','Class'],1)\n",
    "features = features.join(feature_one_hot)"
   ]
  },
  {
   "cell_type": "markdown",
   "id": "0b41edd8",
   "metadata": {},
   "source": [
    "## Interactive visualization"
   ]
  },
  {
   "cell_type": "code",
   "execution_count": 57,
   "id": "ff60c3b3",
   "metadata": {},
   "outputs": [
    {
     "data": {
      "text/html": [
       "<div>\n",
       "<style scoped>\n",
       "    .dataframe tbody tr th:only-of-type {\n",
       "        vertical-align: middle;\n",
       "    }\n",
       "\n",
       "    .dataframe tbody tr th {\n",
       "        vertical-align: top;\n",
       "    }\n",
       "\n",
       "    .dataframe thead th {\n",
       "        text-align: right;\n",
       "    }\n",
       "</style>\n",
       "<table border=\"1\" class=\"dataframe\">\n",
       "  <thead>\n",
       "    <tr style=\"text-align: right;\">\n",
       "      <th></th>\n",
       "      <th>LaunchSite</th>\n",
       "      <th>Latitude</th>\n",
       "      <th>Longitude</th>\n",
       "    </tr>\n",
       "  </thead>\n",
       "  <tbody>\n",
       "    <tr>\n",
       "      <th>0</th>\n",
       "      <td>CCSFS SLC 40</td>\n",
       "      <td>28.561857</td>\n",
       "      <td>-80.577366</td>\n",
       "    </tr>\n",
       "    <tr>\n",
       "      <th>1</th>\n",
       "      <td>KSC LC 39A</td>\n",
       "      <td>28.608058</td>\n",
       "      <td>-80.603956</td>\n",
       "    </tr>\n",
       "    <tr>\n",
       "      <th>2</th>\n",
       "      <td>VAFB SLC 4E</td>\n",
       "      <td>34.632093</td>\n",
       "      <td>-120.610829</td>\n",
       "    </tr>\n",
       "  </tbody>\n",
       "</table>\n",
       "</div>"
      ],
      "text/plain": [
       "     LaunchSite   Latitude   Longitude\n",
       "0  CCSFS SLC 40  28.561857  -80.577366\n",
       "1    KSC LC 39A  28.608058  -80.603956\n",
       "2   VAFB SLC 4E  34.632093 -120.610829"
      ]
     },
     "execution_count": 57,
     "metadata": {},
     "output_type": "execute_result"
    }
   ],
   "source": [
    "# let's find out the location of each launch site\n",
    "spacex_df = data_falcone9[['LaunchSite', 'Latitude','Longitude','Class']]\n",
    "launch_sites_df = spacex_df.groupby('LaunchSite',as_index=False).first()\n",
    "launch_sites_df = launch_sites_df[['LaunchSite', 'Latitude','Longitude']]\n",
    "launch_sites_df.head(4)"
   ]
  },
  {
   "cell_type": "code",
   "execution_count": 62,
   "id": "0df8522f",
   "metadata": {
    "scrolled": true
   },
   "outputs": [
    {
     "data": {
      "text/html": [
       "<div style=\"width:100%;\"><div style=\"position:relative;width:100%;height:0;padding-bottom:60%;\"><span style=\"color:#565656\">Make this Notebook Trusted to load map: File -> Trust Notebook</span><iframe src=\"about:blank\" style=\"position:absolute;width:100%;height:100%;left:0;top:0;border:none !important;\" data-html=%3C%21DOCTYPE%20html%3E%0A%3Chead%3E%20%20%20%20%0A%20%20%20%20%3Cmeta%20http-equiv%3D%22content-type%22%20content%3D%22text/html%3B%20charset%3DUTF-8%22%20/%3E%0A%20%20%20%20%0A%20%20%20%20%20%20%20%20%3Cscript%3E%0A%20%20%20%20%20%20%20%20%20%20%20%20L_NO_TOUCH%20%3D%20false%3B%0A%20%20%20%20%20%20%20%20%20%20%20%20L_DISABLE_3D%20%3D%20false%3B%0A%20%20%20%20%20%20%20%20%3C/script%3E%0A%20%20%20%20%0A%20%20%20%20%3Cstyle%3Ehtml%2C%20body%20%7Bwidth%3A%20100%25%3Bheight%3A%20100%25%3Bmargin%3A%200%3Bpadding%3A%200%3B%7D%3C/style%3E%0A%20%20%20%20%3Cstyle%3E%23map%20%7Bposition%3Aabsolute%3Btop%3A0%3Bbottom%3A0%3Bright%3A0%3Bleft%3A0%3B%7D%3C/style%3E%0A%20%20%20%20%3Cscript%20src%3D%22https%3A//cdn.jsdelivr.net/npm/leaflet%401.6.0/dist/leaflet.js%22%3E%3C/script%3E%0A%20%20%20%20%3Cscript%20src%3D%22https%3A//code.jquery.com/jquery-1.12.4.min.js%22%3E%3C/script%3E%0A%20%20%20%20%3Cscript%20src%3D%22https%3A//maxcdn.bootstrapcdn.com/bootstrap/3.2.0/js/bootstrap.min.js%22%3E%3C/script%3E%0A%20%20%20%20%3Cscript%20src%3D%22https%3A//cdnjs.cloudflare.com/ajax/libs/Leaflet.awesome-markers/2.0.2/leaflet.awesome-markers.js%22%3E%3C/script%3E%0A%20%20%20%20%3Clink%20rel%3D%22stylesheet%22%20href%3D%22https%3A//cdn.jsdelivr.net/npm/leaflet%401.6.0/dist/leaflet.css%22/%3E%0A%20%20%20%20%3Clink%20rel%3D%22stylesheet%22%20href%3D%22https%3A//maxcdn.bootstrapcdn.com/bootstrap/3.2.0/css/bootstrap.min.css%22/%3E%0A%20%20%20%20%3Clink%20rel%3D%22stylesheet%22%20href%3D%22https%3A//maxcdn.bootstrapcdn.com/bootstrap/3.2.0/css/bootstrap-theme.min.css%22/%3E%0A%20%20%20%20%3Clink%20rel%3D%22stylesheet%22%20href%3D%22https%3A//maxcdn.bootstrapcdn.com/font-awesome/4.6.3/css/font-awesome.min.css%22/%3E%0A%20%20%20%20%3Clink%20rel%3D%22stylesheet%22%20href%3D%22https%3A//cdnjs.cloudflare.com/ajax/libs/Leaflet.awesome-markers/2.0.2/leaflet.awesome-markers.css%22/%3E%0A%20%20%20%20%3Clink%20rel%3D%22stylesheet%22%20href%3D%22https%3A//cdn.jsdelivr.net/gh/python-visualization/folium/folium/templates/leaflet.awesome.rotate.min.css%22/%3E%0A%20%20%20%20%0A%20%20%20%20%20%20%20%20%20%20%20%20%3Cmeta%20name%3D%22viewport%22%20content%3D%22width%3Ddevice-width%2C%0A%20%20%20%20%20%20%20%20%20%20%20%20%20%20%20%20initial-scale%3D1.0%2C%20maximum-scale%3D1.0%2C%20user-scalable%3Dno%22%20/%3E%0A%20%20%20%20%20%20%20%20%20%20%20%20%3Cstyle%3E%0A%20%20%20%20%20%20%20%20%20%20%20%20%20%20%20%20%23map_f1fddf6be5304e4195a0bb7ed6f7b1f5%20%7B%0A%20%20%20%20%20%20%20%20%20%20%20%20%20%20%20%20%20%20%20%20position%3A%20relative%3B%0A%20%20%20%20%20%20%20%20%20%20%20%20%20%20%20%20%20%20%20%20width%3A%20100.0%25%3B%0A%20%20%20%20%20%20%20%20%20%20%20%20%20%20%20%20%20%20%20%20height%3A%20100.0%25%3B%0A%20%20%20%20%20%20%20%20%20%20%20%20%20%20%20%20%20%20%20%20left%3A%200.0%25%3B%0A%20%20%20%20%20%20%20%20%20%20%20%20%20%20%20%20%20%20%20%20top%3A%200.0%25%3B%0A%20%20%20%20%20%20%20%20%20%20%20%20%20%20%20%20%7D%0A%20%20%20%20%20%20%20%20%20%20%20%20%3C/style%3E%0A%20%20%20%20%20%20%20%20%0A%20%20%20%20%3Cscript%20src%3D%22https%3A//cdnjs.cloudflare.com/ajax/libs/leaflet.markercluster/1.1.0/leaflet.markercluster.js%22%3E%3C/script%3E%0A%20%20%20%20%3Clink%20rel%3D%22stylesheet%22%20href%3D%22https%3A//cdnjs.cloudflare.com/ajax/libs/leaflet.markercluster/1.1.0/MarkerCluster.css%22/%3E%0A%20%20%20%20%3Clink%20rel%3D%22stylesheet%22%20href%3D%22https%3A//cdnjs.cloudflare.com/ajax/libs/leaflet.markercluster/1.1.0/MarkerCluster.Default.css%22/%3E%0A%20%20%20%20%3Cscript%20src%3D%22https%3A//cdn.jsdelivr.net/gh/ardhi/Leaflet.MousePosition/src/L.Control.MousePosition.min.js%22%3E%3C/script%3E%0A%20%20%20%20%3Clink%20rel%3D%22stylesheet%22%20href%3D%22https%3A//cdn.jsdelivr.net/gh/ardhi/Leaflet.MousePosition/src/L.Control.MousePosition.min.css%22/%3E%0A%3C/head%3E%0A%3Cbody%3E%20%20%20%20%0A%20%20%20%20%0A%20%20%20%20%20%20%20%20%20%20%20%20%3Cdiv%20class%3D%22folium-map%22%20id%3D%22map_f1fddf6be5304e4195a0bb7ed6f7b1f5%22%20%3E%3C/div%3E%0A%20%20%20%20%20%20%20%20%0A%3C/body%3E%0A%3Cscript%3E%20%20%20%20%0A%20%20%20%20%0A%20%20%20%20%20%20%20%20%20%20%20%20var%20map_f1fddf6be5304e4195a0bb7ed6f7b1f5%20%3D%20L.map%28%0A%20%20%20%20%20%20%20%20%20%20%20%20%20%20%20%20%22map_f1fddf6be5304e4195a0bb7ed6f7b1f5%22%2C%0A%20%20%20%20%20%20%20%20%20%20%20%20%20%20%20%20%7B%0A%20%20%20%20%20%20%20%20%20%20%20%20%20%20%20%20%20%20%20%20center%3A%20%5B37.0902%2C%20-95.7129%5D%2C%0A%20%20%20%20%20%20%20%20%20%20%20%20%20%20%20%20%20%20%20%20crs%3A%20L.CRS.EPSG3857%2C%0A%20%20%20%20%20%20%20%20%20%20%20%20%20%20%20%20%20%20%20%20zoom%3A%204%2C%0A%20%20%20%20%20%20%20%20%20%20%20%20%20%20%20%20%20%20%20%20zoomControl%3A%20true%2C%0A%20%20%20%20%20%20%20%20%20%20%20%20%20%20%20%20%20%20%20%20preferCanvas%3A%20false%2C%0A%20%20%20%20%20%20%20%20%20%20%20%20%20%20%20%20%7D%0A%20%20%20%20%20%20%20%20%20%20%20%20%29%3B%0A%0A%20%20%20%20%20%20%20%20%20%20%20%20%0A%0A%20%20%20%20%20%20%20%20%0A%20%20%20%20%0A%20%20%20%20%20%20%20%20%20%20%20%20var%20tile_layer_76cf03c54c904c469097641deed80624%20%3D%20L.tileLayer%28%0A%20%20%20%20%20%20%20%20%20%20%20%20%20%20%20%20%22https%3A//%7Bs%7D.tile.openstreetmap.org/%7Bz%7D/%7Bx%7D/%7By%7D.png%22%2C%0A%20%20%20%20%20%20%20%20%20%20%20%20%20%20%20%20%7B%22attribution%22%3A%20%22Data%20by%20%5Cu0026copy%3B%20%5Cu003ca%20href%3D%5C%22http%3A//openstreetmap.org%5C%22%5Cu003eOpenStreetMap%5Cu003c/a%5Cu003e%2C%20under%20%5Cu003ca%20href%3D%5C%22http%3A//www.openstreetmap.org/copyright%5C%22%5Cu003eODbL%5Cu003c/a%5Cu003e.%22%2C%20%22detectRetina%22%3A%20false%2C%20%22maxNativeZoom%22%3A%2018%2C%20%22maxZoom%22%3A%2018%2C%20%22minZoom%22%3A%200%2C%20%22noWrap%22%3A%20false%2C%20%22opacity%22%3A%201%2C%20%22subdomains%22%3A%20%22abc%22%2C%20%22tms%22%3A%20false%7D%0A%20%20%20%20%20%20%20%20%20%20%20%20%29.addTo%28map_f1fddf6be5304e4195a0bb7ed6f7b1f5%29%3B%0A%20%20%20%20%20%20%20%20%0A%20%20%20%20%0A%20%20%20%20%20%20%20%20%20%20%20%20var%20circle_996473329cd6466b8cad62aefb7b1502%20%3D%20L.circle%28%0A%20%20%20%20%20%20%20%20%20%20%20%20%20%20%20%20%5B28.5618571%2C%20-80.577366%5D%2C%0A%20%20%20%20%20%20%20%20%20%20%20%20%20%20%20%20%7B%22bubblingMouseEvents%22%3A%20true%2C%20%22color%22%3A%20%22blue%22%2C%20%22dashArray%22%3A%20null%2C%20%22dashOffset%22%3A%20null%2C%20%22fill%22%3A%20true%2C%20%22fillColor%22%3A%20%22blue%22%2C%20%22fillOpacity%22%3A%200.2%2C%20%22fillRule%22%3A%20%22evenodd%22%2C%20%22lineCap%22%3A%20%22round%22%2C%20%22lineJoin%22%3A%20%22round%22%2C%20%22opacity%22%3A%201.0%2C%20%22radius%22%3A%201000%2C%20%22stroke%22%3A%20true%2C%20%22weight%22%3A%203%7D%0A%20%20%20%20%20%20%20%20%20%20%20%20%29.addTo%28map_f1fddf6be5304e4195a0bb7ed6f7b1f5%29%3B%0A%20%20%20%20%20%20%20%20%0A%20%20%20%20%0A%20%20%20%20%20%20%20%20var%20popup_b2a033458e9f48bf965e3ab798e26ef9%20%3D%20L.popup%28%7B%22maxWidth%22%3A%20%22100%25%22%7D%29%3B%0A%0A%20%20%20%20%20%20%20%20%0A%20%20%20%20%20%20%20%20%20%20%20%20var%20html_2f94304b95b14f99a10f799cddd8c61c%20%3D%20%24%28%60%3Cdiv%20id%3D%22html_2f94304b95b14f99a10f799cddd8c61c%22%20style%3D%22width%3A%20100.0%25%3B%20height%3A%20100.0%25%3B%22%3ECCSFS%20SLC%2040%3C/div%3E%60%29%5B0%5D%3B%0A%20%20%20%20%20%20%20%20%20%20%20%20popup_b2a033458e9f48bf965e3ab798e26ef9.setContent%28html_2f94304b95b14f99a10f799cddd8c61c%29%3B%0A%20%20%20%20%20%20%20%20%0A%0A%20%20%20%20%20%20%20%20circle_996473329cd6466b8cad62aefb7b1502.bindPopup%28popup_b2a033458e9f48bf965e3ab798e26ef9%29%0A%20%20%20%20%20%20%20%20%3B%0A%0A%20%20%20%20%20%20%20%20%0A%20%20%20%20%0A%20%20%20%20%0A%20%20%20%20%20%20%20%20%20%20%20%20var%20marker_ff116069103a4379af247360bb3fb6c9%20%3D%20L.marker%28%0A%20%20%20%20%20%20%20%20%20%20%20%20%20%20%20%20%5B28.5618571%2C%20-80.577366%5D%2C%0A%20%20%20%20%20%20%20%20%20%20%20%20%20%20%20%20%7B%7D%0A%20%20%20%20%20%20%20%20%20%20%20%20%29.addTo%28map_f1fddf6be5304e4195a0bb7ed6f7b1f5%29%3B%0A%20%20%20%20%20%20%20%20%0A%20%20%20%20%0A%20%20%20%20%20%20%20%20%20%20%20%20var%20div_icon_6fbb915af1354f8b9f07c704ba32d469%20%3D%20L.divIcon%28%7B%22className%22%3A%20%22empty%22%2C%20%22html%22%3A%20%22%5Cu003cdiv%20style%3D%5C%22font-size%3A%2012%3B%20color%3Ared%3B%5C%22%5Cu003e%5Cu003cb%5Cu003eCCSFS%20SLC%2040%5Cu003c/b%5Cu003e%5Cu003c/div%5Cu003e%22%2C%20%22iconAnchor%22%3A%20%5B0%2C%200%5D%2C%20%22iconSize%22%3A%20%5B20%2C%2020%5D%7D%29%3B%0A%20%20%20%20%20%20%20%20%20%20%20%20marker_ff116069103a4379af247360bb3fb6c9.setIcon%28div_icon_6fbb915af1354f8b9f07c704ba32d469%29%3B%0A%20%20%20%20%20%20%20%20%0A%20%20%20%20%0A%20%20%20%20%20%20%20%20%20%20%20%20var%20circle_9741b46f255345ab8f2ea4c969acf6c9%20%3D%20L.circle%28%0A%20%20%20%20%20%20%20%20%20%20%20%20%20%20%20%20%5B28.6080585%2C%20-80.6039558%5D%2C%0A%20%20%20%20%20%20%20%20%20%20%20%20%20%20%20%20%7B%22bubblingMouseEvents%22%3A%20true%2C%20%22color%22%3A%20%22blue%22%2C%20%22dashArray%22%3A%20null%2C%20%22dashOffset%22%3A%20null%2C%20%22fill%22%3A%20true%2C%20%22fillColor%22%3A%20%22blue%22%2C%20%22fillOpacity%22%3A%200.2%2C%20%22fillRule%22%3A%20%22evenodd%22%2C%20%22lineCap%22%3A%20%22round%22%2C%20%22lineJoin%22%3A%20%22round%22%2C%20%22opacity%22%3A%201.0%2C%20%22radius%22%3A%201000%2C%20%22stroke%22%3A%20true%2C%20%22weight%22%3A%203%7D%0A%20%20%20%20%20%20%20%20%20%20%20%20%29.addTo%28map_f1fddf6be5304e4195a0bb7ed6f7b1f5%29%3B%0A%20%20%20%20%20%20%20%20%0A%20%20%20%20%0A%20%20%20%20%20%20%20%20var%20popup_530b16b5b38846bebed507d71373dedf%20%3D%20L.popup%28%7B%22maxWidth%22%3A%20%22100%25%22%7D%29%3B%0A%0A%20%20%20%20%20%20%20%20%0A%20%20%20%20%20%20%20%20%20%20%20%20var%20html_174a698c12d34da69d220284d74b0053%20%3D%20%24%28%60%3Cdiv%20id%3D%22html_174a698c12d34da69d220284d74b0053%22%20style%3D%22width%3A%20100.0%25%3B%20height%3A%20100.0%25%3B%22%3EKSC%20LC%2039A%3C/div%3E%60%29%5B0%5D%3B%0A%20%20%20%20%20%20%20%20%20%20%20%20popup_530b16b5b38846bebed507d71373dedf.setContent%28html_174a698c12d34da69d220284d74b0053%29%3B%0A%20%20%20%20%20%20%20%20%0A%0A%20%20%20%20%20%20%20%20circle_9741b46f255345ab8f2ea4c969acf6c9.bindPopup%28popup_530b16b5b38846bebed507d71373dedf%29%0A%20%20%20%20%20%20%20%20%3B%0A%0A%20%20%20%20%20%20%20%20%0A%20%20%20%20%0A%20%20%20%20%0A%20%20%20%20%20%20%20%20%20%20%20%20var%20marker_e5c861287a35484fae9a732658e16d6b%20%3D%20L.marker%28%0A%20%20%20%20%20%20%20%20%20%20%20%20%20%20%20%20%5B28.6080585%2C%20-80.6039558%5D%2C%0A%20%20%20%20%20%20%20%20%20%20%20%20%20%20%20%20%7B%7D%0A%20%20%20%20%20%20%20%20%20%20%20%20%29.addTo%28map_f1fddf6be5304e4195a0bb7ed6f7b1f5%29%3B%0A%20%20%20%20%20%20%20%20%0A%20%20%20%20%0A%20%20%20%20%20%20%20%20%20%20%20%20var%20div_icon_ea4dc5b7f79c4bc3b2e6d992d639e2c7%20%3D%20L.divIcon%28%7B%22className%22%3A%20%22empty%22%2C%20%22html%22%3A%20%22%5Cu003cdiv%20style%3D%5C%22font-size%3A%2012%3B%20color%3Ared%3B%5C%22%5Cu003e%5Cu003cb%5Cu003eKSC%20LC%2039A%5Cu003c/b%5Cu003e%5Cu003c/div%5Cu003e%22%2C%20%22iconAnchor%22%3A%20%5B0%2C%200%5D%2C%20%22iconSize%22%3A%20%5B20%2C%2020%5D%7D%29%3B%0A%20%20%20%20%20%20%20%20%20%20%20%20marker_e5c861287a35484fae9a732658e16d6b.setIcon%28div_icon_ea4dc5b7f79c4bc3b2e6d992d639e2c7%29%3B%0A%20%20%20%20%20%20%20%20%0A%20%20%20%20%0A%20%20%20%20%20%20%20%20%20%20%20%20var%20circle_0e264320463c41bfb63b2c542987765e%20%3D%20L.circle%28%0A%20%20%20%20%20%20%20%20%20%20%20%20%20%20%20%20%5B34.632093%2C%20-120.610829%5D%2C%0A%20%20%20%20%20%20%20%20%20%20%20%20%20%20%20%20%7B%22bubblingMouseEvents%22%3A%20true%2C%20%22color%22%3A%20%22blue%22%2C%20%22dashArray%22%3A%20null%2C%20%22dashOffset%22%3A%20null%2C%20%22fill%22%3A%20true%2C%20%22fillColor%22%3A%20%22blue%22%2C%20%22fillOpacity%22%3A%200.2%2C%20%22fillRule%22%3A%20%22evenodd%22%2C%20%22lineCap%22%3A%20%22round%22%2C%20%22lineJoin%22%3A%20%22round%22%2C%20%22opacity%22%3A%201.0%2C%20%22radius%22%3A%201000%2C%20%22stroke%22%3A%20true%2C%20%22weight%22%3A%203%7D%0A%20%20%20%20%20%20%20%20%20%20%20%20%29.addTo%28map_f1fddf6be5304e4195a0bb7ed6f7b1f5%29%3B%0A%20%20%20%20%20%20%20%20%0A%20%20%20%20%0A%20%20%20%20%20%20%20%20var%20popup_7a724d2a1bcf4c6a8d748ea2cdaf7b62%20%3D%20L.popup%28%7B%22maxWidth%22%3A%20%22100%25%22%7D%29%3B%0A%0A%20%20%20%20%20%20%20%20%0A%20%20%20%20%20%20%20%20%20%20%20%20var%20html_bfc0ebddd3604dc7a45e1b3d50783850%20%3D%20%24%28%60%3Cdiv%20id%3D%22html_bfc0ebddd3604dc7a45e1b3d50783850%22%20style%3D%22width%3A%20100.0%25%3B%20height%3A%20100.0%25%3B%22%3EVAFB%20SLC%204E%3C/div%3E%60%29%5B0%5D%3B%0A%20%20%20%20%20%20%20%20%20%20%20%20popup_7a724d2a1bcf4c6a8d748ea2cdaf7b62.setContent%28html_bfc0ebddd3604dc7a45e1b3d50783850%29%3B%0A%20%20%20%20%20%20%20%20%0A%0A%20%20%20%20%20%20%20%20circle_0e264320463c41bfb63b2c542987765e.bindPopup%28popup_7a724d2a1bcf4c6a8d748ea2cdaf7b62%29%0A%20%20%20%20%20%20%20%20%3B%0A%0A%20%20%20%20%20%20%20%20%0A%20%20%20%20%0A%20%20%20%20%0A%20%20%20%20%20%20%20%20%20%20%20%20var%20marker_5f2589954aec49039d30b5fca6f6be4f%20%3D%20L.marker%28%0A%20%20%20%20%20%20%20%20%20%20%20%20%20%20%20%20%5B34.632093%2C%20-120.610829%5D%2C%0A%20%20%20%20%20%20%20%20%20%20%20%20%20%20%20%20%7B%7D%0A%20%20%20%20%20%20%20%20%20%20%20%20%29.addTo%28map_f1fddf6be5304e4195a0bb7ed6f7b1f5%29%3B%0A%20%20%20%20%20%20%20%20%0A%20%20%20%20%0A%20%20%20%20%20%20%20%20%20%20%20%20var%20div_icon_1deb0e9e45854203801de72a74604519%20%3D%20L.divIcon%28%7B%22className%22%3A%20%22empty%22%2C%20%22html%22%3A%20%22%5Cu003cdiv%20style%3D%5C%22font-size%3A%2012%3B%20color%3Ared%3B%5C%22%5Cu003e%5Cu003cb%5Cu003eVAFB%20SLC%204E%5Cu003c/b%5Cu003e%5Cu003c/div%5Cu003e%22%2C%20%22iconAnchor%22%3A%20%5B0%2C%200%5D%2C%20%22iconSize%22%3A%20%5B20%2C%2020%5D%7D%29%3B%0A%20%20%20%20%20%20%20%20%20%20%20%20marker_5f2589954aec49039d30b5fca6f6be4f.setIcon%28div_icon_1deb0e9e45854203801de72a74604519%29%3B%0A%20%20%20%20%20%20%20%20%0A%20%20%20%20%0A%20%20%20%20%20%20%20%20%20%20%20%20var%20marker_cluster_4e9849bc674e4748b794ecb2c1aea053%20%3D%20L.markerClusterGroup%28%0A%20%20%20%20%20%20%20%20%20%20%20%20%20%20%20%20%7B%7D%0A%20%20%20%20%20%20%20%20%20%20%20%20%29%3B%0A%20%20%20%20%20%20%20%20%20%20%20%20map_f1fddf6be5304e4195a0bb7ed6f7b1f5.addLayer%28marker_cluster_4e9849bc674e4748b794ecb2c1aea053%29%3B%0A%20%20%20%20%20%20%20%20%0A%20%20%20%20%0A%20%20%20%20%20%20%20%20%20%20%20%20var%20marker_701cd3710eaf42e98fde1f3f6c8daf6e%20%3D%20L.marker%28%0A%20%20%20%20%20%20%20%20%20%20%20%20%20%20%20%20%5B28.5618571%2C%20-80.577366%5D%2C%0A%20%20%20%20%20%20%20%20%20%20%20%20%20%20%20%20%7B%7D%0A%20%20%20%20%20%20%20%20%20%20%20%20%29.addTo%28marker_cluster_4e9849bc674e4748b794ecb2c1aea053%29%3B%0A%20%20%20%20%20%20%20%20%0A%20%20%20%20%0A%20%20%20%20%20%20%20%20%20%20%20%20var%20icon_f4b0ef9b43474bdba3783d0f19c94761%20%3D%20L.AwesomeMarkers.icon%28%0A%20%20%20%20%20%20%20%20%20%20%20%20%20%20%20%20%7B%22extraClasses%22%3A%20%22fa-rotate-0%22%2C%20%22icon%22%3A%20%22info-sign%22%2C%20%22iconColor%22%3A%20%22red%22%2C%20%22markerColor%22%3A%20%22white%22%2C%20%22prefix%22%3A%20%22glyphicon%22%7D%0A%20%20%20%20%20%20%20%20%20%20%20%20%29%3B%0A%20%20%20%20%20%20%20%20%20%20%20%20marker_701cd3710eaf42e98fde1f3f6c8daf6e.setIcon%28icon_f4b0ef9b43474bdba3783d0f19c94761%29%3B%0A%20%20%20%20%20%20%20%20%0A%20%20%20%20%0A%20%20%20%20%20%20%20%20%20%20%20%20var%20marker_3c577fd599d44a76ae1c7049a7525bf2%20%3D%20L.marker%28%0A%20%20%20%20%20%20%20%20%20%20%20%20%20%20%20%20%5B28.5618571%2C%20-80.577366%5D%2C%0A%20%20%20%20%20%20%20%20%20%20%20%20%20%20%20%20%7B%7D%0A%20%20%20%20%20%20%20%20%20%20%20%20%29.addTo%28marker_cluster_4e9849bc674e4748b794ecb2c1aea053%29%3B%0A%20%20%20%20%20%20%20%20%0A%20%20%20%20%0A%20%20%20%20%20%20%20%20%20%20%20%20var%20icon_f75baeb6367649cdad129fdea1410300%20%3D%20L.AwesomeMarkers.icon%28%0A%20%20%20%20%20%20%20%20%20%20%20%20%20%20%20%20%7B%22extraClasses%22%3A%20%22fa-rotate-0%22%2C%20%22icon%22%3A%20%22info-sign%22%2C%20%22iconColor%22%3A%20%22red%22%2C%20%22markerColor%22%3A%20%22white%22%2C%20%22prefix%22%3A%20%22glyphicon%22%7D%0A%20%20%20%20%20%20%20%20%20%20%20%20%29%3B%0A%20%20%20%20%20%20%20%20%20%20%20%20marker_3c577fd599d44a76ae1c7049a7525bf2.setIcon%28icon_f75baeb6367649cdad129fdea1410300%29%3B%0A%20%20%20%20%20%20%20%20%0A%20%20%20%20%0A%20%20%20%20%20%20%20%20%20%20%20%20var%20marker_496fcbde8b9e462981db71e9ad18d5ea%20%3D%20L.marker%28%0A%20%20%20%20%20%20%20%20%20%20%20%20%20%20%20%20%5B28.5618571%2C%20-80.577366%5D%2C%0A%20%20%20%20%20%20%20%20%20%20%20%20%20%20%20%20%7B%7D%0A%20%20%20%20%20%20%20%20%20%20%20%20%29.addTo%28marker_cluster_4e9849bc674e4748b794ecb2c1aea053%29%3B%0A%20%20%20%20%20%20%20%20%0A%20%20%20%20%0A%20%20%20%20%20%20%20%20%20%20%20%20var%20icon_ef545c510ce34b76ad466571019523ac%20%3D%20L.AwesomeMarkers.icon%28%0A%20%20%20%20%20%20%20%20%20%20%20%20%20%20%20%20%7B%22extraClasses%22%3A%20%22fa-rotate-0%22%2C%20%22icon%22%3A%20%22info-sign%22%2C%20%22iconColor%22%3A%20%22red%22%2C%20%22markerColor%22%3A%20%22white%22%2C%20%22prefix%22%3A%20%22glyphicon%22%7D%0A%20%20%20%20%20%20%20%20%20%20%20%20%29%3B%0A%20%20%20%20%20%20%20%20%20%20%20%20marker_496fcbde8b9e462981db71e9ad18d5ea.setIcon%28icon_ef545c510ce34b76ad466571019523ac%29%3B%0A%20%20%20%20%20%20%20%20%0A%20%20%20%20%0A%20%20%20%20%20%20%20%20%20%20%20%20var%20marker_2056fb2f677f4a639394feb7ec530b91%20%3D%20L.marker%28%0A%20%20%20%20%20%20%20%20%20%20%20%20%20%20%20%20%5B34.632093%2C%20-120.610829%5D%2C%0A%20%20%20%20%20%20%20%20%20%20%20%20%20%20%20%20%7B%7D%0A%20%20%20%20%20%20%20%20%20%20%20%20%29.addTo%28marker_cluster_4e9849bc674e4748b794ecb2c1aea053%29%3B%0A%20%20%20%20%20%20%20%20%0A%20%20%20%20%0A%20%20%20%20%20%20%20%20%20%20%20%20var%20icon_f1c15bad71504aa3a2cc2c95f17aea22%20%3D%20L.AwesomeMarkers.icon%28%0A%20%20%20%20%20%20%20%20%20%20%20%20%20%20%20%20%7B%22extraClasses%22%3A%20%22fa-rotate-0%22%2C%20%22icon%22%3A%20%22info-sign%22%2C%20%22iconColor%22%3A%20%22red%22%2C%20%22markerColor%22%3A%20%22white%22%2C%20%22prefix%22%3A%20%22glyphicon%22%7D%0A%20%20%20%20%20%20%20%20%20%20%20%20%29%3B%0A%20%20%20%20%20%20%20%20%20%20%20%20marker_2056fb2f677f4a639394feb7ec530b91.setIcon%28icon_f1c15bad71504aa3a2cc2c95f17aea22%29%3B%0A%20%20%20%20%20%20%20%20%0A%20%20%20%20%0A%20%20%20%20%20%20%20%20%20%20%20%20var%20marker_dc9eceb471d343168b92d3971c19c087%20%3D%20L.marker%28%0A%20%20%20%20%20%20%20%20%20%20%20%20%20%20%20%20%5B28.5618571%2C%20-80.577366%5D%2C%0A%20%20%20%20%20%20%20%20%20%20%20%20%20%20%20%20%7B%7D%0A%20%20%20%20%20%20%20%20%20%20%20%20%29.addTo%28marker_cluster_4e9849bc674e4748b794ecb2c1aea053%29%3B%0A%20%20%20%20%20%20%20%20%0A%20%20%20%20%0A%20%20%20%20%20%20%20%20%20%20%20%20var%20icon_5085ae014bda4cc790e1f53189f4dd3f%20%3D%20L.AwesomeMarkers.icon%28%0A%20%20%20%20%20%20%20%20%20%20%20%20%20%20%20%20%7B%22extraClasses%22%3A%20%22fa-rotate-0%22%2C%20%22icon%22%3A%20%22info-sign%22%2C%20%22iconColor%22%3A%20%22red%22%2C%20%22markerColor%22%3A%20%22white%22%2C%20%22prefix%22%3A%20%22glyphicon%22%7D%0A%20%20%20%20%20%20%20%20%20%20%20%20%29%3B%0A%20%20%20%20%20%20%20%20%20%20%20%20marker_dc9eceb471d343168b92d3971c19c087.setIcon%28icon_5085ae014bda4cc790e1f53189f4dd3f%29%3B%0A%20%20%20%20%20%20%20%20%0A%20%20%20%20%0A%20%20%20%20%20%20%20%20%20%20%20%20var%20marker_d3ab1ff61cab49ccb4ad18f7a1c1100f%20%3D%20L.marker%28%0A%20%20%20%20%20%20%20%20%20%20%20%20%20%20%20%20%5B28.5618571%2C%20-80.577366%5D%2C%0A%20%20%20%20%20%20%20%20%20%20%20%20%20%20%20%20%7B%7D%0A%20%20%20%20%20%20%20%20%20%20%20%20%29.addTo%28marker_cluster_4e9849bc674e4748b794ecb2c1aea053%29%3B%0A%20%20%20%20%20%20%20%20%0A%20%20%20%20%0A%20%20%20%20%20%20%20%20%20%20%20%20var%20icon_cc071d1895e249158f049ab565be3cd9%20%3D%20L.AwesomeMarkers.icon%28%0A%20%20%20%20%20%20%20%20%20%20%20%20%20%20%20%20%7B%22extraClasses%22%3A%20%22fa-rotate-0%22%2C%20%22icon%22%3A%20%22info-sign%22%2C%20%22iconColor%22%3A%20%22red%22%2C%20%22markerColor%22%3A%20%22white%22%2C%20%22prefix%22%3A%20%22glyphicon%22%7D%0A%20%20%20%20%20%20%20%20%20%20%20%20%29%3B%0A%20%20%20%20%20%20%20%20%20%20%20%20marker_d3ab1ff61cab49ccb4ad18f7a1c1100f.setIcon%28icon_cc071d1895e249158f049ab565be3cd9%29%3B%0A%20%20%20%20%20%20%20%20%0A%20%20%20%20%0A%20%20%20%20%20%20%20%20%20%20%20%20var%20marker_af22b2c51c714847b0e2e2eea28f4cce%20%3D%20L.marker%28%0A%20%20%20%20%20%20%20%20%20%20%20%20%20%20%20%20%5B28.5618571%2C%20-80.577366%5D%2C%0A%20%20%20%20%20%20%20%20%20%20%20%20%20%20%20%20%7B%7D%0A%20%20%20%20%20%20%20%20%20%20%20%20%29.addTo%28marker_cluster_4e9849bc674e4748b794ecb2c1aea053%29%3B%0A%20%20%20%20%20%20%20%20%0A%20%20%20%20%0A%20%20%20%20%20%20%20%20%20%20%20%20var%20icon_e625bcb2c56c437ca06b8136dcd1e5f8%20%3D%20L.AwesomeMarkers.icon%28%0A%20%20%20%20%20%20%20%20%20%20%20%20%20%20%20%20%7B%22extraClasses%22%3A%20%22fa-rotate-0%22%2C%20%22icon%22%3A%20%22info-sign%22%2C%20%22iconColor%22%3A%20%22green%22%2C%20%22markerColor%22%3A%20%22white%22%2C%20%22prefix%22%3A%20%22glyphicon%22%7D%0A%20%20%20%20%20%20%20%20%20%20%20%20%29%3B%0A%20%20%20%20%20%20%20%20%20%20%20%20marker_af22b2c51c714847b0e2e2eea28f4cce.setIcon%28icon_e625bcb2c56c437ca06b8136dcd1e5f8%29%3B%0A%20%20%20%20%20%20%20%20%0A%20%20%20%20%0A%20%20%20%20%20%20%20%20%20%20%20%20var%20marker_50ddeb71c6df4e3788ecc9720fb5c14f%20%3D%20L.marker%28%0A%20%20%20%20%20%20%20%20%20%20%20%20%20%20%20%20%5B28.5618571%2C%20-80.577366%5D%2C%0A%20%20%20%20%20%20%20%20%20%20%20%20%20%20%20%20%7B%7D%0A%20%20%20%20%20%20%20%20%20%20%20%20%29.addTo%28marker_cluster_4e9849bc674e4748b794ecb2c1aea053%29%3B%0A%20%20%20%20%20%20%20%20%0A%20%20%20%20%0A%20%20%20%20%20%20%20%20%20%20%20%20var%20icon_0a6a76e2da114e3bb02186ebe8e00ef9%20%3D%20L.AwesomeMarkers.icon%28%0A%20%20%20%20%20%20%20%20%20%20%20%20%20%20%20%20%7B%22extraClasses%22%3A%20%22fa-rotate-0%22%2C%20%22icon%22%3A%20%22info-sign%22%2C%20%22iconColor%22%3A%20%22green%22%2C%20%22markerColor%22%3A%20%22white%22%2C%20%22prefix%22%3A%20%22glyphicon%22%7D%0A%20%20%20%20%20%20%20%20%20%20%20%20%29%3B%0A%20%20%20%20%20%20%20%20%20%20%20%20marker_50ddeb71c6df4e3788ecc9720fb5c14f.setIcon%28icon_0a6a76e2da114e3bb02186ebe8e00ef9%29%3B%0A%20%20%20%20%20%20%20%20%0A%20%20%20%20%0A%20%20%20%20%20%20%20%20%20%20%20%20var%20marker_d14dd6cdc74642ad912e0f4bca2f4f55%20%3D%20L.marker%28%0A%20%20%20%20%20%20%20%20%20%20%20%20%20%20%20%20%5B28.5618571%2C%20-80.577366%5D%2C%0A%20%20%20%20%20%20%20%20%20%20%20%20%20%20%20%20%7B%7D%0A%20%20%20%20%20%20%20%20%20%20%20%20%29.addTo%28marker_cluster_4e9849bc674e4748b794ecb2c1aea053%29%3B%0A%20%20%20%20%20%20%20%20%0A%20%20%20%20%0A%20%20%20%20%20%20%20%20%20%20%20%20var%20icon_cd5b6de4bee74b90b38ebb99ffc5e83c%20%3D%20L.AwesomeMarkers.icon%28%0A%20%20%20%20%20%20%20%20%20%20%20%20%20%20%20%20%7B%22extraClasses%22%3A%20%22fa-rotate-0%22%2C%20%22icon%22%3A%20%22info-sign%22%2C%20%22iconColor%22%3A%20%22red%22%2C%20%22markerColor%22%3A%20%22white%22%2C%20%22prefix%22%3A%20%22glyphicon%22%7D%0A%20%20%20%20%20%20%20%20%20%20%20%20%29%3B%0A%20%20%20%20%20%20%20%20%20%20%20%20marker_d14dd6cdc74642ad912e0f4bca2f4f55.setIcon%28icon_cd5b6de4bee74b90b38ebb99ffc5e83c%29%3B%0A%20%20%20%20%20%20%20%20%0A%20%20%20%20%0A%20%20%20%20%20%20%20%20%20%20%20%20var%20marker_527f8d65552841e3a3fe0a1d9ef11128%20%3D%20L.marker%28%0A%20%20%20%20%20%20%20%20%20%20%20%20%20%20%20%20%5B28.5618571%2C%20-80.577366%5D%2C%0A%20%20%20%20%20%20%20%20%20%20%20%20%20%20%20%20%7B%7D%0A%20%20%20%20%20%20%20%20%20%20%20%20%29.addTo%28marker_cluster_4e9849bc674e4748b794ecb2c1aea053%29%3B%0A%20%20%20%20%20%20%20%20%0A%20%20%20%20%0A%20%20%20%20%20%20%20%20%20%20%20%20var%20icon_edda3bb6a4ad444ab543e93a38d01802%20%3D%20L.AwesomeMarkers.icon%28%0A%20%20%20%20%20%20%20%20%20%20%20%20%20%20%20%20%7B%22extraClasses%22%3A%20%22fa-rotate-0%22%2C%20%22icon%22%3A%20%22info-sign%22%2C%20%22iconColor%22%3A%20%22red%22%2C%20%22markerColor%22%3A%20%22white%22%2C%20%22prefix%22%3A%20%22glyphicon%22%7D%0A%20%20%20%20%20%20%20%20%20%20%20%20%29%3B%0A%20%20%20%20%20%20%20%20%20%20%20%20marker_527f8d65552841e3a3fe0a1d9ef11128.setIcon%28icon_edda3bb6a4ad444ab543e93a38d01802%29%3B%0A%20%20%20%20%20%20%20%20%0A%20%20%20%20%0A%20%20%20%20%20%20%20%20%20%20%20%20var%20marker_7cc8322ed3a14189a16697809cd838a9%20%3D%20L.marker%28%0A%20%20%20%20%20%20%20%20%20%20%20%20%20%20%20%20%5B28.5618571%2C%20-80.577366%5D%2C%0A%20%20%20%20%20%20%20%20%20%20%20%20%20%20%20%20%7B%7D%0A%20%20%20%20%20%20%20%20%20%20%20%20%29.addTo%28marker_cluster_4e9849bc674e4748b794ecb2c1aea053%29%3B%0A%20%20%20%20%20%20%20%20%0A%20%20%20%20%0A%20%20%20%20%20%20%20%20%20%20%20%20var%20icon_47e87439021645a2bbe1a6ecd7049816%20%3D%20L.AwesomeMarkers.icon%28%0A%20%20%20%20%20%20%20%20%20%20%20%20%20%20%20%20%7B%22extraClasses%22%3A%20%22fa-rotate-0%22%2C%20%22icon%22%3A%20%22info-sign%22%2C%20%22iconColor%22%3A%20%22red%22%2C%20%22markerColor%22%3A%20%22white%22%2C%20%22prefix%22%3A%20%22glyphicon%22%7D%0A%20%20%20%20%20%20%20%20%20%20%20%20%29%3B%0A%20%20%20%20%20%20%20%20%20%20%20%20marker_7cc8322ed3a14189a16697809cd838a9.setIcon%28icon_47e87439021645a2bbe1a6ecd7049816%29%3B%0A%20%20%20%20%20%20%20%20%0A%20%20%20%20%0A%20%20%20%20%20%20%20%20%20%20%20%20var%20marker_fbc25b7ce2ef452ab15f80b04cf11269%20%3D%20L.marker%28%0A%20%20%20%20%20%20%20%20%20%20%20%20%20%20%20%20%5B28.5618571%2C%20-80.577366%5D%2C%0A%20%20%20%20%20%20%20%20%20%20%20%20%20%20%20%20%7B%7D%0A%20%20%20%20%20%20%20%20%20%20%20%20%29.addTo%28marker_cluster_4e9849bc674e4748b794ecb2c1aea053%29%3B%0A%20%20%20%20%20%20%20%20%0A%20%20%20%20%0A%20%20%20%20%20%20%20%20%20%20%20%20var%20icon_3db059621f374d7db6e83a3446f3b72c%20%3D%20L.AwesomeMarkers.icon%28%0A%20%20%20%20%20%20%20%20%20%20%20%20%20%20%20%20%7B%22extraClasses%22%3A%20%22fa-rotate-0%22%2C%20%22icon%22%3A%20%22info-sign%22%2C%20%22iconColor%22%3A%20%22red%22%2C%20%22markerColor%22%3A%20%22white%22%2C%20%22prefix%22%3A%20%22glyphicon%22%7D%0A%20%20%20%20%20%20%20%20%20%20%20%20%29%3B%0A%20%20%20%20%20%20%20%20%20%20%20%20marker_fbc25b7ce2ef452ab15f80b04cf11269.setIcon%28icon_3db059621f374d7db6e83a3446f3b72c%29%3B%0A%20%20%20%20%20%20%20%20%0A%20%20%20%20%0A%20%20%20%20%20%20%20%20%20%20%20%20var%20marker_08be92c48ff048698865d59f4a364da1%20%3D%20L.marker%28%0A%20%20%20%20%20%20%20%20%20%20%20%20%20%20%20%20%5B28.5618571%2C%20-80.577366%5D%2C%0A%20%20%20%20%20%20%20%20%20%20%20%20%20%20%20%20%7B%7D%0A%20%20%20%20%20%20%20%20%20%20%20%20%29.addTo%28marker_cluster_4e9849bc674e4748b794ecb2c1aea053%29%3B%0A%20%20%20%20%20%20%20%20%0A%20%20%20%20%0A%20%20%20%20%20%20%20%20%20%20%20%20var%20icon_b32607fb2737456aa98e7d83547d23f6%20%3D%20L.AwesomeMarkers.icon%28%0A%20%20%20%20%20%20%20%20%20%20%20%20%20%20%20%20%7B%22extraClasses%22%3A%20%22fa-rotate-0%22%2C%20%22icon%22%3A%20%22info-sign%22%2C%20%22iconColor%22%3A%20%22green%22%2C%20%22markerColor%22%3A%20%22white%22%2C%20%22prefix%22%3A%20%22glyphicon%22%7D%0A%20%20%20%20%20%20%20%20%20%20%20%20%29%3B%0A%20%20%20%20%20%20%20%20%20%20%20%20marker_08be92c48ff048698865d59f4a364da1.setIcon%28icon_b32607fb2737456aa98e7d83547d23f6%29%3B%0A%20%20%20%20%20%20%20%20%0A%20%20%20%20%0A%20%20%20%20%20%20%20%20%20%20%20%20var%20marker_4cee3f38ead04cdc8160ebaeb5451d90%20%3D%20L.marker%28%0A%20%20%20%20%20%20%20%20%20%20%20%20%20%20%20%20%5B28.5618571%2C%20-80.577366%5D%2C%0A%20%20%20%20%20%20%20%20%20%20%20%20%20%20%20%20%7B%7D%0A%20%20%20%20%20%20%20%20%20%20%20%20%29.addTo%28marker_cluster_4e9849bc674e4748b794ecb2c1aea053%29%3B%0A%20%20%20%20%20%20%20%20%0A%20%20%20%20%0A%20%20%20%20%20%20%20%20%20%20%20%20var%20icon_7ae38ef33c974b58a6dc2f540140fb40%20%3D%20L.AwesomeMarkers.icon%28%0A%20%20%20%20%20%20%20%20%20%20%20%20%20%20%20%20%7B%22extraClasses%22%3A%20%22fa-rotate-0%22%2C%20%22icon%22%3A%20%22info-sign%22%2C%20%22iconColor%22%3A%20%22red%22%2C%20%22markerColor%22%3A%20%22white%22%2C%20%22prefix%22%3A%20%22glyphicon%22%7D%0A%20%20%20%20%20%20%20%20%20%20%20%20%29%3B%0A%20%20%20%20%20%20%20%20%20%20%20%20marker_4cee3f38ead04cdc8160ebaeb5451d90.setIcon%28icon_7ae38ef33c974b58a6dc2f540140fb40%29%3B%0A%20%20%20%20%20%20%20%20%0A%20%20%20%20%0A%20%20%20%20%20%20%20%20%20%20%20%20var%20marker_56d6df2e6295437e8322da088e03ffa4%20%3D%20L.marker%28%0A%20%20%20%20%20%20%20%20%20%20%20%20%20%20%20%20%5B28.5618571%2C%20-80.577366%5D%2C%0A%20%20%20%20%20%20%20%20%20%20%20%20%20%20%20%20%7B%7D%0A%20%20%20%20%20%20%20%20%20%20%20%20%29.addTo%28marker_cluster_4e9849bc674e4748b794ecb2c1aea053%29%3B%0A%20%20%20%20%20%20%20%20%0A%20%20%20%20%0A%20%20%20%20%20%20%20%20%20%20%20%20var%20icon_7e6c77fcdafe4d60b04c8b8d7a8e4de5%20%3D%20L.AwesomeMarkers.icon%28%0A%20%20%20%20%20%20%20%20%20%20%20%20%20%20%20%20%7B%22extraClasses%22%3A%20%22fa-rotate-0%22%2C%20%22icon%22%3A%20%22info-sign%22%2C%20%22iconColor%22%3A%20%22red%22%2C%20%22markerColor%22%3A%20%22white%22%2C%20%22prefix%22%3A%20%22glyphicon%22%7D%0A%20%20%20%20%20%20%20%20%20%20%20%20%29%3B%0A%20%20%20%20%20%20%20%20%20%20%20%20marker_56d6df2e6295437e8322da088e03ffa4.setIcon%28icon_7e6c77fcdafe4d60b04c8b8d7a8e4de5%29%3B%0A%20%20%20%20%20%20%20%20%0A%20%20%20%20%0A%20%20%20%20%20%20%20%20%20%20%20%20var%20marker_3c52e8cfec56444786cd80f6202e892c%20%3D%20L.marker%28%0A%20%20%20%20%20%20%20%20%20%20%20%20%20%20%20%20%5B28.5618571%2C%20-80.577366%5D%2C%0A%20%20%20%20%20%20%20%20%20%20%20%20%20%20%20%20%7B%7D%0A%20%20%20%20%20%20%20%20%20%20%20%20%29.addTo%28marker_cluster_4e9849bc674e4748b794ecb2c1aea053%29%3B%0A%20%20%20%20%20%20%20%20%0A%20%20%20%20%0A%20%20%20%20%20%20%20%20%20%20%20%20var%20icon_b006f2d3ee9845fea3068e19cfc8ce98%20%3D%20L.AwesomeMarkers.icon%28%0A%20%20%20%20%20%20%20%20%20%20%20%20%20%20%20%20%7B%22extraClasses%22%3A%20%22fa-rotate-0%22%2C%20%22icon%22%3A%20%22info-sign%22%2C%20%22iconColor%22%3A%20%22red%22%2C%20%22markerColor%22%3A%20%22white%22%2C%20%22prefix%22%3A%20%22glyphicon%22%7D%0A%20%20%20%20%20%20%20%20%20%20%20%20%29%3B%0A%20%20%20%20%20%20%20%20%20%20%20%20marker_3c52e8cfec56444786cd80f6202e892c.setIcon%28icon_b006f2d3ee9845fea3068e19cfc8ce98%29%3B%0A%20%20%20%20%20%20%20%20%0A%20%20%20%20%0A%20%20%20%20%20%20%20%20%20%20%20%20var%20marker_6f3ac4b1a4f344e58896a9191a109375%20%3D%20L.marker%28%0A%20%20%20%20%20%20%20%20%20%20%20%20%20%20%20%20%5B28.5618571%2C%20-80.577366%5D%2C%0A%20%20%20%20%20%20%20%20%20%20%20%20%20%20%20%20%7B%7D%0A%20%20%20%20%20%20%20%20%20%20%20%20%29.addTo%28marker_cluster_4e9849bc674e4748b794ecb2c1aea053%29%3B%0A%20%20%20%20%20%20%20%20%0A%20%20%20%20%0A%20%20%20%20%20%20%20%20%20%20%20%20var%20icon_1bbf33da6c5c46c9bd057fffcd109172%20%3D%20L.AwesomeMarkers.icon%28%0A%20%20%20%20%20%20%20%20%20%20%20%20%20%20%20%20%7B%22extraClasses%22%3A%20%22fa-rotate-0%22%2C%20%22icon%22%3A%20%22info-sign%22%2C%20%22iconColor%22%3A%20%22green%22%2C%20%22markerColor%22%3A%20%22white%22%2C%20%22prefix%22%3A%20%22glyphicon%22%7D%0A%20%20%20%20%20%20%20%20%20%20%20%20%29%3B%0A%20%20%20%20%20%20%20%20%20%20%20%20marker_6f3ac4b1a4f344e58896a9191a109375.setIcon%28icon_1bbf33da6c5c46c9bd057fffcd109172%29%3B%0A%20%20%20%20%20%20%20%20%0A%20%20%20%20%0A%20%20%20%20%20%20%20%20%20%20%20%20var%20marker_e038cbaae2ed40969a33bcfcb9aabc3e%20%3D%20L.marker%28%0A%20%20%20%20%20%20%20%20%20%20%20%20%20%20%20%20%5B34.632093%2C%20-120.610829%5D%2C%0A%20%20%20%20%20%20%20%20%20%20%20%20%20%20%20%20%7B%7D%0A%20%20%20%20%20%20%20%20%20%20%20%20%29.addTo%28marker_cluster_4e9849bc674e4748b794ecb2c1aea053%29%3B%0A%20%20%20%20%20%20%20%20%0A%20%20%20%20%0A%20%20%20%20%20%20%20%20%20%20%20%20var%20icon_44d41e7fd4834b1ca3a40ad6d9f6a544%20%3D%20L.AwesomeMarkers.icon%28%0A%20%20%20%20%20%20%20%20%20%20%20%20%20%20%20%20%7B%22extraClasses%22%3A%20%22fa-rotate-0%22%2C%20%22icon%22%3A%20%22info-sign%22%2C%20%22iconColor%22%3A%20%22red%22%2C%20%22markerColor%22%3A%20%22white%22%2C%20%22prefix%22%3A%20%22glyphicon%22%7D%0A%20%20%20%20%20%20%20%20%20%20%20%20%29%3B%0A%20%20%20%20%20%20%20%20%20%20%20%20marker_e038cbaae2ed40969a33bcfcb9aabc3e.setIcon%28icon_44d41e7fd4834b1ca3a40ad6d9f6a544%29%3B%0A%20%20%20%20%20%20%20%20%0A%20%20%20%20%0A%20%20%20%20%20%20%20%20%20%20%20%20var%20marker_73f147bd78dd4328b61224b52d9f873e%20%3D%20L.marker%28%0A%20%20%20%20%20%20%20%20%20%20%20%20%20%20%20%20%5B28.5618571%2C%20-80.577366%5D%2C%0A%20%20%20%20%20%20%20%20%20%20%20%20%20%20%20%20%7B%7D%0A%20%20%20%20%20%20%20%20%20%20%20%20%29.addTo%28marker_cluster_4e9849bc674e4748b794ecb2c1aea053%29%3B%0A%20%20%20%20%20%20%20%20%0A%20%20%20%20%0A%20%20%20%20%20%20%20%20%20%20%20%20var%20icon_9d8fba3731cb453a9dfa71bcc4757e40%20%3D%20L.AwesomeMarkers.icon%28%0A%20%20%20%20%20%20%20%20%20%20%20%20%20%20%20%20%7B%22extraClasses%22%3A%20%22fa-rotate-0%22%2C%20%22icon%22%3A%20%22info-sign%22%2C%20%22iconColor%22%3A%20%22red%22%2C%20%22markerColor%22%3A%20%22white%22%2C%20%22prefix%22%3A%20%22glyphicon%22%7D%0A%20%20%20%20%20%20%20%20%20%20%20%20%29%3B%0A%20%20%20%20%20%20%20%20%20%20%20%20marker_73f147bd78dd4328b61224b52d9f873e.setIcon%28icon_9d8fba3731cb453a9dfa71bcc4757e40%29%3B%0A%20%20%20%20%20%20%20%20%0A%20%20%20%20%0A%20%20%20%20%20%20%20%20%20%20%20%20var%20marker_e0883f0163204a6e9d44a7ea7f4d650c%20%3D%20L.marker%28%0A%20%20%20%20%20%20%20%20%20%20%20%20%20%20%20%20%5B28.5618571%2C%20-80.577366%5D%2C%0A%20%20%20%20%20%20%20%20%20%20%20%20%20%20%20%20%7B%7D%0A%20%20%20%20%20%20%20%20%20%20%20%20%29.addTo%28marker_cluster_4e9849bc674e4748b794ecb2c1aea053%29%3B%0A%20%20%20%20%20%20%20%20%0A%20%20%20%20%0A%20%20%20%20%20%20%20%20%20%20%20%20var%20icon_9ba3a1f0b9284e89a9e8a6e402cb8bf4%20%3D%20L.AwesomeMarkers.icon%28%0A%20%20%20%20%20%20%20%20%20%20%20%20%20%20%20%20%7B%22extraClasses%22%3A%20%22fa-rotate-0%22%2C%20%22icon%22%3A%20%22info-sign%22%2C%20%22iconColor%22%3A%20%22green%22%2C%20%22markerColor%22%3A%20%22white%22%2C%20%22prefix%22%3A%20%22glyphicon%22%7D%0A%20%20%20%20%20%20%20%20%20%20%20%20%29%3B%0A%20%20%20%20%20%20%20%20%20%20%20%20marker_e0883f0163204a6e9d44a7ea7f4d650c.setIcon%28icon_9ba3a1f0b9284e89a9e8a6e402cb8bf4%29%3B%0A%20%20%20%20%20%20%20%20%0A%20%20%20%20%0A%20%20%20%20%20%20%20%20%20%20%20%20var%20marker_2c5d2fee5d1f43c38ef3cfe387d0d3e1%20%3D%20L.marker%28%0A%20%20%20%20%20%20%20%20%20%20%20%20%20%20%20%20%5B28.5618571%2C%20-80.577366%5D%2C%0A%20%20%20%20%20%20%20%20%20%20%20%20%20%20%20%20%7B%7D%0A%20%20%20%20%20%20%20%20%20%20%20%20%29.addTo%28marker_cluster_4e9849bc674e4748b794ecb2c1aea053%29%3B%0A%20%20%20%20%20%20%20%20%0A%20%20%20%20%0A%20%20%20%20%20%20%20%20%20%20%20%20var%20icon_a01dfa032bf64308aab54a803df680db%20%3D%20L.AwesomeMarkers.icon%28%0A%20%20%20%20%20%20%20%20%20%20%20%20%20%20%20%20%7B%22extraClasses%22%3A%20%22fa-rotate-0%22%2C%20%22icon%22%3A%20%22info-sign%22%2C%20%22iconColor%22%3A%20%22green%22%2C%20%22markerColor%22%3A%20%22white%22%2C%20%22prefix%22%3A%20%22glyphicon%22%7D%0A%20%20%20%20%20%20%20%20%20%20%20%20%29%3B%0A%20%20%20%20%20%20%20%20%20%20%20%20marker_2c5d2fee5d1f43c38ef3cfe387d0d3e1.setIcon%28icon_a01dfa032bf64308aab54a803df680db%29%3B%0A%20%20%20%20%20%20%20%20%0A%20%20%20%20%0A%20%20%20%20%20%20%20%20%20%20%20%20var%20marker_bb0b2572cf964afab483d59277a1ab7a%20%3D%20L.marker%28%0A%20%20%20%20%20%20%20%20%20%20%20%20%20%20%20%20%5B28.5618571%2C%20-80.577366%5D%2C%0A%20%20%20%20%20%20%20%20%20%20%20%20%20%20%20%20%7B%7D%0A%20%20%20%20%20%20%20%20%20%20%20%20%29.addTo%28marker_cluster_4e9849bc674e4748b794ecb2c1aea053%29%3B%0A%20%20%20%20%20%20%20%20%0A%20%20%20%20%0A%20%20%20%20%20%20%20%20%20%20%20%20var%20icon_e009c6c317954d06b45de0123a773950%20%3D%20L.AwesomeMarkers.icon%28%0A%20%20%20%20%20%20%20%20%20%20%20%20%20%20%20%20%7B%22extraClasses%22%3A%20%22fa-rotate-0%22%2C%20%22icon%22%3A%20%22info-sign%22%2C%20%22iconColor%22%3A%20%22green%22%2C%20%22markerColor%22%3A%20%22white%22%2C%20%22prefix%22%3A%20%22glyphicon%22%7D%0A%20%20%20%20%20%20%20%20%20%20%20%20%29%3B%0A%20%20%20%20%20%20%20%20%20%20%20%20marker_bb0b2572cf964afab483d59277a1ab7a.setIcon%28icon_e009c6c317954d06b45de0123a773950%29%3B%0A%20%20%20%20%20%20%20%20%0A%20%20%20%20%0A%20%20%20%20%20%20%20%20%20%20%20%20var%20marker_45d03d688ab7484287519f605059a6f8%20%3D%20L.marker%28%0A%20%20%20%20%20%20%20%20%20%20%20%20%20%20%20%20%5B28.5618571%2C%20-80.577366%5D%2C%0A%20%20%20%20%20%20%20%20%20%20%20%20%20%20%20%20%7B%7D%0A%20%20%20%20%20%20%20%20%20%20%20%20%29.addTo%28marker_cluster_4e9849bc674e4748b794ecb2c1aea053%29%3B%0A%20%20%20%20%20%20%20%20%0A%20%20%20%20%0A%20%20%20%20%20%20%20%20%20%20%20%20var%20icon_bca4e76ce5494b16a55e296105d53afc%20%3D%20L.AwesomeMarkers.icon%28%0A%20%20%20%20%20%20%20%20%20%20%20%20%20%20%20%20%7B%22extraClasses%22%3A%20%22fa-rotate-0%22%2C%20%22icon%22%3A%20%22info-sign%22%2C%20%22iconColor%22%3A%20%22green%22%2C%20%22markerColor%22%3A%20%22white%22%2C%20%22prefix%22%3A%20%22glyphicon%22%7D%0A%20%20%20%20%20%20%20%20%20%20%20%20%29%3B%0A%20%20%20%20%20%20%20%20%20%20%20%20marker_45d03d688ab7484287519f605059a6f8.setIcon%28icon_bca4e76ce5494b16a55e296105d53afc%29%3B%0A%20%20%20%20%20%20%20%20%0A%20%20%20%20%0A%20%20%20%20%20%20%20%20%20%20%20%20var%20marker_71470ce00379464c976ff69938952dee%20%3D%20L.marker%28%0A%20%20%20%20%20%20%20%20%20%20%20%20%20%20%20%20%5B28.5618571%2C%20-80.577366%5D%2C%0A%20%20%20%20%20%20%20%20%20%20%20%20%20%20%20%20%7B%7D%0A%20%20%20%20%20%20%20%20%20%20%20%20%29.addTo%28marker_cluster_4e9849bc674e4748b794ecb2c1aea053%29%3B%0A%20%20%20%20%20%20%20%20%0A%20%20%20%20%0A%20%20%20%20%20%20%20%20%20%20%20%20var%20icon_79fe8af48f0e4e38b37ca501946eb022%20%3D%20L.AwesomeMarkers.icon%28%0A%20%20%20%20%20%20%20%20%20%20%20%20%20%20%20%20%7B%22extraClasses%22%3A%20%22fa-rotate-0%22%2C%20%22icon%22%3A%20%22info-sign%22%2C%20%22iconColor%22%3A%20%22green%22%2C%20%22markerColor%22%3A%20%22white%22%2C%20%22prefix%22%3A%20%22glyphicon%22%7D%0A%20%20%20%20%20%20%20%20%20%20%20%20%29%3B%0A%20%20%20%20%20%20%20%20%20%20%20%20marker_71470ce00379464c976ff69938952dee.setIcon%28icon_79fe8af48f0e4e38b37ca501946eb022%29%3B%0A%20%20%20%20%20%20%20%20%0A%20%20%20%20%0A%20%20%20%20%20%20%20%20%20%20%20%20var%20marker_84de452658434888bcb30434d5c210f5%20%3D%20L.marker%28%0A%20%20%20%20%20%20%20%20%20%20%20%20%20%20%20%20%5B28.5618571%2C%20-80.577366%5D%2C%0A%20%20%20%20%20%20%20%20%20%20%20%20%20%20%20%20%7B%7D%0A%20%20%20%20%20%20%20%20%20%20%20%20%29.addTo%28marker_cluster_4e9849bc674e4748b794ecb2c1aea053%29%3B%0A%20%20%20%20%20%20%20%20%0A%20%20%20%20%0A%20%20%20%20%20%20%20%20%20%20%20%20var%20icon_ff37139f9865430ca557e2204391ed11%20%3D%20L.AwesomeMarkers.icon%28%0A%20%20%20%20%20%20%20%20%20%20%20%20%20%20%20%20%7B%22extraClasses%22%3A%20%22fa-rotate-0%22%2C%20%22icon%22%3A%20%22info-sign%22%2C%20%22iconColor%22%3A%20%22red%22%2C%20%22markerColor%22%3A%20%22white%22%2C%20%22prefix%22%3A%20%22glyphicon%22%7D%0A%20%20%20%20%20%20%20%20%20%20%20%20%29%3B%0A%20%20%20%20%20%20%20%20%20%20%20%20marker_84de452658434888bcb30434d5c210f5.setIcon%28icon_ff37139f9865430ca557e2204391ed11%29%3B%0A%20%20%20%20%20%20%20%20%0A%20%20%20%20%0A%20%20%20%20%20%20%20%20%20%20%20%20var%20marker_8cc61b5ced4949738c0c547cf0babb67%20%3D%20L.marker%28%0A%20%20%20%20%20%20%20%20%20%20%20%20%20%20%20%20%5B34.632093%2C%20-120.610829%5D%2C%0A%20%20%20%20%20%20%20%20%20%20%20%20%20%20%20%20%7B%7D%0A%20%20%20%20%20%20%20%20%20%20%20%20%29.addTo%28marker_cluster_4e9849bc674e4748b794ecb2c1aea053%29%3B%0A%20%20%20%20%20%20%20%20%0A%20%20%20%20%0A%20%20%20%20%20%20%20%20%20%20%20%20var%20icon_15981b77788b4347950621abaf1ff2d6%20%3D%20L.AwesomeMarkers.icon%28%0A%20%20%20%20%20%20%20%20%20%20%20%20%20%20%20%20%7B%22extraClasses%22%3A%20%22fa-rotate-0%22%2C%20%22icon%22%3A%20%22info-sign%22%2C%20%22iconColor%22%3A%20%22green%22%2C%20%22markerColor%22%3A%20%22white%22%2C%20%22prefix%22%3A%20%22glyphicon%22%7D%0A%20%20%20%20%20%20%20%20%20%20%20%20%29%3B%0A%20%20%20%20%20%20%20%20%20%20%20%20marker_8cc61b5ced4949738c0c547cf0babb67.setIcon%28icon_15981b77788b4347950621abaf1ff2d6%29%3B%0A%20%20%20%20%20%20%20%20%0A%20%20%20%20%0A%20%20%20%20%20%20%20%20%20%20%20%20var%20marker_d62e00bdfed447f3ba68c1316ad29af4%20%3D%20L.marker%28%0A%20%20%20%20%20%20%20%20%20%20%20%20%20%20%20%20%5B28.6080585%2C%20-80.6039558%5D%2C%0A%20%20%20%20%20%20%20%20%20%20%20%20%20%20%20%20%7B%7D%0A%20%20%20%20%20%20%20%20%20%20%20%20%29.addTo%28marker_cluster_4e9849bc674e4748b794ecb2c1aea053%29%3B%0A%20%20%20%20%20%20%20%20%0A%20%20%20%20%0A%20%20%20%20%20%20%20%20%20%20%20%20var%20icon_08599a73e6454c03a95064950d9ac667%20%3D%20L.AwesomeMarkers.icon%28%0A%20%20%20%20%20%20%20%20%20%20%20%20%20%20%20%20%7B%22extraClasses%22%3A%20%22fa-rotate-0%22%2C%20%22icon%22%3A%20%22info-sign%22%2C%20%22iconColor%22%3A%20%22green%22%2C%20%22markerColor%22%3A%20%22white%22%2C%20%22prefix%22%3A%20%22glyphicon%22%7D%0A%20%20%20%20%20%20%20%20%20%20%20%20%29%3B%0A%20%20%20%20%20%20%20%20%20%20%20%20marker_d62e00bdfed447f3ba68c1316ad29af4.setIcon%28icon_08599a73e6454c03a95064950d9ac667%29%3B%0A%20%20%20%20%20%20%20%20%0A%20%20%20%20%0A%20%20%20%20%20%20%20%20%20%20%20%20var%20marker_aa3cd60a5e1f44a09ea14133cb2e896a%20%3D%20L.marker%28%0A%20%20%20%20%20%20%20%20%20%20%20%20%20%20%20%20%5B28.6080585%2C%20-80.6039558%5D%2C%0A%20%20%20%20%20%20%20%20%20%20%20%20%20%20%20%20%7B%7D%0A%20%20%20%20%20%20%20%20%20%20%20%20%29.addTo%28marker_cluster_4e9849bc674e4748b794ecb2c1aea053%29%3B%0A%20%20%20%20%20%20%20%20%0A%20%20%20%20%0A%20%20%20%20%20%20%20%20%20%20%20%20var%20icon_ea87703bf0fb4565b2f793be20417b58%20%3D%20L.AwesomeMarkers.icon%28%0A%20%20%20%20%20%20%20%20%20%20%20%20%20%20%20%20%7B%22extraClasses%22%3A%20%22fa-rotate-0%22%2C%20%22icon%22%3A%20%22info-sign%22%2C%20%22iconColor%22%3A%20%22red%22%2C%20%22markerColor%22%3A%20%22white%22%2C%20%22prefix%22%3A%20%22glyphicon%22%7D%0A%20%20%20%20%20%20%20%20%20%20%20%20%29%3B%0A%20%20%20%20%20%20%20%20%20%20%20%20marker_aa3cd60a5e1f44a09ea14133cb2e896a.setIcon%28icon_ea87703bf0fb4565b2f793be20417b58%29%3B%0A%20%20%20%20%20%20%20%20%0A%20%20%20%20%0A%20%20%20%20%20%20%20%20%20%20%20%20var%20marker_6b2a61f189c846f6811a62711d4d8c18%20%3D%20L.marker%28%0A%20%20%20%20%20%20%20%20%20%20%20%20%20%20%20%20%5B28.6080585%2C%20-80.6039558%5D%2C%0A%20%20%20%20%20%20%20%20%20%20%20%20%20%20%20%20%7B%7D%0A%20%20%20%20%20%20%20%20%20%20%20%20%29.addTo%28marker_cluster_4e9849bc674e4748b794ecb2c1aea053%29%3B%0A%20%20%20%20%20%20%20%20%0A%20%20%20%20%0A%20%20%20%20%20%20%20%20%20%20%20%20var%20icon_73608d96ca074860abfa5c8a48d68868%20%3D%20L.AwesomeMarkers.icon%28%0A%20%20%20%20%20%20%20%20%20%20%20%20%20%20%20%20%7B%22extraClasses%22%3A%20%22fa-rotate-0%22%2C%20%22icon%22%3A%20%22info-sign%22%2C%20%22iconColor%22%3A%20%22green%22%2C%20%22markerColor%22%3A%20%22white%22%2C%20%22prefix%22%3A%20%22glyphicon%22%7D%0A%20%20%20%20%20%20%20%20%20%20%20%20%29%3B%0A%20%20%20%20%20%20%20%20%20%20%20%20marker_6b2a61f189c846f6811a62711d4d8c18.setIcon%28icon_73608d96ca074860abfa5c8a48d68868%29%3B%0A%20%20%20%20%20%20%20%20%0A%20%20%20%20%0A%20%20%20%20%20%20%20%20%20%20%20%20var%20marker_2c54afe24be54023825d20d083f10b0e%20%3D%20L.marker%28%0A%20%20%20%20%20%20%20%20%20%20%20%20%20%20%20%20%5B28.6080585%2C%20-80.6039558%5D%2C%0A%20%20%20%20%20%20%20%20%20%20%20%20%20%20%20%20%7B%7D%0A%20%20%20%20%20%20%20%20%20%20%20%20%29.addTo%28marker_cluster_4e9849bc674e4748b794ecb2c1aea053%29%3B%0A%20%20%20%20%20%20%20%20%0A%20%20%20%20%0A%20%20%20%20%20%20%20%20%20%20%20%20var%20icon_6160adeb19b345ebbf90b7ffc53ea7b7%20%3D%20L.AwesomeMarkers.icon%28%0A%20%20%20%20%20%20%20%20%20%20%20%20%20%20%20%20%7B%22extraClasses%22%3A%20%22fa-rotate-0%22%2C%20%22icon%22%3A%20%22info-sign%22%2C%20%22iconColor%22%3A%20%22green%22%2C%20%22markerColor%22%3A%20%22white%22%2C%20%22prefix%22%3A%20%22glyphicon%22%7D%0A%20%20%20%20%20%20%20%20%20%20%20%20%29%3B%0A%20%20%20%20%20%20%20%20%20%20%20%20marker_2c54afe24be54023825d20d083f10b0e.setIcon%28icon_6160adeb19b345ebbf90b7ffc53ea7b7%29%3B%0A%20%20%20%20%20%20%20%20%0A%20%20%20%20%0A%20%20%20%20%20%20%20%20%20%20%20%20var%20marker_60459e19bf074708bc7472b9b069465a%20%3D%20L.marker%28%0A%20%20%20%20%20%20%20%20%20%20%20%20%20%20%20%20%5B28.6080585%2C%20-80.6039558%5D%2C%0A%20%20%20%20%20%20%20%20%20%20%20%20%20%20%20%20%7B%7D%0A%20%20%20%20%20%20%20%20%20%20%20%20%29.addTo%28marker_cluster_4e9849bc674e4748b794ecb2c1aea053%29%3B%0A%20%20%20%20%20%20%20%20%0A%20%20%20%20%0A%20%20%20%20%20%20%20%20%20%20%20%20var%20icon_e87cf627a3c94818895f690d139d11c3%20%3D%20L.AwesomeMarkers.icon%28%0A%20%20%20%20%20%20%20%20%20%20%20%20%20%20%20%20%7B%22extraClasses%22%3A%20%22fa-rotate-0%22%2C%20%22icon%22%3A%20%22info-sign%22%2C%20%22iconColor%22%3A%20%22red%22%2C%20%22markerColor%22%3A%20%22white%22%2C%20%22prefix%22%3A%20%22glyphicon%22%7D%0A%20%20%20%20%20%20%20%20%20%20%20%20%29%3B%0A%20%20%20%20%20%20%20%20%20%20%20%20marker_60459e19bf074708bc7472b9b069465a.setIcon%28icon_e87cf627a3c94818895f690d139d11c3%29%3B%0A%20%20%20%20%20%20%20%20%0A%20%20%20%20%0A%20%20%20%20%20%20%20%20%20%20%20%20var%20marker_b5a69456790c4cd5b15f8eb9dcc74339%20%3D%20L.marker%28%0A%20%20%20%20%20%20%20%20%20%20%20%20%20%20%20%20%5B28.6080585%2C%20-80.6039558%5D%2C%0A%20%20%20%20%20%20%20%20%20%20%20%20%20%20%20%20%7B%7D%0A%20%20%20%20%20%20%20%20%20%20%20%20%29.addTo%28marker_cluster_4e9849bc674e4748b794ecb2c1aea053%29%3B%0A%20%20%20%20%20%20%20%20%0A%20%20%20%20%0A%20%20%20%20%20%20%20%20%20%20%20%20var%20icon_8ef224b81b73494ea5d8336235204749%20%3D%20L.AwesomeMarkers.icon%28%0A%20%20%20%20%20%20%20%20%20%20%20%20%20%20%20%20%7B%22extraClasses%22%3A%20%22fa-rotate-0%22%2C%20%22icon%22%3A%20%22info-sign%22%2C%20%22iconColor%22%3A%20%22green%22%2C%20%22markerColor%22%3A%20%22white%22%2C%20%22prefix%22%3A%20%22glyphicon%22%7D%0A%20%20%20%20%20%20%20%20%20%20%20%20%29%3B%0A%20%20%20%20%20%20%20%20%20%20%20%20marker_b5a69456790c4cd5b15f8eb9dcc74339.setIcon%28icon_8ef224b81b73494ea5d8336235204749%29%3B%0A%20%20%20%20%20%20%20%20%0A%20%20%20%20%0A%20%20%20%20%20%20%20%20%20%20%20%20var%20marker_e033bbac9c544a3cbe4c4c3846f3bb31%20%3D%20L.marker%28%0A%20%20%20%20%20%20%20%20%20%20%20%20%20%20%20%20%5B28.6080585%2C%20-80.6039558%5D%2C%0A%20%20%20%20%20%20%20%20%20%20%20%20%20%20%20%20%7B%7D%0A%20%20%20%20%20%20%20%20%20%20%20%20%29.addTo%28marker_cluster_4e9849bc674e4748b794ecb2c1aea053%29%3B%0A%20%20%20%20%20%20%20%20%0A%20%20%20%20%0A%20%20%20%20%20%20%20%20%20%20%20%20var%20icon_577c1502281941fcae92817ccc143e40%20%3D%20L.AwesomeMarkers.icon%28%0A%20%20%20%20%20%20%20%20%20%20%20%20%20%20%20%20%7B%22extraClasses%22%3A%20%22fa-rotate-0%22%2C%20%22icon%22%3A%20%22info-sign%22%2C%20%22iconColor%22%3A%20%22green%22%2C%20%22markerColor%22%3A%20%22white%22%2C%20%22prefix%22%3A%20%22glyphicon%22%7D%0A%20%20%20%20%20%20%20%20%20%20%20%20%29%3B%0A%20%20%20%20%20%20%20%20%20%20%20%20marker_e033bbac9c544a3cbe4c4c3846f3bb31.setIcon%28icon_577c1502281941fcae92817ccc143e40%29%3B%0A%20%20%20%20%20%20%20%20%0A%20%20%20%20%0A%20%20%20%20%20%20%20%20%20%20%20%20var%20marker_9cb3f5f90a2f4bf3a549698c7f3d20e7%20%3D%20L.marker%28%0A%20%20%20%20%20%20%20%20%20%20%20%20%20%20%20%20%5B34.632093%2C%20-120.610829%5D%2C%0A%20%20%20%20%20%20%20%20%20%20%20%20%20%20%20%20%7B%7D%0A%20%20%20%20%20%20%20%20%20%20%20%20%29.addTo%28marker_cluster_4e9849bc674e4748b794ecb2c1aea053%29%3B%0A%20%20%20%20%20%20%20%20%0A%20%20%20%20%0A%20%20%20%20%20%20%20%20%20%20%20%20var%20icon_bc75cdd2c5e54573a13efa5b586a3ec3%20%3D%20L.AwesomeMarkers.icon%28%0A%20%20%20%20%20%20%20%20%20%20%20%20%20%20%20%20%7B%22extraClasses%22%3A%20%22fa-rotate-0%22%2C%20%22icon%22%3A%20%22info-sign%22%2C%20%22iconColor%22%3A%20%22green%22%2C%20%22markerColor%22%3A%20%22white%22%2C%20%22prefix%22%3A%20%22glyphicon%22%7D%0A%20%20%20%20%20%20%20%20%20%20%20%20%29%3B%0A%20%20%20%20%20%20%20%20%20%20%20%20marker_9cb3f5f90a2f4bf3a549698c7f3d20e7.setIcon%28icon_bc75cdd2c5e54573a13efa5b586a3ec3%29%3B%0A%20%20%20%20%20%20%20%20%0A%20%20%20%20%0A%20%20%20%20%20%20%20%20%20%20%20%20var%20marker_a7e0903ca32b47d9ad80f72ee8d8cff3%20%3D%20L.marker%28%0A%20%20%20%20%20%20%20%20%20%20%20%20%20%20%20%20%5B28.6080585%2C%20-80.6039558%5D%2C%0A%20%20%20%20%20%20%20%20%20%20%20%20%20%20%20%20%7B%7D%0A%20%20%20%20%20%20%20%20%20%20%20%20%29.addTo%28marker_cluster_4e9849bc674e4748b794ecb2c1aea053%29%3B%0A%20%20%20%20%20%20%20%20%0A%20%20%20%20%0A%20%20%20%20%20%20%20%20%20%20%20%20var%20icon_3a537226a31948a3a6fd309d73b31add%20%3D%20L.AwesomeMarkers.icon%28%0A%20%20%20%20%20%20%20%20%20%20%20%20%20%20%20%20%7B%22extraClasses%22%3A%20%22fa-rotate-0%22%2C%20%22icon%22%3A%20%22info-sign%22%2C%20%22iconColor%22%3A%20%22red%22%2C%20%22markerColor%22%3A%20%22white%22%2C%20%22prefix%22%3A%20%22glyphicon%22%7D%0A%20%20%20%20%20%20%20%20%20%20%20%20%29%3B%0A%20%20%20%20%20%20%20%20%20%20%20%20marker_a7e0903ca32b47d9ad80f72ee8d8cff3.setIcon%28icon_3a537226a31948a3a6fd309d73b31add%29%3B%0A%20%20%20%20%20%20%20%20%0A%20%20%20%20%0A%20%20%20%20%20%20%20%20%20%20%20%20var%20marker_daf93b9617604a398d93bf9ce029cd80%20%3D%20L.marker%28%0A%20%20%20%20%20%20%20%20%20%20%20%20%20%20%20%20%5B28.6080585%2C%20-80.6039558%5D%2C%0A%20%20%20%20%20%20%20%20%20%20%20%20%20%20%20%20%7B%7D%0A%20%20%20%20%20%20%20%20%20%20%20%20%29.addTo%28marker_cluster_4e9849bc674e4748b794ecb2c1aea053%29%3B%0A%20%20%20%20%20%20%20%20%0A%20%20%20%20%0A%20%20%20%20%20%20%20%20%20%20%20%20var%20icon_c000fd57a22f4908956a47de979b524e%20%3D%20L.AwesomeMarkers.icon%28%0A%20%20%20%20%20%20%20%20%20%20%20%20%20%20%20%20%7B%22extraClasses%22%3A%20%22fa-rotate-0%22%2C%20%22icon%22%3A%20%22info-sign%22%2C%20%22iconColor%22%3A%20%22green%22%2C%20%22markerColor%22%3A%20%22white%22%2C%20%22prefix%22%3A%20%22glyphicon%22%7D%0A%20%20%20%20%20%20%20%20%20%20%20%20%29%3B%0A%20%20%20%20%20%20%20%20%20%20%20%20marker_daf93b9617604a398d93bf9ce029cd80.setIcon%28icon_c000fd57a22f4908956a47de979b524e%29%3B%0A%20%20%20%20%20%20%20%20%0A%20%20%20%20%0A%20%20%20%20%20%20%20%20%20%20%20%20var%20marker_481739cb22de4be99aa50458e4b7fa2c%20%3D%20L.marker%28%0A%20%20%20%20%20%20%20%20%20%20%20%20%20%20%20%20%5B34.632093%2C%20-120.610829%5D%2C%0A%20%20%20%20%20%20%20%20%20%20%20%20%20%20%20%20%7B%7D%0A%20%20%20%20%20%20%20%20%20%20%20%20%29.addTo%28marker_cluster_4e9849bc674e4748b794ecb2c1aea053%29%3B%0A%20%20%20%20%20%20%20%20%0A%20%20%20%20%0A%20%20%20%20%20%20%20%20%20%20%20%20var%20icon_18e2d75cd2f14a5b9d9dc8ccdd27fc5f%20%3D%20L.AwesomeMarkers.icon%28%0A%20%20%20%20%20%20%20%20%20%20%20%20%20%20%20%20%7B%22extraClasses%22%3A%20%22fa-rotate-0%22%2C%20%22icon%22%3A%20%22info-sign%22%2C%20%22iconColor%22%3A%20%22green%22%2C%20%22markerColor%22%3A%20%22white%22%2C%20%22prefix%22%3A%20%22glyphicon%22%7D%0A%20%20%20%20%20%20%20%20%20%20%20%20%29%3B%0A%20%20%20%20%20%20%20%20%20%20%20%20marker_481739cb22de4be99aa50458e4b7fa2c.setIcon%28icon_18e2d75cd2f14a5b9d9dc8ccdd27fc5f%29%3B%0A%20%20%20%20%20%20%20%20%0A%20%20%20%20%0A%20%20%20%20%20%20%20%20%20%20%20%20var%20marker_0a97672e59d14361af15b137d8e97fc1%20%3D%20L.marker%28%0A%20%20%20%20%20%20%20%20%20%20%20%20%20%20%20%20%5B28.6080585%2C%20-80.6039558%5D%2C%0A%20%20%20%20%20%20%20%20%20%20%20%20%20%20%20%20%7B%7D%0A%20%20%20%20%20%20%20%20%20%20%20%20%29.addTo%28marker_cluster_4e9849bc674e4748b794ecb2c1aea053%29%3B%0A%20%20%20%20%20%20%20%20%0A%20%20%20%20%0A%20%20%20%20%20%20%20%20%20%20%20%20var%20icon_e0615f12437b4ec291fb3ac3d67eb4de%20%3D%20L.AwesomeMarkers.icon%28%0A%20%20%20%20%20%20%20%20%20%20%20%20%20%20%20%20%7B%22extraClasses%22%3A%20%22fa-rotate-0%22%2C%20%22icon%22%3A%20%22info-sign%22%2C%20%22iconColor%22%3A%20%22green%22%2C%20%22markerColor%22%3A%20%22white%22%2C%20%22prefix%22%3A%20%22glyphicon%22%7D%0A%20%20%20%20%20%20%20%20%20%20%20%20%29%3B%0A%20%20%20%20%20%20%20%20%20%20%20%20marker_0a97672e59d14361af15b137d8e97fc1.setIcon%28icon_e0615f12437b4ec291fb3ac3d67eb4de%29%3B%0A%20%20%20%20%20%20%20%20%0A%20%20%20%20%0A%20%20%20%20%20%20%20%20%20%20%20%20var%20marker_c43e7f6f1efc47048d17e38dcd4fb173%20%3D%20L.marker%28%0A%20%20%20%20%20%20%20%20%20%20%20%20%20%20%20%20%5B34.632093%2C%20-120.610829%5D%2C%0A%20%20%20%20%20%20%20%20%20%20%20%20%20%20%20%20%7B%7D%0A%20%20%20%20%20%20%20%20%20%20%20%20%29.addTo%28marker_cluster_4e9849bc674e4748b794ecb2c1aea053%29%3B%0A%20%20%20%20%20%20%20%20%0A%20%20%20%20%0A%20%20%20%20%20%20%20%20%20%20%20%20var%20icon_43252fb951294a08900e6a1fa366d043%20%3D%20L.AwesomeMarkers.icon%28%0A%20%20%20%20%20%20%20%20%20%20%20%20%20%20%20%20%7B%22extraClasses%22%3A%20%22fa-rotate-0%22%2C%20%22icon%22%3A%20%22info-sign%22%2C%20%22iconColor%22%3A%20%22green%22%2C%20%22markerColor%22%3A%20%22white%22%2C%20%22prefix%22%3A%20%22glyphicon%22%7D%0A%20%20%20%20%20%20%20%20%20%20%20%20%29%3B%0A%20%20%20%20%20%20%20%20%20%20%20%20marker_c43e7f6f1efc47048d17e38dcd4fb173.setIcon%28icon_43252fb951294a08900e6a1fa366d043%29%3B%0A%20%20%20%20%20%20%20%20%0A%20%20%20%20%0A%20%20%20%20%20%20%20%20%20%20%20%20var%20marker_ec76fa96d9b14bdcac72f20ca71be8e4%20%3D%20L.marker%28%0A%20%20%20%20%20%20%20%20%20%20%20%20%20%20%20%20%5B28.6080585%2C%20-80.6039558%5D%2C%0A%20%20%20%20%20%20%20%20%20%20%20%20%20%20%20%20%7B%7D%0A%20%20%20%20%20%20%20%20%20%20%20%20%29.addTo%28marker_cluster_4e9849bc674e4748b794ecb2c1aea053%29%3B%0A%20%20%20%20%20%20%20%20%0A%20%20%20%20%0A%20%20%20%20%20%20%20%20%20%20%20%20var%20icon_872c3129170b4fd990b5a34e465d8c22%20%3D%20L.AwesomeMarkers.icon%28%0A%20%20%20%20%20%20%20%20%20%20%20%20%20%20%20%20%7B%22extraClasses%22%3A%20%22fa-rotate-0%22%2C%20%22icon%22%3A%20%22info-sign%22%2C%20%22iconColor%22%3A%20%22green%22%2C%20%22markerColor%22%3A%20%22white%22%2C%20%22prefix%22%3A%20%22glyphicon%22%7D%0A%20%20%20%20%20%20%20%20%20%20%20%20%29%3B%0A%20%20%20%20%20%20%20%20%20%20%20%20marker_ec76fa96d9b14bdcac72f20ca71be8e4.setIcon%28icon_872c3129170b4fd990b5a34e465d8c22%29%3B%0A%20%20%20%20%20%20%20%20%0A%20%20%20%20%0A%20%20%20%20%20%20%20%20%20%20%20%20var%20marker_7e3bbbe044f640cc8def8629b1365cc0%20%3D%20L.marker%28%0A%20%20%20%20%20%20%20%20%20%20%20%20%20%20%20%20%5B28.6080585%2C%20-80.6039558%5D%2C%0A%20%20%20%20%20%20%20%20%20%20%20%20%20%20%20%20%7B%7D%0A%20%20%20%20%20%20%20%20%20%20%20%20%29.addTo%28marker_cluster_4e9849bc674e4748b794ecb2c1aea053%29%3B%0A%20%20%20%20%20%20%20%20%0A%20%20%20%20%0A%20%20%20%20%20%20%20%20%20%20%20%20var%20icon_b601710fa09c4e778c25207bb5a8a374%20%3D%20L.AwesomeMarkers.icon%28%0A%20%20%20%20%20%20%20%20%20%20%20%20%20%20%20%20%7B%22extraClasses%22%3A%20%22fa-rotate-0%22%2C%20%22icon%22%3A%20%22info-sign%22%2C%20%22iconColor%22%3A%20%22green%22%2C%20%22markerColor%22%3A%20%22white%22%2C%20%22prefix%22%3A%20%22glyphicon%22%7D%0A%20%20%20%20%20%20%20%20%20%20%20%20%29%3B%0A%20%20%20%20%20%20%20%20%20%20%20%20marker_7e3bbbe044f640cc8def8629b1365cc0.setIcon%28icon_b601710fa09c4e778c25207bb5a8a374%29%3B%0A%20%20%20%20%20%20%20%20%0A%20%20%20%20%0A%20%20%20%20%20%20%20%20%20%20%20%20var%20marker_e14fb909236740d99518bc6f4e3bec85%20%3D%20L.marker%28%0A%20%20%20%20%20%20%20%20%20%20%20%20%20%20%20%20%5B28.5618571%2C%20-80.577366%5D%2C%0A%20%20%20%20%20%20%20%20%20%20%20%20%20%20%20%20%7B%7D%0A%20%20%20%20%20%20%20%20%20%20%20%20%29.addTo%28marker_cluster_4e9849bc674e4748b794ecb2c1aea053%29%3B%0A%20%20%20%20%20%20%20%20%0A%20%20%20%20%0A%20%20%20%20%20%20%20%20%20%20%20%20var%20icon_1e40016a0eda47f7932ae051df2608fd%20%3D%20L.AwesomeMarkers.icon%28%0A%20%20%20%20%20%20%20%20%20%20%20%20%20%20%20%20%7B%22extraClasses%22%3A%20%22fa-rotate-0%22%2C%20%22icon%22%3A%20%22info-sign%22%2C%20%22iconColor%22%3A%20%22green%22%2C%20%22markerColor%22%3A%20%22white%22%2C%20%22prefix%22%3A%20%22glyphicon%22%7D%0A%20%20%20%20%20%20%20%20%20%20%20%20%29%3B%0A%20%20%20%20%20%20%20%20%20%20%20%20marker_e14fb909236740d99518bc6f4e3bec85.setIcon%28icon_1e40016a0eda47f7932ae051df2608fd%29%3B%0A%20%20%20%20%20%20%20%20%0A%20%20%20%20%0A%20%20%20%20%20%20%20%20%20%20%20%20var%20marker_6b141ca996384364b4314e8cc4e9d65e%20%3D%20L.marker%28%0A%20%20%20%20%20%20%20%20%20%20%20%20%20%20%20%20%5B34.632093%2C%20-120.610829%5D%2C%0A%20%20%20%20%20%20%20%20%20%20%20%20%20%20%20%20%7B%7D%0A%20%20%20%20%20%20%20%20%20%20%20%20%29.addTo%28marker_cluster_4e9849bc674e4748b794ecb2c1aea053%29%3B%0A%20%20%20%20%20%20%20%20%0A%20%20%20%20%0A%20%20%20%20%20%20%20%20%20%20%20%20var%20icon_f25d84a8e228430c873bab7e922cb77d%20%3D%20L.AwesomeMarkers.icon%28%0A%20%20%20%20%20%20%20%20%20%20%20%20%20%20%20%20%7B%22extraClasses%22%3A%20%22fa-rotate-0%22%2C%20%22icon%22%3A%20%22info-sign%22%2C%20%22iconColor%22%3A%20%22green%22%2C%20%22markerColor%22%3A%20%22white%22%2C%20%22prefix%22%3A%20%22glyphicon%22%7D%0A%20%20%20%20%20%20%20%20%20%20%20%20%29%3B%0A%20%20%20%20%20%20%20%20%20%20%20%20marker_6b141ca996384364b4314e8cc4e9d65e.setIcon%28icon_f25d84a8e228430c873bab7e922cb77d%29%3B%0A%20%20%20%20%20%20%20%20%0A%20%20%20%20%0A%20%20%20%20%20%20%20%20%20%20%20%20var%20marker_daac42da0df2485c8dc425e1d18a246b%20%3D%20L.marker%28%0A%20%20%20%20%20%20%20%20%20%20%20%20%20%20%20%20%5B28.5618571%2C%20-80.577366%5D%2C%0A%20%20%20%20%20%20%20%20%20%20%20%20%20%20%20%20%7B%7D%0A%20%20%20%20%20%20%20%20%20%20%20%20%29.addTo%28marker_cluster_4e9849bc674e4748b794ecb2c1aea053%29%3B%0A%20%20%20%20%20%20%20%20%0A%20%20%20%20%0A%20%20%20%20%20%20%20%20%20%20%20%20var%20icon_c40f110b1f914e848a7eed3f1a8328ec%20%3D%20L.AwesomeMarkers.icon%28%0A%20%20%20%20%20%20%20%20%20%20%20%20%20%20%20%20%7B%22extraClasses%22%3A%20%22fa-rotate-0%22%2C%20%22icon%22%3A%20%22info-sign%22%2C%20%22iconColor%22%3A%20%22green%22%2C%20%22markerColor%22%3A%20%22white%22%2C%20%22prefix%22%3A%20%22glyphicon%22%7D%0A%20%20%20%20%20%20%20%20%20%20%20%20%29%3B%0A%20%20%20%20%20%20%20%20%20%20%20%20marker_daac42da0df2485c8dc425e1d18a246b.setIcon%28icon_c40f110b1f914e848a7eed3f1a8328ec%29%3B%0A%20%20%20%20%20%20%20%20%0A%20%20%20%20%0A%20%20%20%20%20%20%20%20%20%20%20%20var%20marker_bc4f5a4d19d246729e95100b2ce6c7d1%20%3D%20L.marker%28%0A%20%20%20%20%20%20%20%20%20%20%20%20%20%20%20%20%5B28.5618571%2C%20-80.577366%5D%2C%0A%20%20%20%20%20%20%20%20%20%20%20%20%20%20%20%20%7B%7D%0A%20%20%20%20%20%20%20%20%20%20%20%20%29.addTo%28marker_cluster_4e9849bc674e4748b794ecb2c1aea053%29%3B%0A%20%20%20%20%20%20%20%20%0A%20%20%20%20%0A%20%20%20%20%20%20%20%20%20%20%20%20var%20icon_ab624bb1ed2c4007bbfd136e658f6cb8%20%3D%20L.AwesomeMarkers.icon%28%0A%20%20%20%20%20%20%20%20%20%20%20%20%20%20%20%20%7B%22extraClasses%22%3A%20%22fa-rotate-0%22%2C%20%22icon%22%3A%20%22info-sign%22%2C%20%22iconColor%22%3A%20%22green%22%2C%20%22markerColor%22%3A%20%22white%22%2C%20%22prefix%22%3A%20%22glyphicon%22%7D%0A%20%20%20%20%20%20%20%20%20%20%20%20%29%3B%0A%20%20%20%20%20%20%20%20%20%20%20%20marker_bc4f5a4d19d246729e95100b2ce6c7d1.setIcon%28icon_ab624bb1ed2c4007bbfd136e658f6cb8%29%3B%0A%20%20%20%20%20%20%20%20%0A%20%20%20%20%0A%20%20%20%20%20%20%20%20%20%20%20%20var%20marker_19013fa733aa4bdf8ebd9b8e6753db31%20%3D%20L.marker%28%0A%20%20%20%20%20%20%20%20%20%20%20%20%20%20%20%20%5B28.5618571%2C%20-80.577366%5D%2C%0A%20%20%20%20%20%20%20%20%20%20%20%20%20%20%20%20%7B%7D%0A%20%20%20%20%20%20%20%20%20%20%20%20%29.addTo%28marker_cluster_4e9849bc674e4748b794ecb2c1aea053%29%3B%0A%20%20%20%20%20%20%20%20%0A%20%20%20%20%0A%20%20%20%20%20%20%20%20%20%20%20%20var%20icon_d92d961bab4d4960a70f627c2436ca75%20%3D%20L.AwesomeMarkers.icon%28%0A%20%20%20%20%20%20%20%20%20%20%20%20%20%20%20%20%7B%22extraClasses%22%3A%20%22fa-rotate-0%22%2C%20%22icon%22%3A%20%22info-sign%22%2C%20%22iconColor%22%3A%20%22red%22%2C%20%22markerColor%22%3A%20%22white%22%2C%20%22prefix%22%3A%20%22glyphicon%22%7D%0A%20%20%20%20%20%20%20%20%20%20%20%20%29%3B%0A%20%20%20%20%20%20%20%20%20%20%20%20marker_19013fa733aa4bdf8ebd9b8e6753db31.setIcon%28icon_d92d961bab4d4960a70f627c2436ca75%29%3B%0A%20%20%20%20%20%20%20%20%0A%20%20%20%20%0A%20%20%20%20%20%20%20%20%20%20%20%20var%20marker_52a013b302fe41a59dc85d010b78fa07%20%3D%20L.marker%28%0A%20%20%20%20%20%20%20%20%20%20%20%20%20%20%20%20%5B34.632093%2C%20-120.610829%5D%2C%0A%20%20%20%20%20%20%20%20%20%20%20%20%20%20%20%20%7B%7D%0A%20%20%20%20%20%20%20%20%20%20%20%20%29.addTo%28marker_cluster_4e9849bc674e4748b794ecb2c1aea053%29%3B%0A%20%20%20%20%20%20%20%20%0A%20%20%20%20%0A%20%20%20%20%20%20%20%20%20%20%20%20var%20icon_ff7bf3f4208b499e951c2e00069f8c40%20%3D%20L.AwesomeMarkers.icon%28%0A%20%20%20%20%20%20%20%20%20%20%20%20%20%20%20%20%7B%22extraClasses%22%3A%20%22fa-rotate-0%22%2C%20%22icon%22%3A%20%22info-sign%22%2C%20%22iconColor%22%3A%20%22red%22%2C%20%22markerColor%22%3A%20%22white%22%2C%20%22prefix%22%3A%20%22glyphicon%22%7D%0A%20%20%20%20%20%20%20%20%20%20%20%20%29%3B%0A%20%20%20%20%20%20%20%20%20%20%20%20marker_52a013b302fe41a59dc85d010b78fa07.setIcon%28icon_ff7bf3f4208b499e951c2e00069f8c40%29%3B%0A%20%20%20%20%20%20%20%20%0A%20%20%20%20%0A%20%20%20%20%20%20%20%20%20%20%20%20var%20marker_4eddc14f86d64d338b068568c2b026bc%20%3D%20L.marker%28%0A%20%20%20%20%20%20%20%20%20%20%20%20%20%20%20%20%5B28.5618571%2C%20-80.577366%5D%2C%0A%20%20%20%20%20%20%20%20%20%20%20%20%20%20%20%20%7B%7D%0A%20%20%20%20%20%20%20%20%20%20%20%20%29.addTo%28marker_cluster_4e9849bc674e4748b794ecb2c1aea053%29%3B%0A%20%20%20%20%20%20%20%20%0A%20%20%20%20%0A%20%20%20%20%20%20%20%20%20%20%20%20var%20icon_3d5c7778f2c8439e8aa9a390c16b765b%20%3D%20L.AwesomeMarkers.icon%28%0A%20%20%20%20%20%20%20%20%20%20%20%20%20%20%20%20%7B%22extraClasses%22%3A%20%22fa-rotate-0%22%2C%20%22icon%22%3A%20%22info-sign%22%2C%20%22iconColor%22%3A%20%22red%22%2C%20%22markerColor%22%3A%20%22white%22%2C%20%22prefix%22%3A%20%22glyphicon%22%7D%0A%20%20%20%20%20%20%20%20%20%20%20%20%29%3B%0A%20%20%20%20%20%20%20%20%20%20%20%20marker_4eddc14f86d64d338b068568c2b026bc.setIcon%28icon_3d5c7778f2c8439e8aa9a390c16b765b%29%3B%0A%20%20%20%20%20%20%20%20%0A%20%20%20%20%0A%20%20%20%20%20%20%20%20%20%20%20%20var%20marker_eefdd3e0110e4b64ad5212bf4cc7dc8a%20%3D%20L.marker%28%0A%20%20%20%20%20%20%20%20%20%20%20%20%20%20%20%20%5B28.5618571%2C%20-80.577366%5D%2C%0A%20%20%20%20%20%20%20%20%20%20%20%20%20%20%20%20%7B%7D%0A%20%20%20%20%20%20%20%20%20%20%20%20%29.addTo%28marker_cluster_4e9849bc674e4748b794ecb2c1aea053%29%3B%0A%20%20%20%20%20%20%20%20%0A%20%20%20%20%0A%20%20%20%20%20%20%20%20%20%20%20%20var%20icon_5d444c57d0cf4295afa05ca5a3631422%20%3D%20L.AwesomeMarkers.icon%28%0A%20%20%20%20%20%20%20%20%20%20%20%20%20%20%20%20%7B%22extraClasses%22%3A%20%22fa-rotate-0%22%2C%20%22icon%22%3A%20%22info-sign%22%2C%20%22iconColor%22%3A%20%22green%22%2C%20%22markerColor%22%3A%20%22white%22%2C%20%22prefix%22%3A%20%22glyphicon%22%7D%0A%20%20%20%20%20%20%20%20%20%20%20%20%29%3B%0A%20%20%20%20%20%20%20%20%20%20%20%20marker_eefdd3e0110e4b64ad5212bf4cc7dc8a.setIcon%28icon_5d444c57d0cf4295afa05ca5a3631422%29%3B%0A%20%20%20%20%20%20%20%20%0A%20%20%20%20%0A%20%20%20%20%20%20%20%20%20%20%20%20var%20marker_8efa627c7d284723948976340988e843%20%3D%20L.marker%28%0A%20%20%20%20%20%20%20%20%20%20%20%20%20%20%20%20%5B28.6080585%2C%20-80.6039558%5D%2C%0A%20%20%20%20%20%20%20%20%20%20%20%20%20%20%20%20%7B%7D%0A%20%20%20%20%20%20%20%20%20%20%20%20%29.addTo%28marker_cluster_4e9849bc674e4748b794ecb2c1aea053%29%3B%0A%20%20%20%20%20%20%20%20%0A%20%20%20%20%0A%20%20%20%20%20%20%20%20%20%20%20%20var%20icon_6bac8493a6ac4d9882c1881cf79b7894%20%3D%20L.AwesomeMarkers.icon%28%0A%20%20%20%20%20%20%20%20%20%20%20%20%20%20%20%20%7B%22extraClasses%22%3A%20%22fa-rotate-0%22%2C%20%22icon%22%3A%20%22info-sign%22%2C%20%22iconColor%22%3A%20%22green%22%2C%20%22markerColor%22%3A%20%22white%22%2C%20%22prefix%22%3A%20%22glyphicon%22%7D%0A%20%20%20%20%20%20%20%20%20%20%20%20%29%3B%0A%20%20%20%20%20%20%20%20%20%20%20%20marker_8efa627c7d284723948976340988e843.setIcon%28icon_6bac8493a6ac4d9882c1881cf79b7894%29%3B%0A%20%20%20%20%20%20%20%20%0A%20%20%20%20%0A%20%20%20%20%20%20%20%20%20%20%20%20var%20marker_e9fb9709bc9d4177a21294c7fb8dbaf2%20%3D%20L.marker%28%0A%20%20%20%20%20%20%20%20%20%20%20%20%20%20%20%20%5B28.5618571%2C%20-80.577366%5D%2C%0A%20%20%20%20%20%20%20%20%20%20%20%20%20%20%20%20%7B%7D%0A%20%20%20%20%20%20%20%20%20%20%20%20%29.addTo%28marker_cluster_4e9849bc674e4748b794ecb2c1aea053%29%3B%0A%20%20%20%20%20%20%20%20%0A%20%20%20%20%0A%20%20%20%20%20%20%20%20%20%20%20%20var%20icon_503d809333f94f4a9ae2a6ea50d2c0cf%20%3D%20L.AwesomeMarkers.icon%28%0A%20%20%20%20%20%20%20%20%20%20%20%20%20%20%20%20%7B%22extraClasses%22%3A%20%22fa-rotate-0%22%2C%20%22icon%22%3A%20%22info-sign%22%2C%20%22iconColor%22%3A%20%22red%22%2C%20%22markerColor%22%3A%20%22white%22%2C%20%22prefix%22%3A%20%22glyphicon%22%7D%0A%20%20%20%20%20%20%20%20%20%20%20%20%29%3B%0A%20%20%20%20%20%20%20%20%20%20%20%20marker_e9fb9709bc9d4177a21294c7fb8dbaf2.setIcon%28icon_503d809333f94f4a9ae2a6ea50d2c0cf%29%3B%0A%20%20%20%20%20%20%20%20%0A%20%20%20%20%0A%20%20%20%20%20%20%20%20%20%20%20%20var%20marker_da44aa308ff44081b06dafad672aa57f%20%3D%20L.marker%28%0A%20%20%20%20%20%20%20%20%20%20%20%20%20%20%20%20%5B28.5618571%2C%20-80.577366%5D%2C%0A%20%20%20%20%20%20%20%20%20%20%20%20%20%20%20%20%7B%7D%0A%20%20%20%20%20%20%20%20%20%20%20%20%29.addTo%28marker_cluster_4e9849bc674e4748b794ecb2c1aea053%29%3B%0A%20%20%20%20%20%20%20%20%0A%20%20%20%20%0A%20%20%20%20%20%20%20%20%20%20%20%20var%20icon_018a382acf594e2ba545714971ff5f71%20%3D%20L.AwesomeMarkers.icon%28%0A%20%20%20%20%20%20%20%20%20%20%20%20%20%20%20%20%7B%22extraClasses%22%3A%20%22fa-rotate-0%22%2C%20%22icon%22%3A%20%22info-sign%22%2C%20%22iconColor%22%3A%20%22red%22%2C%20%22markerColor%22%3A%20%22white%22%2C%20%22prefix%22%3A%20%22glyphicon%22%7D%0A%20%20%20%20%20%20%20%20%20%20%20%20%29%3B%0A%20%20%20%20%20%20%20%20%20%20%20%20marker_da44aa308ff44081b06dafad672aa57f.setIcon%28icon_018a382acf594e2ba545714971ff5f71%29%3B%0A%20%20%20%20%20%20%20%20%0A%20%20%20%20%0A%20%20%20%20%20%20%20%20%20%20%20%20var%20marker_77c64a3877f34b36811405fb3a5e4621%20%3D%20L.marker%28%0A%20%20%20%20%20%20%20%20%20%20%20%20%20%20%20%20%5B28.5618571%2C%20-80.577366%5D%2C%0A%20%20%20%20%20%20%20%20%20%20%20%20%20%20%20%20%7B%7D%0A%20%20%20%20%20%20%20%20%20%20%20%20%29.addTo%28marker_cluster_4e9849bc674e4748b794ecb2c1aea053%29%3B%0A%20%20%20%20%20%20%20%20%0A%20%20%20%20%0A%20%20%20%20%20%20%20%20%20%20%20%20var%20icon_2cea690e85d04e88af830d4897e691b2%20%3D%20L.AwesomeMarkers.icon%28%0A%20%20%20%20%20%20%20%20%20%20%20%20%20%20%20%20%7B%22extraClasses%22%3A%20%22fa-rotate-0%22%2C%20%22icon%22%3A%20%22info-sign%22%2C%20%22iconColor%22%3A%20%22green%22%2C%20%22markerColor%22%3A%20%22white%22%2C%20%22prefix%22%3A%20%22glyphicon%22%7D%0A%20%20%20%20%20%20%20%20%20%20%20%20%29%3B%0A%20%20%20%20%20%20%20%20%20%20%20%20marker_77c64a3877f34b36811405fb3a5e4621.setIcon%28icon_2cea690e85d04e88af830d4897e691b2%29%3B%0A%20%20%20%20%20%20%20%20%0A%20%20%20%20%0A%20%20%20%20%20%20%20%20%20%20%20%20var%20marker_74e3dd78a75f4f64a514c46077630c67%20%3D%20L.marker%28%0A%20%20%20%20%20%20%20%20%20%20%20%20%20%20%20%20%5B34.632093%2C%20-120.610829%5D%2C%0A%20%20%20%20%20%20%20%20%20%20%20%20%20%20%20%20%7B%7D%0A%20%20%20%20%20%20%20%20%20%20%20%20%29.addTo%28marker_cluster_4e9849bc674e4748b794ecb2c1aea053%29%3B%0A%20%20%20%20%20%20%20%20%0A%20%20%20%20%0A%20%20%20%20%20%20%20%20%20%20%20%20var%20icon_27984ba22d054116b279d149cf3b6863%20%3D%20L.AwesomeMarkers.icon%28%0A%20%20%20%20%20%20%20%20%20%20%20%20%20%20%20%20%7B%22extraClasses%22%3A%20%22fa-rotate-0%22%2C%20%22icon%22%3A%20%22info-sign%22%2C%20%22iconColor%22%3A%20%22green%22%2C%20%22markerColor%22%3A%20%22white%22%2C%20%22prefix%22%3A%20%22glyphicon%22%7D%0A%20%20%20%20%20%20%20%20%20%20%20%20%29%3B%0A%20%20%20%20%20%20%20%20%20%20%20%20marker_74e3dd78a75f4f64a514c46077630c67.setIcon%28icon_27984ba22d054116b279d149cf3b6863%29%3B%0A%20%20%20%20%20%20%20%20%0A%20%20%20%20%0A%20%20%20%20%20%20%20%20%20%20%20%20var%20marker_e4a7678b4d13417a92993fd5e08633d3%20%3D%20L.marker%28%0A%20%20%20%20%20%20%20%20%20%20%20%20%20%20%20%20%5B28.5618571%2C%20-80.577366%5D%2C%0A%20%20%20%20%20%20%20%20%20%20%20%20%20%20%20%20%7B%7D%0A%20%20%20%20%20%20%20%20%20%20%20%20%29.addTo%28marker_cluster_4e9849bc674e4748b794ecb2c1aea053%29%3B%0A%20%20%20%20%20%20%20%20%0A%20%20%20%20%0A%20%20%20%20%20%20%20%20%20%20%20%20var%20icon_59245c02f5234be6b8f397d7185814dc%20%3D%20L.AwesomeMarkers.icon%28%0A%20%20%20%20%20%20%20%20%20%20%20%20%20%20%20%20%7B%22extraClasses%22%3A%20%22fa-rotate-0%22%2C%20%22icon%22%3A%20%22info-sign%22%2C%20%22iconColor%22%3A%20%22green%22%2C%20%22markerColor%22%3A%20%22white%22%2C%20%22prefix%22%3A%20%22glyphicon%22%7D%0A%20%20%20%20%20%20%20%20%20%20%20%20%29%3B%0A%20%20%20%20%20%20%20%20%20%20%20%20marker_e4a7678b4d13417a92993fd5e08633d3.setIcon%28icon_59245c02f5234be6b8f397d7185814dc%29%3B%0A%20%20%20%20%20%20%20%20%0A%20%20%20%20%0A%20%20%20%20%20%20%20%20%20%20%20%20var%20marker_b0afd1e86f0b45fbaad6693c03ed2eca%20%3D%20L.marker%28%0A%20%20%20%20%20%20%20%20%20%20%20%20%20%20%20%20%5B28.5618571%2C%20-80.577366%5D%2C%0A%20%20%20%20%20%20%20%20%20%20%20%20%20%20%20%20%7B%7D%0A%20%20%20%20%20%20%20%20%20%20%20%20%29.addTo%28marker_cluster_4e9849bc674e4748b794ecb2c1aea053%29%3B%0A%20%20%20%20%20%20%20%20%0A%20%20%20%20%0A%20%20%20%20%20%20%20%20%20%20%20%20var%20icon_ba9f0ba1cddf46b2b0919a1b5cd857d0%20%3D%20L.AwesomeMarkers.icon%28%0A%20%20%20%20%20%20%20%20%20%20%20%20%20%20%20%20%7B%22extraClasses%22%3A%20%22fa-rotate-0%22%2C%20%22icon%22%3A%20%22info-sign%22%2C%20%22iconColor%22%3A%20%22green%22%2C%20%22markerColor%22%3A%20%22white%22%2C%20%22prefix%22%3A%20%22glyphicon%22%7D%0A%20%20%20%20%20%20%20%20%20%20%20%20%29%3B%0A%20%20%20%20%20%20%20%20%20%20%20%20marker_b0afd1e86f0b45fbaad6693c03ed2eca.setIcon%28icon_ba9f0ba1cddf46b2b0919a1b5cd857d0%29%3B%0A%20%20%20%20%20%20%20%20%0A%20%20%20%20%0A%20%20%20%20%20%20%20%20%20%20%20%20var%20marker_344bf8b6bde84a10a50fe0ed079f2068%20%3D%20L.marker%28%0A%20%20%20%20%20%20%20%20%20%20%20%20%20%20%20%20%5B34.632093%2C%20-120.610829%5D%2C%0A%20%20%20%20%20%20%20%20%20%20%20%20%20%20%20%20%7B%7D%0A%20%20%20%20%20%20%20%20%20%20%20%20%29.addTo%28marker_cluster_4e9849bc674e4748b794ecb2c1aea053%29%3B%0A%20%20%20%20%20%20%20%20%0A%20%20%20%20%0A%20%20%20%20%20%20%20%20%20%20%20%20var%20icon_c9b4b0ffe0a14d568c705954401d0cc9%20%3D%20L.AwesomeMarkers.icon%28%0A%20%20%20%20%20%20%20%20%20%20%20%20%20%20%20%20%7B%22extraClasses%22%3A%20%22fa-rotate-0%22%2C%20%22icon%22%3A%20%22info-sign%22%2C%20%22iconColor%22%3A%20%22green%22%2C%20%22markerColor%22%3A%20%22white%22%2C%20%22prefix%22%3A%20%22glyphicon%22%7D%0A%20%20%20%20%20%20%20%20%20%20%20%20%29%3B%0A%20%20%20%20%20%20%20%20%20%20%20%20marker_344bf8b6bde84a10a50fe0ed079f2068.setIcon%28icon_c9b4b0ffe0a14d568c705954401d0cc9%29%3B%0A%20%20%20%20%20%20%20%20%0A%20%20%20%20%0A%20%20%20%20%20%20%20%20%20%20%20%20var%20marker_2a3df64c1e1a43a2a0cfbc6db85ed2ac%20%3D%20L.marker%28%0A%20%20%20%20%20%20%20%20%20%20%20%20%20%20%20%20%5B28.6080585%2C%20-80.6039558%5D%2C%0A%20%20%20%20%20%20%20%20%20%20%20%20%20%20%20%20%7B%7D%0A%20%20%20%20%20%20%20%20%20%20%20%20%29.addTo%28marker_cluster_4e9849bc674e4748b794ecb2c1aea053%29%3B%0A%20%20%20%20%20%20%20%20%0A%20%20%20%20%0A%20%20%20%20%20%20%20%20%20%20%20%20var%20icon_7f2a52f3bef14032bea8f2307a199d13%20%3D%20L.AwesomeMarkers.icon%28%0A%20%20%20%20%20%20%20%20%20%20%20%20%20%20%20%20%7B%22extraClasses%22%3A%20%22fa-rotate-0%22%2C%20%22icon%22%3A%20%22info-sign%22%2C%20%22iconColor%22%3A%20%22green%22%2C%20%22markerColor%22%3A%20%22white%22%2C%20%22prefix%22%3A%20%22glyphicon%22%7D%0A%20%20%20%20%20%20%20%20%20%20%20%20%29%3B%0A%20%20%20%20%20%20%20%20%20%20%20%20marker_2a3df64c1e1a43a2a0cfbc6db85ed2ac.setIcon%28icon_7f2a52f3bef14032bea8f2307a199d13%29%3B%0A%20%20%20%20%20%20%20%20%0A%20%20%20%20%0A%20%20%20%20%20%20%20%20%20%20%20%20var%20marker_ca79339da64e49bc8a5f72c29b7ef723%20%3D%20L.marker%28%0A%20%20%20%20%20%20%20%20%20%20%20%20%20%20%20%20%5B34.632093%2C%20-120.610829%5D%2C%0A%20%20%20%20%20%20%20%20%20%20%20%20%20%20%20%20%7B%7D%0A%20%20%20%20%20%20%20%20%20%20%20%20%29.addTo%28marker_cluster_4e9849bc674e4748b794ecb2c1aea053%29%3B%0A%20%20%20%20%20%20%20%20%0A%20%20%20%20%0A%20%20%20%20%20%20%20%20%20%20%20%20var%20icon_e1998a946b104a94abf7dcefc18ecd67%20%3D%20L.AwesomeMarkers.icon%28%0A%20%20%20%20%20%20%20%20%20%20%20%20%20%20%20%20%7B%22extraClasses%22%3A%20%22fa-rotate-0%22%2C%20%22icon%22%3A%20%22info-sign%22%2C%20%22iconColor%22%3A%20%22green%22%2C%20%22markerColor%22%3A%20%22white%22%2C%20%22prefix%22%3A%20%22glyphicon%22%7D%0A%20%20%20%20%20%20%20%20%20%20%20%20%29%3B%0A%20%20%20%20%20%20%20%20%20%20%20%20marker_ca79339da64e49bc8a5f72c29b7ef723.setIcon%28icon_e1998a946b104a94abf7dcefc18ecd67%29%3B%0A%20%20%20%20%20%20%20%20%0A%20%20%20%20%0A%20%20%20%20%20%20%20%20%20%20%20%20var%20marker_70235eaa64544001b197411e37403ed1%20%3D%20L.marker%28%0A%20%20%20%20%20%20%20%20%20%20%20%20%20%20%20%20%5B28.5618571%2C%20-80.577366%5D%2C%0A%20%20%20%20%20%20%20%20%20%20%20%20%20%20%20%20%7B%7D%0A%20%20%20%20%20%20%20%20%20%20%20%20%29.addTo%28marker_cluster_4e9849bc674e4748b794ecb2c1aea053%29%3B%0A%20%20%20%20%20%20%20%20%0A%20%20%20%20%0A%20%20%20%20%20%20%20%20%20%20%20%20var%20icon_0f612c9035724398b4c28a4b7b1abeaa%20%3D%20L.AwesomeMarkers.icon%28%0A%20%20%20%20%20%20%20%20%20%20%20%20%20%20%20%20%7B%22extraClasses%22%3A%20%22fa-rotate-0%22%2C%20%22icon%22%3A%20%22info-sign%22%2C%20%22iconColor%22%3A%20%22red%22%2C%20%22markerColor%22%3A%20%22white%22%2C%20%22prefix%22%3A%20%22glyphicon%22%7D%0A%20%20%20%20%20%20%20%20%20%20%20%20%29%3B%0A%20%20%20%20%20%20%20%20%20%20%20%20marker_70235eaa64544001b197411e37403ed1.setIcon%28icon_0f612c9035724398b4c28a4b7b1abeaa%29%3B%0A%20%20%20%20%20%20%20%20%0A%20%20%20%20%0A%20%20%20%20%20%20%20%20%20%20%20%20var%20marker_c2e83f1612b04d148b8009189f706a2b%20%3D%20L.marker%28%0A%20%20%20%20%20%20%20%20%20%20%20%20%20%20%20%20%5B28.5618571%2C%20-80.577366%5D%2C%0A%20%20%20%20%20%20%20%20%20%20%20%20%20%20%20%20%7B%7D%0A%20%20%20%20%20%20%20%20%20%20%20%20%29.addTo%28marker_cluster_4e9849bc674e4748b794ecb2c1aea053%29%3B%0A%20%20%20%20%20%20%20%20%0A%20%20%20%20%0A%20%20%20%20%20%20%20%20%20%20%20%20var%20icon_385b3f58b49e483d9d29d77911417404%20%3D%20L.AwesomeMarkers.icon%28%0A%20%20%20%20%20%20%20%20%20%20%20%20%20%20%20%20%7B%22extraClasses%22%3A%20%22fa-rotate-0%22%2C%20%22icon%22%3A%20%22info-sign%22%2C%20%22iconColor%22%3A%20%22red%22%2C%20%22markerColor%22%3A%20%22white%22%2C%20%22prefix%22%3A%20%22glyphicon%22%7D%0A%20%20%20%20%20%20%20%20%20%20%20%20%29%3B%0A%20%20%20%20%20%20%20%20%20%20%20%20marker_c2e83f1612b04d148b8009189f706a2b.setIcon%28icon_385b3f58b49e483d9d29d77911417404%29%3B%0A%20%20%20%20%20%20%20%20%0A%20%20%20%20%0A%20%20%20%20%20%20%20%20%20%20%20%20var%20marker_bdda931c07c344e9b2138fa14ffc4b97%20%3D%20L.marker%28%0A%20%20%20%20%20%20%20%20%20%20%20%20%20%20%20%20%5B34.632093%2C%20-120.610829%5D%2C%0A%20%20%20%20%20%20%20%20%20%20%20%20%20%20%20%20%7B%7D%0A%20%20%20%20%20%20%20%20%20%20%20%20%29.addTo%28marker_cluster_4e9849bc674e4748b794ecb2c1aea053%29%3B%0A%20%20%20%20%20%20%20%20%0A%20%20%20%20%0A%20%20%20%20%20%20%20%20%20%20%20%20var%20icon_5f3c0a1be0984060a8139b87f2e20fca%20%3D%20L.AwesomeMarkers.icon%28%0A%20%20%20%20%20%20%20%20%20%20%20%20%20%20%20%20%7B%22extraClasses%22%3A%20%22fa-rotate-0%22%2C%20%22icon%22%3A%20%22info-sign%22%2C%20%22iconColor%22%3A%20%22green%22%2C%20%22markerColor%22%3A%20%22white%22%2C%20%22prefix%22%3A%20%22glyphicon%22%7D%0A%20%20%20%20%20%20%20%20%20%20%20%20%29%3B%0A%20%20%20%20%20%20%20%20%20%20%20%20marker_bdda931c07c344e9b2138fa14ffc4b97.setIcon%28icon_5f3c0a1be0984060a8139b87f2e20fca%29%3B%0A%20%20%20%20%20%20%20%20%0A%20%20%20%20%0A%20%20%20%20%20%20%20%20%20%20%20%20var%20marker_7e6806a310324acd96454cd608570234%20%3D%20L.marker%28%0A%20%20%20%20%20%20%20%20%20%20%20%20%20%20%20%20%5B28.6080585%2C%20-80.6039558%5D%2C%0A%20%20%20%20%20%20%20%20%20%20%20%20%20%20%20%20%7B%7D%0A%20%20%20%20%20%20%20%20%20%20%20%20%29.addTo%28marker_cluster_4e9849bc674e4748b794ecb2c1aea053%29%3B%0A%20%20%20%20%20%20%20%20%0A%20%20%20%20%0A%20%20%20%20%20%20%20%20%20%20%20%20var%20icon_23add39ffffc4d358b6c522217ea345c%20%3D%20L.AwesomeMarkers.icon%28%0A%20%20%20%20%20%20%20%20%20%20%20%20%20%20%20%20%7B%22extraClasses%22%3A%20%22fa-rotate-0%22%2C%20%22icon%22%3A%20%22info-sign%22%2C%20%22iconColor%22%3A%20%22green%22%2C%20%22markerColor%22%3A%20%22white%22%2C%20%22prefix%22%3A%20%22glyphicon%22%7D%0A%20%20%20%20%20%20%20%20%20%20%20%20%29%3B%0A%20%20%20%20%20%20%20%20%20%20%20%20marker_7e6806a310324acd96454cd608570234.setIcon%28icon_23add39ffffc4d358b6c522217ea345c%29%3B%0A%20%20%20%20%20%20%20%20%0A%20%20%20%20%0A%20%20%20%20%20%20%20%20%20%20%20%20var%20marker_51ebad20ae7042f2bc5749713a95978f%20%3D%20L.marker%28%0A%20%20%20%20%20%20%20%20%20%20%20%20%20%20%20%20%5B28.5618571%2C%20-80.577366%5D%2C%0A%20%20%20%20%20%20%20%20%20%20%20%20%20%20%20%20%7B%7D%0A%20%20%20%20%20%20%20%20%20%20%20%20%29.addTo%28marker_cluster_4e9849bc674e4748b794ecb2c1aea053%29%3B%0A%20%20%20%20%20%20%20%20%0A%20%20%20%20%0A%20%20%20%20%20%20%20%20%20%20%20%20var%20icon_df2a49dfa9284015b4727db9ca063f6f%20%3D%20L.AwesomeMarkers.icon%28%0A%20%20%20%20%20%20%20%20%20%20%20%20%20%20%20%20%7B%22extraClasses%22%3A%20%22fa-rotate-0%22%2C%20%22icon%22%3A%20%22info-sign%22%2C%20%22iconColor%22%3A%20%22green%22%2C%20%22markerColor%22%3A%20%22white%22%2C%20%22prefix%22%3A%20%22glyphicon%22%7D%0A%20%20%20%20%20%20%20%20%20%20%20%20%29%3B%0A%20%20%20%20%20%20%20%20%20%20%20%20marker_51ebad20ae7042f2bc5749713a95978f.setIcon%28icon_df2a49dfa9284015b4727db9ca063f6f%29%3B%0A%20%20%20%20%20%20%20%20%0A%20%20%20%20%0A%20%20%20%20%20%20%20%20%20%20%20%20var%20marker_7c2b6075902c494fbe6abdc64d679879%20%3D%20L.marker%28%0A%20%20%20%20%20%20%20%20%20%20%20%20%20%20%20%20%5B28.5618571%2C%20-80.577366%5D%2C%0A%20%20%20%20%20%20%20%20%20%20%20%20%20%20%20%20%7B%7D%0A%20%20%20%20%20%20%20%20%20%20%20%20%29.addTo%28marker_cluster_4e9849bc674e4748b794ecb2c1aea053%29%3B%0A%20%20%20%20%20%20%20%20%0A%20%20%20%20%0A%20%20%20%20%20%20%20%20%20%20%20%20var%20icon_260c8d6e11964b0aa21907985e1f2cf3%20%3D%20L.AwesomeMarkers.icon%28%0A%20%20%20%20%20%20%20%20%20%20%20%20%20%20%20%20%7B%22extraClasses%22%3A%20%22fa-rotate-0%22%2C%20%22icon%22%3A%20%22info-sign%22%2C%20%22iconColor%22%3A%20%22green%22%2C%20%22markerColor%22%3A%20%22white%22%2C%20%22prefix%22%3A%20%22glyphicon%22%7D%0A%20%20%20%20%20%20%20%20%20%20%20%20%29%3B%0A%20%20%20%20%20%20%20%20%20%20%20%20marker_7c2b6075902c494fbe6abdc64d679879.setIcon%28icon_260c8d6e11964b0aa21907985e1f2cf3%29%3B%0A%20%20%20%20%20%20%20%20%0A%20%20%20%20%0A%20%20%20%20%20%20%20%20%20%20%20%20var%20marker_155dcb61a0cf4f11af7121fe703a8011%20%3D%20L.marker%28%0A%20%20%20%20%20%20%20%20%20%20%20%20%20%20%20%20%5B34.632093%2C%20-120.610829%5D%2C%0A%20%20%20%20%20%20%20%20%20%20%20%20%20%20%20%20%7B%7D%0A%20%20%20%20%20%20%20%20%20%20%20%20%29.addTo%28marker_cluster_4e9849bc674e4748b794ecb2c1aea053%29%3B%0A%20%20%20%20%20%20%20%20%0A%20%20%20%20%0A%20%20%20%20%20%20%20%20%20%20%20%20var%20icon_9c46b2bfab9041699854387a4f65ec3c%20%3D%20L.AwesomeMarkers.icon%28%0A%20%20%20%20%20%20%20%20%20%20%20%20%20%20%20%20%7B%22extraClasses%22%3A%20%22fa-rotate-0%22%2C%20%22icon%22%3A%20%22info-sign%22%2C%20%22iconColor%22%3A%20%22green%22%2C%20%22markerColor%22%3A%20%22white%22%2C%20%22prefix%22%3A%20%22glyphicon%22%7D%0A%20%20%20%20%20%20%20%20%20%20%20%20%29%3B%0A%20%20%20%20%20%20%20%20%20%20%20%20marker_155dcb61a0cf4f11af7121fe703a8011.setIcon%28icon_9c46b2bfab9041699854387a4f65ec3c%29%3B%0A%20%20%20%20%20%20%20%20%0A%20%20%20%20%0A%20%20%20%20%20%20%20%20%20%20%20%20var%20marker_feaac4e0343f4eb485e8ee84c1313f36%20%3D%20L.marker%28%0A%20%20%20%20%20%20%20%20%20%20%20%20%20%20%20%20%5B28.5618571%2C%20-80.577366%5D%2C%0A%20%20%20%20%20%20%20%20%20%20%20%20%20%20%20%20%7B%7D%0A%20%20%20%20%20%20%20%20%20%20%20%20%29.addTo%28marker_cluster_4e9849bc674e4748b794ecb2c1aea053%29%3B%0A%20%20%20%20%20%20%20%20%0A%20%20%20%20%0A%20%20%20%20%20%20%20%20%20%20%20%20var%20icon_9c0a3cde0ba445f6838a39e63f753ae8%20%3D%20L.AwesomeMarkers.icon%28%0A%20%20%20%20%20%20%20%20%20%20%20%20%20%20%20%20%7B%22extraClasses%22%3A%20%22fa-rotate-0%22%2C%20%22icon%22%3A%20%22info-sign%22%2C%20%22iconColor%22%3A%20%22green%22%2C%20%22markerColor%22%3A%20%22white%22%2C%20%22prefix%22%3A%20%22glyphicon%22%7D%0A%20%20%20%20%20%20%20%20%20%20%20%20%29%3B%0A%20%20%20%20%20%20%20%20%20%20%20%20marker_feaac4e0343f4eb485e8ee84c1313f36.setIcon%28icon_9c0a3cde0ba445f6838a39e63f753ae8%29%3B%0A%20%20%20%20%20%20%20%20%0A%20%20%20%20%0A%20%20%20%20%20%20%20%20%20%20%20%20var%20marker_a9c2b8e195884e90a4ef6bf07c0b8feb%20%3D%20L.marker%28%0A%20%20%20%20%20%20%20%20%20%20%20%20%20%20%20%20%5B28.5618571%2C%20-80.577366%5D%2C%0A%20%20%20%20%20%20%20%20%20%20%20%20%20%20%20%20%7B%7D%0A%20%20%20%20%20%20%20%20%20%20%20%20%29.addTo%28marker_cluster_4e9849bc674e4748b794ecb2c1aea053%29%3B%0A%20%20%20%20%20%20%20%20%0A%20%20%20%20%0A%20%20%20%20%20%20%20%20%20%20%20%20var%20icon_18315e2333214225bdc4705eabace59f%20%3D%20L.AwesomeMarkers.icon%28%0A%20%20%20%20%20%20%20%20%20%20%20%20%20%20%20%20%7B%22extraClasses%22%3A%20%22fa-rotate-0%22%2C%20%22icon%22%3A%20%22info-sign%22%2C%20%22iconColor%22%3A%20%22red%22%2C%20%22markerColor%22%3A%20%22white%22%2C%20%22prefix%22%3A%20%22glyphicon%22%7D%0A%20%20%20%20%20%20%20%20%20%20%20%20%29%3B%0A%20%20%20%20%20%20%20%20%20%20%20%20marker_a9c2b8e195884e90a4ef6bf07c0b8feb.setIcon%28icon_18315e2333214225bdc4705eabace59f%29%3B%0A%20%20%20%20%20%20%20%20%0A%20%20%20%20%0A%20%20%20%20%20%20%20%20%20%20%20%20var%20marker_22ce6f571481484eb38f26bc6f773f48%20%3D%20L.marker%28%0A%20%20%20%20%20%20%20%20%20%20%20%20%20%20%20%20%5B28.5618571%2C%20-80.577366%5D%2C%0A%20%20%20%20%20%20%20%20%20%20%20%20%20%20%20%20%7B%7D%0A%20%20%20%20%20%20%20%20%20%20%20%20%29.addTo%28marker_cluster_4e9849bc674e4748b794ecb2c1aea053%29%3B%0A%20%20%20%20%20%20%20%20%0A%20%20%20%20%0A%20%20%20%20%20%20%20%20%20%20%20%20var%20icon_7dd4af566bb94911ae1df1342f004e4c%20%3D%20L.AwesomeMarkers.icon%28%0A%20%20%20%20%20%20%20%20%20%20%20%20%20%20%20%20%7B%22extraClasses%22%3A%20%22fa-rotate-0%22%2C%20%22icon%22%3A%20%22info-sign%22%2C%20%22iconColor%22%3A%20%22green%22%2C%20%22markerColor%22%3A%20%22white%22%2C%20%22prefix%22%3A%20%22glyphicon%22%7D%0A%20%20%20%20%20%20%20%20%20%20%20%20%29%3B%0A%20%20%20%20%20%20%20%20%20%20%20%20marker_22ce6f571481484eb38f26bc6f773f48.setIcon%28icon_7dd4af566bb94911ae1df1342f004e4c%29%3B%0A%20%20%20%20%20%20%20%20%0A%20%20%20%20%0A%20%20%20%20%20%20%20%20%20%20%20%20var%20marker_f40e7562ba874c248bc71316f14259dc%20%3D%20L.marker%28%0A%20%20%20%20%20%20%20%20%20%20%20%20%20%20%20%20%5B28.5618571%2C%20-80.577366%5D%2C%0A%20%20%20%20%20%20%20%20%20%20%20%20%20%20%20%20%7B%7D%0A%20%20%20%20%20%20%20%20%20%20%20%20%29.addTo%28marker_cluster_4e9849bc674e4748b794ecb2c1aea053%29%3B%0A%20%20%20%20%20%20%20%20%0A%20%20%20%20%0A%20%20%20%20%20%20%20%20%20%20%20%20var%20icon_d5708c075335455a86f7ec83ac67bf1f%20%3D%20L.AwesomeMarkers.icon%28%0A%20%20%20%20%20%20%20%20%20%20%20%20%20%20%20%20%7B%22extraClasses%22%3A%20%22fa-rotate-0%22%2C%20%22icon%22%3A%20%22info-sign%22%2C%20%22iconColor%22%3A%20%22green%22%2C%20%22markerColor%22%3A%20%22white%22%2C%20%22prefix%22%3A%20%22glyphicon%22%7D%0A%20%20%20%20%20%20%20%20%20%20%20%20%29%3B%0A%20%20%20%20%20%20%20%20%20%20%20%20marker_f40e7562ba874c248bc71316f14259dc.setIcon%28icon_d5708c075335455a86f7ec83ac67bf1f%29%3B%0A%20%20%20%20%20%20%20%20%0A%20%20%20%20%0A%20%20%20%20%20%20%20%20%20%20%20%20var%20marker_16ca38cce1e743e08a1416ad56b457ad%20%3D%20L.marker%28%0A%20%20%20%20%20%20%20%20%20%20%20%20%20%20%20%20%5B28.5618571%2C%20-80.577366%5D%2C%0A%20%20%20%20%20%20%20%20%20%20%20%20%20%20%20%20%7B%7D%0A%20%20%20%20%20%20%20%20%20%20%20%20%29.addTo%28marker_cluster_4e9849bc674e4748b794ecb2c1aea053%29%3B%0A%20%20%20%20%20%20%20%20%0A%20%20%20%20%0A%20%20%20%20%20%20%20%20%20%20%20%20var%20icon_171d39ee81cc44ccbed7c8dab4ff3718%20%3D%20L.AwesomeMarkers.icon%28%0A%20%20%20%20%20%20%20%20%20%20%20%20%20%20%20%20%7B%22extraClasses%22%3A%20%22fa-rotate-0%22%2C%20%22icon%22%3A%20%22info-sign%22%2C%20%22iconColor%22%3A%20%22green%22%2C%20%22markerColor%22%3A%20%22white%22%2C%20%22prefix%22%3A%20%22glyphicon%22%7D%0A%20%20%20%20%20%20%20%20%20%20%20%20%29%3B%0A%20%20%20%20%20%20%20%20%20%20%20%20marker_16ca38cce1e743e08a1416ad56b457ad.setIcon%28icon_171d39ee81cc44ccbed7c8dab4ff3718%29%3B%0A%20%20%20%20%20%20%20%20%0A%20%20%20%20%0A%20%20%20%20%20%20%20%20%20%20%20%20var%20marker_b66d0e7be9ca4513b3b49700dfdf260b%20%3D%20L.marker%28%0A%20%20%20%20%20%20%20%20%20%20%20%20%20%20%20%20%5B28.5618571%2C%20-80.577366%5D%2C%0A%20%20%20%20%20%20%20%20%20%20%20%20%20%20%20%20%7B%7D%0A%20%20%20%20%20%20%20%20%20%20%20%20%29.addTo%28marker_cluster_4e9849bc674e4748b794ecb2c1aea053%29%3B%0A%20%20%20%20%20%20%20%20%0A%20%20%20%20%0A%20%20%20%20%20%20%20%20%20%20%20%20var%20icon_9ede61e9a97f4c54b1fcb31101ab7ff1%20%3D%20L.AwesomeMarkers.icon%28%0A%20%20%20%20%20%20%20%20%20%20%20%20%20%20%20%20%7B%22extraClasses%22%3A%20%22fa-rotate-0%22%2C%20%22icon%22%3A%20%22info-sign%22%2C%20%22iconColor%22%3A%20%22green%22%2C%20%22markerColor%22%3A%20%22white%22%2C%20%22prefix%22%3A%20%22glyphicon%22%7D%0A%20%20%20%20%20%20%20%20%20%20%20%20%29%3B%0A%20%20%20%20%20%20%20%20%20%20%20%20marker_b66d0e7be9ca4513b3b49700dfdf260b.setIcon%28icon_9ede61e9a97f4c54b1fcb31101ab7ff1%29%3B%0A%20%20%20%20%20%20%20%20%0A%20%20%20%20%0A%20%20%20%20%20%20%20%20%20%20%20%20var%20marker_29ed31d1c5604904bccf7fea2d28c699%20%3D%20L.marker%28%0A%20%20%20%20%20%20%20%20%20%20%20%20%20%20%20%20%5B28.6080585%2C%20-80.6039558%5D%2C%0A%20%20%20%20%20%20%20%20%20%20%20%20%20%20%20%20%7B%7D%0A%20%20%20%20%20%20%20%20%20%20%20%20%29.addTo%28marker_cluster_4e9849bc674e4748b794ecb2c1aea053%29%3B%0A%20%20%20%20%20%20%20%20%0A%20%20%20%20%0A%20%20%20%20%20%20%20%20%20%20%20%20var%20icon_05039b6d8f164c429fef9f9a73b91a77%20%3D%20L.AwesomeMarkers.icon%28%0A%20%20%20%20%20%20%20%20%20%20%20%20%20%20%20%20%7B%22extraClasses%22%3A%20%22fa-rotate-0%22%2C%20%22icon%22%3A%20%22info-sign%22%2C%20%22iconColor%22%3A%20%22red%22%2C%20%22markerColor%22%3A%20%22white%22%2C%20%22prefix%22%3A%20%22glyphicon%22%7D%0A%20%20%20%20%20%20%20%20%20%20%20%20%29%3B%0A%20%20%20%20%20%20%20%20%20%20%20%20marker_29ed31d1c5604904bccf7fea2d28c699.setIcon%28icon_05039b6d8f164c429fef9f9a73b91a77%29%3B%0A%20%20%20%20%20%20%20%20%0A%20%20%20%20%0A%20%20%20%20%20%20%20%20%20%20%20%20var%20marker_16d51afb322f46d48b7c26fec7f81e25%20%3D%20L.marker%28%0A%20%20%20%20%20%20%20%20%20%20%20%20%20%20%20%20%5B28.5618571%2C%20-80.577366%5D%2C%0A%20%20%20%20%20%20%20%20%20%20%20%20%20%20%20%20%7B%7D%0A%20%20%20%20%20%20%20%20%20%20%20%20%29.addTo%28marker_cluster_4e9849bc674e4748b794ecb2c1aea053%29%3B%0A%20%20%20%20%20%20%20%20%0A%20%20%20%20%0A%20%20%20%20%20%20%20%20%20%20%20%20var%20icon_6b46542d1ab0472f811d112a0720482c%20%3D%20L.AwesomeMarkers.icon%28%0A%20%20%20%20%20%20%20%20%20%20%20%20%20%20%20%20%7B%22extraClasses%22%3A%20%22fa-rotate-0%22%2C%20%22icon%22%3A%20%22info-sign%22%2C%20%22iconColor%22%3A%20%22green%22%2C%20%22markerColor%22%3A%20%22white%22%2C%20%22prefix%22%3A%20%22glyphicon%22%7D%0A%20%20%20%20%20%20%20%20%20%20%20%20%29%3B%0A%20%20%20%20%20%20%20%20%20%20%20%20marker_16d51afb322f46d48b7c26fec7f81e25.setIcon%28icon_6b46542d1ab0472f811d112a0720482c%29%3B%0A%20%20%20%20%20%20%20%20%0A%20%20%20%20%0A%20%20%20%20%20%20%20%20%20%20%20%20var%20marker_70e6d4efeb4d4e59b9d07e33a87e00af%20%3D%20L.marker%28%0A%20%20%20%20%20%20%20%20%20%20%20%20%20%20%20%20%5B28.5618571%2C%20-80.577366%5D%2C%0A%20%20%20%20%20%20%20%20%20%20%20%20%20%20%20%20%7B%7D%0A%20%20%20%20%20%20%20%20%20%20%20%20%29.addTo%28marker_cluster_4e9849bc674e4748b794ecb2c1aea053%29%3B%0A%20%20%20%20%20%20%20%20%0A%20%20%20%20%0A%20%20%20%20%20%20%20%20%20%20%20%20var%20icon_f6ca93aa7b8644a492948a8778dc6fcb%20%3D%20L.AwesomeMarkers.icon%28%0A%20%20%20%20%20%20%20%20%20%20%20%20%20%20%20%20%7B%22extraClasses%22%3A%20%22fa-rotate-0%22%2C%20%22icon%22%3A%20%22info-sign%22%2C%20%22iconColor%22%3A%20%22red%22%2C%20%22markerColor%22%3A%20%22white%22%2C%20%22prefix%22%3A%20%22glyphicon%22%7D%0A%20%20%20%20%20%20%20%20%20%20%20%20%29%3B%0A%20%20%20%20%20%20%20%20%20%20%20%20marker_70e6d4efeb4d4e59b9d07e33a87e00af.setIcon%28icon_f6ca93aa7b8644a492948a8778dc6fcb%29%3B%0A%20%20%20%20%20%20%20%20%0A%20%20%20%20%0A%20%20%20%20%20%20%20%20%20%20%20%20var%20marker_1601488bae924d25ac9a38402526fd66%20%3D%20L.marker%28%0A%20%20%20%20%20%20%20%20%20%20%20%20%20%20%20%20%5B28.5618571%2C%20-80.577366%5D%2C%0A%20%20%20%20%20%20%20%20%20%20%20%20%20%20%20%20%7B%7D%0A%20%20%20%20%20%20%20%20%20%20%20%20%29.addTo%28marker_cluster_4e9849bc674e4748b794ecb2c1aea053%29%3B%0A%20%20%20%20%20%20%20%20%0A%20%20%20%20%0A%20%20%20%20%20%20%20%20%20%20%20%20var%20icon_e45fe250bc2d4b3ca05297be2c0d68e4%20%3D%20L.AwesomeMarkers.icon%28%0A%20%20%20%20%20%20%20%20%20%20%20%20%20%20%20%20%7B%22extraClasses%22%3A%20%22fa-rotate-0%22%2C%20%22icon%22%3A%20%22info-sign%22%2C%20%22iconColor%22%3A%20%22green%22%2C%20%22markerColor%22%3A%20%22white%22%2C%20%22prefix%22%3A%20%22glyphicon%22%7D%0A%20%20%20%20%20%20%20%20%20%20%20%20%29%3B%0A%20%20%20%20%20%20%20%20%20%20%20%20marker_1601488bae924d25ac9a38402526fd66.setIcon%28icon_e45fe250bc2d4b3ca05297be2c0d68e4%29%3B%0A%20%20%20%20%20%20%20%20%0A%20%20%20%20%0A%20%20%20%20%20%20%20%20%20%20%20%20var%20marker_eb092fbc2a0c4c409ec5f7cf768b073b%20%3D%20L.marker%28%0A%20%20%20%20%20%20%20%20%20%20%20%20%20%20%20%20%5B28.6080585%2C%20-80.6039558%5D%2C%0A%20%20%20%20%20%20%20%20%20%20%20%20%20%20%20%20%7B%7D%0A%20%20%20%20%20%20%20%20%20%20%20%20%29.addTo%28marker_cluster_4e9849bc674e4748b794ecb2c1aea053%29%3B%0A%20%20%20%20%20%20%20%20%0A%20%20%20%20%0A%20%20%20%20%20%20%20%20%20%20%20%20var%20icon_6d3bfc5afe3044609c5ae278240a56bd%20%3D%20L.AwesomeMarkers.icon%28%0A%20%20%20%20%20%20%20%20%20%20%20%20%20%20%20%20%7B%22extraClasses%22%3A%20%22fa-rotate-0%22%2C%20%22icon%22%3A%20%22info-sign%22%2C%20%22iconColor%22%3A%20%22red%22%2C%20%22markerColor%22%3A%20%22white%22%2C%20%22prefix%22%3A%20%22glyphicon%22%7D%0A%20%20%20%20%20%20%20%20%20%20%20%20%29%3B%0A%20%20%20%20%20%20%20%20%20%20%20%20marker_eb092fbc2a0c4c409ec5f7cf768b073b.setIcon%28icon_6d3bfc5afe3044609c5ae278240a56bd%29%3B%0A%20%20%20%20%20%20%20%20%0A%20%20%20%20%0A%20%20%20%20%20%20%20%20%20%20%20%20var%20marker_883a0e1d98144e40b6808e17bde3bf8e%20%3D%20L.marker%28%0A%20%20%20%20%20%20%20%20%20%20%20%20%20%20%20%20%5B28.6080585%2C%20-80.6039558%5D%2C%0A%20%20%20%20%20%20%20%20%20%20%20%20%20%20%20%20%7B%7D%0A%20%20%20%20%20%20%20%20%20%20%20%20%29.addTo%28marker_cluster_4e9849bc674e4748b794ecb2c1aea053%29%3B%0A%20%20%20%20%20%20%20%20%0A%20%20%20%20%0A%20%20%20%20%20%20%20%20%20%20%20%20var%20icon_5d6a61eaa70345b6bd1174119fca05cf%20%3D%20L.AwesomeMarkers.icon%28%0A%20%20%20%20%20%20%20%20%20%20%20%20%20%20%20%20%7B%22extraClasses%22%3A%20%22fa-rotate-0%22%2C%20%22icon%22%3A%20%22info-sign%22%2C%20%22iconColor%22%3A%20%22green%22%2C%20%22markerColor%22%3A%20%22white%22%2C%20%22prefix%22%3A%20%22glyphicon%22%7D%0A%20%20%20%20%20%20%20%20%20%20%20%20%29%3B%0A%20%20%20%20%20%20%20%20%20%20%20%20marker_883a0e1d98144e40b6808e17bde3bf8e.setIcon%28icon_5d6a61eaa70345b6bd1174119fca05cf%29%3B%0A%20%20%20%20%20%20%20%20%0A%20%20%20%20%0A%20%20%20%20%20%20%20%20%20%20%20%20var%20marker_c7431d66af524886968904581a4f323b%20%3D%20L.marker%28%0A%20%20%20%20%20%20%20%20%20%20%20%20%20%20%20%20%5B28.6080585%2C%20-80.6039558%5D%2C%0A%20%20%20%20%20%20%20%20%20%20%20%20%20%20%20%20%7B%7D%0A%20%20%20%20%20%20%20%20%20%20%20%20%29.addTo%28marker_cluster_4e9849bc674e4748b794ecb2c1aea053%29%3B%0A%20%20%20%20%20%20%20%20%0A%20%20%20%20%0A%20%20%20%20%20%20%20%20%20%20%20%20var%20icon_1d6026e31cef4f568f97a7f7121174c8%20%3D%20L.AwesomeMarkers.icon%28%0A%20%20%20%20%20%20%20%20%20%20%20%20%20%20%20%20%7B%22extraClasses%22%3A%20%22fa-rotate-0%22%2C%20%22icon%22%3A%20%22info-sign%22%2C%20%22iconColor%22%3A%20%22green%22%2C%20%22markerColor%22%3A%20%22white%22%2C%20%22prefix%22%3A%20%22glyphicon%22%7D%0A%20%20%20%20%20%20%20%20%20%20%20%20%29%3B%0A%20%20%20%20%20%20%20%20%20%20%20%20marker_c7431d66af524886968904581a4f323b.setIcon%28icon_1d6026e31cef4f568f97a7f7121174c8%29%3B%0A%20%20%20%20%20%20%20%20%0A%20%20%20%20%0A%20%20%20%20%20%20%20%20%20%20%20%20var%20marker_d8297de521cc414492b195ddca919571%20%3D%20L.marker%28%0A%20%20%20%20%20%20%20%20%20%20%20%20%20%20%20%20%5B28.5618571%2C%20-80.577366%5D%2C%0A%20%20%20%20%20%20%20%20%20%20%20%20%20%20%20%20%7B%7D%0A%20%20%20%20%20%20%20%20%20%20%20%20%29.addTo%28marker_cluster_4e9849bc674e4748b794ecb2c1aea053%29%3B%0A%20%20%20%20%20%20%20%20%0A%20%20%20%20%0A%20%20%20%20%20%20%20%20%20%20%20%20var%20icon_09d9df718c9146cb951db66fdb474007%20%3D%20L.AwesomeMarkers.icon%28%0A%20%20%20%20%20%20%20%20%20%20%20%20%20%20%20%20%7B%22extraClasses%22%3A%20%22fa-rotate-0%22%2C%20%22icon%22%3A%20%22info-sign%22%2C%20%22iconColor%22%3A%20%22green%22%2C%20%22markerColor%22%3A%20%22white%22%2C%20%22prefix%22%3A%20%22glyphicon%22%7D%0A%20%20%20%20%20%20%20%20%20%20%20%20%29%3B%0A%20%20%20%20%20%20%20%20%20%20%20%20marker_d8297de521cc414492b195ddca919571.setIcon%28icon_09d9df718c9146cb951db66fdb474007%29%3B%0A%20%20%20%20%20%20%20%20%0A%20%20%20%20%0A%20%20%20%20%20%20%20%20%20%20%20%20var%20marker_0a1c4be5aefe4c0c827636934856627d%20%3D%20L.marker%28%0A%20%20%20%20%20%20%20%20%20%20%20%20%20%20%20%20%5B28.5618571%2C%20-80.577366%5D%2C%0A%20%20%20%20%20%20%20%20%20%20%20%20%20%20%20%20%7B%7D%0A%20%20%20%20%20%20%20%20%20%20%20%20%29.addTo%28marker_cluster_4e9849bc674e4748b794ecb2c1aea053%29%3B%0A%20%20%20%20%20%20%20%20%0A%20%20%20%20%0A%20%20%20%20%20%20%20%20%20%20%20%20var%20icon_ff6705ee4d9b450ebbaf52439dcc3105%20%3D%20L.AwesomeMarkers.icon%28%0A%20%20%20%20%20%20%20%20%20%20%20%20%20%20%20%20%7B%22extraClasses%22%3A%20%22fa-rotate-0%22%2C%20%22icon%22%3A%20%22info-sign%22%2C%20%22iconColor%22%3A%20%22green%22%2C%20%22markerColor%22%3A%20%22white%22%2C%20%22prefix%22%3A%20%22glyphicon%22%7D%0A%20%20%20%20%20%20%20%20%20%20%20%20%29%3B%0A%20%20%20%20%20%20%20%20%20%20%20%20marker_0a1c4be5aefe4c0c827636934856627d.setIcon%28icon_ff6705ee4d9b450ebbaf52439dcc3105%29%3B%0A%20%20%20%20%20%20%20%20%0A%20%20%20%20%0A%20%20%20%20%20%20%20%20%20%20%20%20var%20marker_13cf935a585540c1b7b56e2d903fd686%20%3D%20L.marker%28%0A%20%20%20%20%20%20%20%20%20%20%20%20%20%20%20%20%5B28.5618571%2C%20-80.577366%5D%2C%0A%20%20%20%20%20%20%20%20%20%20%20%20%20%20%20%20%7B%7D%0A%20%20%20%20%20%20%20%20%20%20%20%20%29.addTo%28marker_cluster_4e9849bc674e4748b794ecb2c1aea053%29%3B%0A%20%20%20%20%20%20%20%20%0A%20%20%20%20%0A%20%20%20%20%20%20%20%20%20%20%20%20var%20icon_1225b8af8a4744f784c2b63c608f91a9%20%3D%20L.AwesomeMarkers.icon%28%0A%20%20%20%20%20%20%20%20%20%20%20%20%20%20%20%20%7B%22extraClasses%22%3A%20%22fa-rotate-0%22%2C%20%22icon%22%3A%20%22info-sign%22%2C%20%22iconColor%22%3A%20%22green%22%2C%20%22markerColor%22%3A%20%22white%22%2C%20%22prefix%22%3A%20%22glyphicon%22%7D%0A%20%20%20%20%20%20%20%20%20%20%20%20%29%3B%0A%20%20%20%20%20%20%20%20%20%20%20%20marker_13cf935a585540c1b7b56e2d903fd686.setIcon%28icon_1225b8af8a4744f784c2b63c608f91a9%29%3B%0A%20%20%20%20%20%20%20%20%0A%20%20%20%20%0A%20%20%20%20%20%20%20%20%20%20%20%20var%20marker_d9e63ed103224c098eb38b9357822cda%20%3D%20L.marker%28%0A%20%20%20%20%20%20%20%20%20%20%20%20%20%20%20%20%5B28.5618571%2C%20-80.577366%5D%2C%0A%20%20%20%20%20%20%20%20%20%20%20%20%20%20%20%20%7B%7D%0A%20%20%20%20%20%20%20%20%20%20%20%20%29.addTo%28marker_cluster_4e9849bc674e4748b794ecb2c1aea053%29%3B%0A%20%20%20%20%20%20%20%20%0A%20%20%20%20%0A%20%20%20%20%20%20%20%20%20%20%20%20var%20icon_9a505eecaebd486194ae1157366d592d%20%3D%20L.AwesomeMarkers.icon%28%0A%20%20%20%20%20%20%20%20%20%20%20%20%20%20%20%20%7B%22extraClasses%22%3A%20%22fa-rotate-0%22%2C%20%22icon%22%3A%20%22info-sign%22%2C%20%22iconColor%22%3A%20%22green%22%2C%20%22markerColor%22%3A%20%22white%22%2C%20%22prefix%22%3A%20%22glyphicon%22%7D%0A%20%20%20%20%20%20%20%20%20%20%20%20%29%3B%0A%20%20%20%20%20%20%20%20%20%20%20%20marker_d9e63ed103224c098eb38b9357822cda.setIcon%28icon_9a505eecaebd486194ae1157366d592d%29%3B%0A%20%20%20%20%20%20%20%20%0A%20%20%20%20%0A%20%20%20%20%20%20%20%20%20%20%20%20var%20marker_f8461506c9924ddb8b26cb85f8d0c58e%20%3D%20L.marker%28%0A%20%20%20%20%20%20%20%20%20%20%20%20%20%20%20%20%5B28.5618571%2C%20-80.577366%5D%2C%0A%20%20%20%20%20%20%20%20%20%20%20%20%20%20%20%20%7B%7D%0A%20%20%20%20%20%20%20%20%20%20%20%20%29.addTo%28marker_cluster_4e9849bc674e4748b794ecb2c1aea053%29%3B%0A%20%20%20%20%20%20%20%20%0A%20%20%20%20%0A%20%20%20%20%20%20%20%20%20%20%20%20var%20icon_14dc7a11d26b4ec5a5e0f3881c11b83b%20%3D%20L.AwesomeMarkers.icon%28%0A%20%20%20%20%20%20%20%20%20%20%20%20%20%20%20%20%7B%22extraClasses%22%3A%20%22fa-rotate-0%22%2C%20%22icon%22%3A%20%22info-sign%22%2C%20%22iconColor%22%3A%20%22green%22%2C%20%22markerColor%22%3A%20%22white%22%2C%20%22prefix%22%3A%20%22glyphicon%22%7D%0A%20%20%20%20%20%20%20%20%20%20%20%20%29%3B%0A%20%20%20%20%20%20%20%20%20%20%20%20marker_f8461506c9924ddb8b26cb85f8d0c58e.setIcon%28icon_14dc7a11d26b4ec5a5e0f3881c11b83b%29%3B%0A%20%20%20%20%20%20%20%20%0A%20%20%20%20%0A%20%20%20%20%20%20%20%20%20%20%20%20var%20marker_51f4fe68ec8d49bd8bec006df6954e27%20%3D%20L.marker%28%0A%20%20%20%20%20%20%20%20%20%20%20%20%20%20%20%20%5B28.5618571%2C%20-80.577366%5D%2C%0A%20%20%20%20%20%20%20%20%20%20%20%20%20%20%20%20%7B%7D%0A%20%20%20%20%20%20%20%20%20%20%20%20%29.addTo%28marker_cluster_4e9849bc674e4748b794ecb2c1aea053%29%3B%0A%20%20%20%20%20%20%20%20%0A%20%20%20%20%0A%20%20%20%20%20%20%20%20%20%20%20%20var%20icon_388766b5160a4294a0c2464cbc67cbd5%20%3D%20L.AwesomeMarkers.icon%28%0A%20%20%20%20%20%20%20%20%20%20%20%20%20%20%20%20%7B%22extraClasses%22%3A%20%22fa-rotate-0%22%2C%20%22icon%22%3A%20%22info-sign%22%2C%20%22iconColor%22%3A%20%22green%22%2C%20%22markerColor%22%3A%20%22white%22%2C%20%22prefix%22%3A%20%22glyphicon%22%7D%0A%20%20%20%20%20%20%20%20%20%20%20%20%29%3B%0A%20%20%20%20%20%20%20%20%20%20%20%20marker_51f4fe68ec8d49bd8bec006df6954e27.setIcon%28icon_388766b5160a4294a0c2464cbc67cbd5%29%3B%0A%20%20%20%20%20%20%20%20%0A%20%20%20%20%0A%20%20%20%20%20%20%20%20%20%20%20%20var%20marker_54bc517305a34c1492aa81cab60285a7%20%3D%20L.marker%28%0A%20%20%20%20%20%20%20%20%20%20%20%20%20%20%20%20%5B28.6080585%2C%20-80.6039558%5D%2C%0A%20%20%20%20%20%20%20%20%20%20%20%20%20%20%20%20%7B%7D%0A%20%20%20%20%20%20%20%20%20%20%20%20%29.addTo%28marker_cluster_4e9849bc674e4748b794ecb2c1aea053%29%3B%0A%20%20%20%20%20%20%20%20%0A%20%20%20%20%0A%20%20%20%20%20%20%20%20%20%20%20%20var%20icon_82d19ee0afcf40fab9efd87a66e7870d%20%3D%20L.AwesomeMarkers.icon%28%0A%20%20%20%20%20%20%20%20%20%20%20%20%20%20%20%20%7B%22extraClasses%22%3A%20%22fa-rotate-0%22%2C%20%22icon%22%3A%20%22info-sign%22%2C%20%22iconColor%22%3A%20%22green%22%2C%20%22markerColor%22%3A%20%22white%22%2C%20%22prefix%22%3A%20%22glyphicon%22%7D%0A%20%20%20%20%20%20%20%20%20%20%20%20%29%3B%0A%20%20%20%20%20%20%20%20%20%20%20%20marker_54bc517305a34c1492aa81cab60285a7.setIcon%28icon_82d19ee0afcf40fab9efd87a66e7870d%29%3B%0A%20%20%20%20%20%20%20%20%0A%20%20%20%20%0A%20%20%20%20%20%20%20%20%20%20%20%20var%20marker_28307469d53b404986dd9a0e66eb4d11%20%3D%20L.marker%28%0A%20%20%20%20%20%20%20%20%20%20%20%20%20%20%20%20%5B28.6080585%2C%20-80.6039558%5D%2C%0A%20%20%20%20%20%20%20%20%20%20%20%20%20%20%20%20%7B%7D%0A%20%20%20%20%20%20%20%20%20%20%20%20%29.addTo%28marker_cluster_4e9849bc674e4748b794ecb2c1aea053%29%3B%0A%20%20%20%20%20%20%20%20%0A%20%20%20%20%0A%20%20%20%20%20%20%20%20%20%20%20%20var%20icon_c92e81e4fd5640828b1b9dc680e059d3%20%3D%20L.AwesomeMarkers.icon%28%0A%20%20%20%20%20%20%20%20%20%20%20%20%20%20%20%20%7B%22extraClasses%22%3A%20%22fa-rotate-0%22%2C%20%22icon%22%3A%20%22info-sign%22%2C%20%22iconColor%22%3A%20%22green%22%2C%20%22markerColor%22%3A%20%22white%22%2C%20%22prefix%22%3A%20%22glyphicon%22%7D%0A%20%20%20%20%20%20%20%20%20%20%20%20%29%3B%0A%20%20%20%20%20%20%20%20%20%20%20%20marker_28307469d53b404986dd9a0e66eb4d11.setIcon%28icon_c92e81e4fd5640828b1b9dc680e059d3%29%3B%0A%20%20%20%20%20%20%20%20%0A%20%20%20%20%0A%20%20%20%20%20%20%20%20%20%20%20%20var%20marker_7759675f71bc429e88566c883a13b747%20%3D%20L.marker%28%0A%20%20%20%20%20%20%20%20%20%20%20%20%20%20%20%20%5B28.6080585%2C%20-80.6039558%5D%2C%0A%20%20%20%20%20%20%20%20%20%20%20%20%20%20%20%20%7B%7D%0A%20%20%20%20%20%20%20%20%20%20%20%20%29.addTo%28marker_cluster_4e9849bc674e4748b794ecb2c1aea053%29%3B%0A%20%20%20%20%20%20%20%20%0A%20%20%20%20%0A%20%20%20%20%20%20%20%20%20%20%20%20var%20icon_e9eefbfbe2f8491792c3ffd41d21ad66%20%3D%20L.AwesomeMarkers.icon%28%0A%20%20%20%20%20%20%20%20%20%20%20%20%20%20%20%20%7B%22extraClasses%22%3A%20%22fa-rotate-0%22%2C%20%22icon%22%3A%20%22info-sign%22%2C%20%22iconColor%22%3A%20%22green%22%2C%20%22markerColor%22%3A%20%22white%22%2C%20%22prefix%22%3A%20%22glyphicon%22%7D%0A%20%20%20%20%20%20%20%20%20%20%20%20%29%3B%0A%20%20%20%20%20%20%20%20%20%20%20%20marker_7759675f71bc429e88566c883a13b747.setIcon%28icon_e9eefbfbe2f8491792c3ffd41d21ad66%29%3B%0A%20%20%20%20%20%20%20%20%0A%20%20%20%20%0A%20%20%20%20%20%20%20%20%20%20%20%20var%20marker_2f22922ede5645159eeba738a0e3f9c0%20%3D%20L.marker%28%0A%20%20%20%20%20%20%20%20%20%20%20%20%20%20%20%20%5B28.5618571%2C%20-80.577366%5D%2C%0A%20%20%20%20%20%20%20%20%20%20%20%20%20%20%20%20%7B%7D%0A%20%20%20%20%20%20%20%20%20%20%20%20%29.addTo%28marker_cluster_4e9849bc674e4748b794ecb2c1aea053%29%3B%0A%20%20%20%20%20%20%20%20%0A%20%20%20%20%0A%20%20%20%20%20%20%20%20%20%20%20%20var%20icon_66d03ded041d4357bab58cfd2d24203b%20%3D%20L.AwesomeMarkers.icon%28%0A%20%20%20%20%20%20%20%20%20%20%20%20%20%20%20%20%7B%22extraClasses%22%3A%20%22fa-rotate-0%22%2C%20%22icon%22%3A%20%22info-sign%22%2C%20%22iconColor%22%3A%20%22green%22%2C%20%22markerColor%22%3A%20%22white%22%2C%20%22prefix%22%3A%20%22glyphicon%22%7D%0A%20%20%20%20%20%20%20%20%20%20%20%20%29%3B%0A%20%20%20%20%20%20%20%20%20%20%20%20marker_2f22922ede5645159eeba738a0e3f9c0.setIcon%28icon_66d03ded041d4357bab58cfd2d24203b%29%3B%0A%20%20%20%20%20%20%20%20%0A%20%20%20%20%0A%20%20%20%20%20%20%20%20%20%20%20%20var%20marker_7bf59845967d4b698bbde7cdb55b8aac%20%3D%20L.marker%28%0A%20%20%20%20%20%20%20%20%20%20%20%20%20%20%20%20%5B28.5618571%2C%20-80.577366%5D%2C%0A%20%20%20%20%20%20%20%20%20%20%20%20%20%20%20%20%7B%7D%0A%20%20%20%20%20%20%20%20%20%20%20%20%29.addTo%28marker_cluster_4e9849bc674e4748b794ecb2c1aea053%29%3B%0A%20%20%20%20%20%20%20%20%0A%20%20%20%20%0A%20%20%20%20%20%20%20%20%20%20%20%20var%20icon_d12bf5bb6a7546e69f3a330344be2552%20%3D%20L.AwesomeMarkers.icon%28%0A%20%20%20%20%20%20%20%20%20%20%20%20%20%20%20%20%7B%22extraClasses%22%3A%20%22fa-rotate-0%22%2C%20%22icon%22%3A%20%22info-sign%22%2C%20%22iconColor%22%3A%20%22green%22%2C%20%22markerColor%22%3A%20%22white%22%2C%20%22prefix%22%3A%20%22glyphicon%22%7D%0A%20%20%20%20%20%20%20%20%20%20%20%20%29%3B%0A%20%20%20%20%20%20%20%20%20%20%20%20marker_7bf59845967d4b698bbde7cdb55b8aac.setIcon%28icon_d12bf5bb6a7546e69f3a330344be2552%29%3B%0A%20%20%20%20%20%20%20%20%0A%20%20%20%20%0A%20%20%20%20%20%20%20%20%20%20%20%20var%20mouse_position_c7ec78ec27d0431ab8ac87402d795360%20%3D%20new%20L.Control.MousePosition%28%0A%20%20%20%20%20%20%20%20%20%20%20%20%20%20%20%20%7B%22emptyString%22%3A%20%22Unavailable%22%2C%20%22lngFirst%22%3A%20false%2C%20%22numDigits%22%3A%2020%2C%20%22position%22%3A%20%22topright%22%2C%20%22prefix%22%3A%20%22Lat%22%2C%20%22separator%22%3A%20%22Long%22%7D%0A%20%20%20%20%20%20%20%20%20%20%20%20%29%3B%0A%20%20%20%20%20%20%20%20%20%20%20%20mouse_position_c7ec78ec27d0431ab8ac87402d795360.options%5B%22latFormatter%22%5D%20%3D%0A%20%20%20%20%20%20%20%20%20%20%20%20%20%20%20%20undefined%3B%0A%20%20%20%20%20%20%20%20%20%20%20%20mouse_position_c7ec78ec27d0431ab8ac87402d795360.options%5B%22lngFormatter%22%5D%20%3D%0A%20%20%20%20%20%20%20%20%20%20%20%20%20%20%20%20undefined%3B%0A%20%20%20%20%20%20%20%20%20%20%20%20map_f1fddf6be5304e4195a0bb7ed6f7b1f5.addControl%28mouse_position_c7ec78ec27d0431ab8ac87402d795360%29%3B%0A%20%20%20%20%20%20%20%20%0A%3C/script%3E onload=\"this.contentDocument.open();this.contentDocument.write(    decodeURIComponent(this.getAttribute('data-html')));this.contentDocument.close();\" allowfullscreen webkitallowfullscreen mozallowfullscreen></iframe></div></div>"
      ],
      "text/plain": [
       "<folium.folium.Map at 0x1ba198990d0>"
      ]
     },
     "execution_count": 62,
     "metadata": {},
     "output_type": "execute_result"
    }
   ],
   "source": [
    "# lets create a map for each launch site\n",
    "site_map = folium.Map(location=(37.0902,-95.7129),zoom_start=4)\n",
    "for site, lat, long in launch_sites_df[['LaunchSite','Latitude','Longitude']].values:\n",
    "    circle = folium.Circle((lat,long),radius=1000, color='blue',fill=True).add_child(folium.Popup(str(site)))\n",
    "    marker = folium.map.Marker((lat,long),icon=DivIcon(\n",
    "                                  icon_size=(20,20),\n",
    "                                  icon_anchor=(0,0),\n",
    "                                  html='<div style=\"font-size: 12; color:red;\"><b>%s</b></div>' % str(site),))\n",
    "    site_map.add_child(circle)\n",
    "    site_map.add_child(marker)\n",
    "# creating marker cluster\n",
    "marker_cluster = MarkerCluster()\n",
    "def apply_color(launch_outome):\n",
    "    if launch_outome==1:\n",
    "        return 'green'\n",
    "    else:\n",
    "        return 'red'\n",
    "spacex_df_clust=spacex_df.copy()\n",
    "spacex_df_clust['Marker_color']=spacex_df['Class'].apply(apply_color) \n",
    "##\n",
    "for index,record in spacex_df_clust.iterrows():\n",
    "    marker = folium.map.Marker((record['Latitude'],record['Longitude']),\n",
    "                               icon=folium.Icon(color='white',icon_color=record[\"Marker_color\"]))\n",
    "    marker_cluster.add_child(marker)\n",
    "\n",
    "site_map.add_child(marker_cluster)\n",
    "# creating mouse position\n",
    "mouse_position = MousePosition(position='topright',separator='Long',prefix='Lat',num_digits=20)\n",
    "site_map.add_child(mouse_position)"
   ]
  },
  {
   "cell_type": "markdown",
   "id": "a77fd3e4",
   "metadata": {},
   "source": [
    "*let's create a function which will be used to find the distance between two points on the map*"
   ]
  },
  {
   "cell_type": "code",
   "execution_count": 64,
   "id": "5702150a",
   "metadata": {},
   "outputs": [],
   "source": [
    "def calculate_distance(lat1, lon1, lat2, lon2):\n",
    "    # approximate radius of earth in km\n",
    "    R = 6373.0\n",
    "    lat1 = radians(lat1)\n",
    "    lon1 = radians(lon1)\n",
    "    lat2 = radians(lat2)\n",
    "    lon2 = radians(lon2)\n",
    "    dlon = lon2 - lon1\n",
    "    dlat = lat2 - lat1\n",
    "    a = sin(dlat / 2)**2 + cos(lat1) * cos(lat2) * sin(dlon / 2)**2\n",
    "    c = 2 * atan2(sqrt(a), sqrt(1 - a))\n",
    "    distance = R * c\n",
    "    return distance"
   ]
  },
  {
   "cell_type": "code",
   "execution_count": 66,
   "id": "721e3aab",
   "metadata": {},
   "outputs": [],
   "source": [
    "# let's find the lat and long of the nearest coastline to KSC LC 39A launchsite\n",
    "lan_coast,long_coast = 28.61195275385587,-80.59753677520109\n",
    "site_lat = spacex_df[spacex_df['LaunchSite']=='KSC LC 39A']['Latitude'].iloc[0]\n",
    "site_long = spacex_df[spacex_df['LaunchSite']=='KSC LC 39A']['Longitude'].iloc[0]\n",
    "distance = round(calculate_distance(lan_coast,long_coast,site_lat,site_long),2)"
   ]
  },
  {
   "cell_type": "code",
   "execution_count": 74,
   "id": "281ae443",
   "metadata": {
    "scrolled": true
   },
   "outputs": [
    {
     "data": {
      "text/html": [
       "<div style=\"width:100%;\"><div style=\"position:relative;width:100%;height:0;padding-bottom:60%;\"><span style=\"color:#565656\">Make this Notebook Trusted to load map: File -> Trust Notebook</span><iframe src=\"about:blank\" style=\"position:absolute;width:100%;height:100%;left:0;top:0;border:none !important;\" data-html=%3C%21DOCTYPE%20html%3E%0A%3Chead%3E%20%20%20%20%0A%20%20%20%20%3Cmeta%20http-equiv%3D%22content-type%22%20content%3D%22text/html%3B%20charset%3DUTF-8%22%20/%3E%0A%20%20%20%20%0A%20%20%20%20%20%20%20%20%3Cscript%3E%0A%20%20%20%20%20%20%20%20%20%20%20%20L_NO_TOUCH%20%3D%20false%3B%0A%20%20%20%20%20%20%20%20%20%20%20%20L_DISABLE_3D%20%3D%20false%3B%0A%20%20%20%20%20%20%20%20%3C/script%3E%0A%20%20%20%20%0A%20%20%20%20%3Cstyle%3Ehtml%2C%20body%20%7Bwidth%3A%20100%25%3Bheight%3A%20100%25%3Bmargin%3A%200%3Bpadding%3A%200%3B%7D%3C/style%3E%0A%20%20%20%20%3Cstyle%3E%23map%20%7Bposition%3Aabsolute%3Btop%3A0%3Bbottom%3A0%3Bright%3A0%3Bleft%3A0%3B%7D%3C/style%3E%0A%20%20%20%20%3Cscript%20src%3D%22https%3A//cdn.jsdelivr.net/npm/leaflet%401.6.0/dist/leaflet.js%22%3E%3C/script%3E%0A%20%20%20%20%3Cscript%20src%3D%22https%3A//code.jquery.com/jquery-1.12.4.min.js%22%3E%3C/script%3E%0A%20%20%20%20%3Cscript%20src%3D%22https%3A//maxcdn.bootstrapcdn.com/bootstrap/3.2.0/js/bootstrap.min.js%22%3E%3C/script%3E%0A%20%20%20%20%3Cscript%20src%3D%22https%3A//cdnjs.cloudflare.com/ajax/libs/Leaflet.awesome-markers/2.0.2/leaflet.awesome-markers.js%22%3E%3C/script%3E%0A%20%20%20%20%3Clink%20rel%3D%22stylesheet%22%20href%3D%22https%3A//cdn.jsdelivr.net/npm/leaflet%401.6.0/dist/leaflet.css%22/%3E%0A%20%20%20%20%3Clink%20rel%3D%22stylesheet%22%20href%3D%22https%3A//maxcdn.bootstrapcdn.com/bootstrap/3.2.0/css/bootstrap.min.css%22/%3E%0A%20%20%20%20%3Clink%20rel%3D%22stylesheet%22%20href%3D%22https%3A//maxcdn.bootstrapcdn.com/bootstrap/3.2.0/css/bootstrap-theme.min.css%22/%3E%0A%20%20%20%20%3Clink%20rel%3D%22stylesheet%22%20href%3D%22https%3A//maxcdn.bootstrapcdn.com/font-awesome/4.6.3/css/font-awesome.min.css%22/%3E%0A%20%20%20%20%3Clink%20rel%3D%22stylesheet%22%20href%3D%22https%3A//cdnjs.cloudflare.com/ajax/libs/Leaflet.awesome-markers/2.0.2/leaflet.awesome-markers.css%22/%3E%0A%20%20%20%20%3Clink%20rel%3D%22stylesheet%22%20href%3D%22https%3A//cdn.jsdelivr.net/gh/python-visualization/folium/folium/templates/leaflet.awesome.rotate.min.css%22/%3E%0A%20%20%20%20%0A%20%20%20%20%20%20%20%20%20%20%20%20%3Cmeta%20name%3D%22viewport%22%20content%3D%22width%3Ddevice-width%2C%0A%20%20%20%20%20%20%20%20%20%20%20%20%20%20%20%20initial-scale%3D1.0%2C%20maximum-scale%3D1.0%2C%20user-scalable%3Dno%22%20/%3E%0A%20%20%20%20%20%20%20%20%20%20%20%20%3Cstyle%3E%0A%20%20%20%20%20%20%20%20%20%20%20%20%20%20%20%20%23map_89f5a15cc9704e0d9edec0006b525bbe%20%7B%0A%20%20%20%20%20%20%20%20%20%20%20%20%20%20%20%20%20%20%20%20position%3A%20relative%3B%0A%20%20%20%20%20%20%20%20%20%20%20%20%20%20%20%20%20%20%20%20width%3A%20100.0%25%3B%0A%20%20%20%20%20%20%20%20%20%20%20%20%20%20%20%20%20%20%20%20height%3A%20100.0%25%3B%0A%20%20%20%20%20%20%20%20%20%20%20%20%20%20%20%20%20%20%20%20left%3A%200.0%25%3B%0A%20%20%20%20%20%20%20%20%20%20%20%20%20%20%20%20%20%20%20%20top%3A%200.0%25%3B%0A%20%20%20%20%20%20%20%20%20%20%20%20%20%20%20%20%7D%0A%20%20%20%20%20%20%20%20%20%20%20%20%3C/style%3E%0A%20%20%20%20%20%20%20%20%0A%3C/head%3E%0A%3Cbody%3E%20%20%20%20%0A%20%20%20%20%0A%20%20%20%20%20%20%20%20%20%20%20%20%3Cdiv%20class%3D%22folium-map%22%20id%3D%22map_89f5a15cc9704e0d9edec0006b525bbe%22%20%3E%3C/div%3E%0A%20%20%20%20%20%20%20%20%0A%3C/body%3E%0A%3Cscript%3E%20%20%20%20%0A%20%20%20%20%0A%20%20%20%20%20%20%20%20%20%20%20%20var%20map_89f5a15cc9704e0d9edec0006b525bbe%20%3D%20L.map%28%0A%20%20%20%20%20%20%20%20%20%20%20%20%20%20%20%20%22map_89f5a15cc9704e0d9edec0006b525bbe%22%2C%0A%20%20%20%20%20%20%20%20%20%20%20%20%20%20%20%20%7B%0A%20%20%20%20%20%20%20%20%20%20%20%20%20%20%20%20%20%20%20%20center%3A%20%5B28.6080585%2C%20-80.6039558%5D%2C%0A%20%20%20%20%20%20%20%20%20%20%20%20%20%20%20%20%20%20%20%20crs%3A%20L.CRS.EPSG3857%2C%0A%20%20%20%20%20%20%20%20%20%20%20%20%20%20%20%20%20%20%20%20zoom%3A%2014%2C%0A%20%20%20%20%20%20%20%20%20%20%20%20%20%20%20%20%20%20%20%20zoomControl%3A%20true%2C%0A%20%20%20%20%20%20%20%20%20%20%20%20%20%20%20%20%20%20%20%20preferCanvas%3A%20false%2C%0A%20%20%20%20%20%20%20%20%20%20%20%20%20%20%20%20%7D%0A%20%20%20%20%20%20%20%20%20%20%20%20%29%3B%0A%0A%20%20%20%20%20%20%20%20%20%20%20%20%0A%0A%20%20%20%20%20%20%20%20%0A%20%20%20%20%0A%20%20%20%20%20%20%20%20%20%20%20%20var%20tile_layer_ed3dff1bfad04aaeac8d3e26f967aa48%20%3D%20L.tileLayer%28%0A%20%20%20%20%20%20%20%20%20%20%20%20%20%20%20%20%22https%3A//%7Bs%7D.tile.openstreetmap.org/%7Bz%7D/%7Bx%7D/%7By%7D.png%22%2C%0A%20%20%20%20%20%20%20%20%20%20%20%20%20%20%20%20%7B%22attribution%22%3A%20%22Data%20by%20%5Cu0026copy%3B%20%5Cu003ca%20href%3D%5C%22http%3A//openstreetmap.org%5C%22%5Cu003eOpenStreetMap%5Cu003c/a%5Cu003e%2C%20under%20%5Cu003ca%20href%3D%5C%22http%3A//www.openstreetmap.org/copyright%5C%22%5Cu003eODbL%5Cu003c/a%5Cu003e.%22%2C%20%22detectRetina%22%3A%20false%2C%20%22maxNativeZoom%22%3A%2018%2C%20%22maxZoom%22%3A%2018%2C%20%22minZoom%22%3A%200%2C%20%22noWrap%22%3A%20false%2C%20%22opacity%22%3A%201%2C%20%22subdomains%22%3A%20%22abc%22%2C%20%22tms%22%3A%20false%7D%0A%20%20%20%20%20%20%20%20%20%20%20%20%29.addTo%28map_89f5a15cc9704e0d9edec0006b525bbe%29%3B%0A%20%20%20%20%20%20%20%20%0A%20%20%20%20%0A%20%20%20%20%20%20%20%20%20%20%20%20var%20marker_35fc5d38dff5449b9bd637908d3c51ac%20%3D%20L.marker%28%0A%20%20%20%20%20%20%20%20%20%20%20%20%20%20%20%20%5B28.61195275385587%2C%20-80.59753677520109%5D%2C%0A%20%20%20%20%20%20%20%20%20%20%20%20%20%20%20%20%7B%7D%0A%20%20%20%20%20%20%20%20%20%20%20%20%29.addTo%28map_89f5a15cc9704e0d9edec0006b525bbe%29%3B%0A%20%20%20%20%20%20%20%20%0A%20%20%20%20%0A%20%20%20%20%20%20%20%20%20%20%20%20var%20div_icon_633cb70ff11247dc870ab61b19a0177c%20%3D%20L.divIcon%28%7B%22className%22%3A%20%22empty%22%2C%20%22html%22%3A%20%22%5Cu003cdiv%20style%3D%5C%22font-size%3A%2012%3B%20color%3A%23d35400%3B%5C%22%5Cu003e%5Cu003cb%5Cu003e%20%20%20%20%20%200.76%20KM%5Cu003c/b%5Cu003e%5Cu003c/div%5Cu003e%22%2C%20%22iconAnchor%22%3A%20%5B0%2C%200%5D%2C%20%22iconSize%22%3A%20%5B20%2C%2020%5D%7D%29%3B%0A%20%20%20%20%20%20%20%20%20%20%20%20marker_35fc5d38dff5449b9bd637908d3c51ac.setIcon%28div_icon_633cb70ff11247dc870ab61b19a0177c%29%3B%0A%20%20%20%20%20%20%20%20%0A%20%20%20%20%0A%20%20%20%20%20%20%20%20%20%20%20%20var%20circle_30c5b87f5d0a4decaaed459414d10b3a%20%3D%20L.circle%28%0A%20%20%20%20%20%20%20%20%20%20%20%20%20%20%20%20%5B28.6080585%2C%20-80.6039558%5D%2C%0A%20%20%20%20%20%20%20%20%20%20%20%20%20%20%20%20%7B%22bubblingMouseEvents%22%3A%20true%2C%20%22color%22%3A%20%22blue%22%2C%20%22dashArray%22%3A%20null%2C%20%22dashOffset%22%3A%20null%2C%20%22fill%22%3A%20true%2C%20%22fillColor%22%3A%20%22blue%22%2C%20%22fillOpacity%22%3A%200.2%2C%20%22fillRule%22%3A%20%22evenodd%22%2C%20%22lineCap%22%3A%20%22round%22%2C%20%22lineJoin%22%3A%20%22round%22%2C%20%22opacity%22%3A%201.0%2C%20%22radius%22%3A%201000%2C%20%22stroke%22%3A%20true%2C%20%22weight%22%3A%203%7D%0A%20%20%20%20%20%20%20%20%20%20%20%20%29.addTo%28map_89f5a15cc9704e0d9edec0006b525bbe%29%3B%0A%20%20%20%20%20%20%20%20%0A%20%20%20%20%0A%20%20%20%20%20%20%20%20var%20popup_15331f147a284c7aa552152396fb6b26%20%3D%20L.popup%28%7B%22maxWidth%22%3A%20%22100%25%22%7D%29%3B%0A%0A%20%20%20%20%20%20%20%20%0A%20%20%20%20%20%20%20%20%20%20%20%20var%20html_023a96be57f84d489b0e85c81a70528c%20%3D%20%24%28%60%3Cdiv%20id%3D%22html_023a96be57f84d489b0e85c81a70528c%22%20style%3D%22width%3A%20100.0%25%3B%20height%3A%20100.0%25%3B%22%3EVAFB%20SLC%204E%3C/div%3E%60%29%5B0%5D%3B%0A%20%20%20%20%20%20%20%20%20%20%20%20popup_15331f147a284c7aa552152396fb6b26.setContent%28html_023a96be57f84d489b0e85c81a70528c%29%3B%0A%20%20%20%20%20%20%20%20%0A%0A%20%20%20%20%20%20%20%20circle_30c5b87f5d0a4decaaed459414d10b3a.bindPopup%28popup_15331f147a284c7aa552152396fb6b26%29%0A%20%20%20%20%20%20%20%20%3B%0A%0A%20%20%20%20%20%20%20%20%0A%20%20%20%20%0A%20%20%20%20%0A%20%20%20%20%20%20%20%20%20%20%20%20var%20poly_line_8dfe90cd734d489eaedfdfae070ca808%20%3D%20L.polyline%28%0A%20%20%20%20%20%20%20%20%20%20%20%20%20%20%20%20%5B%5B28.61195275385587%2C%20-80.59753677520109%5D%2C%20%5B28.6080585%2C%20-80.6039558%5D%5D%2C%0A%20%20%20%20%20%20%20%20%20%20%20%20%20%20%20%20%7B%22bubblingMouseEvents%22%3A%20true%2C%20%22color%22%3A%20%22%233388ff%22%2C%20%22dashArray%22%3A%20null%2C%20%22dashOffset%22%3A%20null%2C%20%22fill%22%3A%20false%2C%20%22fillColor%22%3A%20%22%233388ff%22%2C%20%22fillOpacity%22%3A%200.2%2C%20%22fillRule%22%3A%20%22evenodd%22%2C%20%22lineCap%22%3A%20%22round%22%2C%20%22lineJoin%22%3A%20%22round%22%2C%20%22noClip%22%3A%20false%2C%20%22opacity%22%3A%201.0%2C%20%22smoothFactor%22%3A%201.0%2C%20%22stroke%22%3A%20true%2C%20%22weight%22%3A%203%7D%0A%20%20%20%20%20%20%20%20%20%20%20%20%29.addTo%28map_89f5a15cc9704e0d9edec0006b525bbe%29%3B%0A%20%20%20%20%20%20%20%20%0A%3C/script%3E onload=\"this.contentDocument.open();this.contentDocument.write(    decodeURIComponent(this.getAttribute('data-html')));this.contentDocument.close();\" allowfullscreen webkitallowfullscreen mozallowfullscreen></iframe></div></div>"
      ],
      "text/plain": [
       "<folium.folium.Map at 0x1ba199e3e20>"
      ]
     },
     "execution_count": 74,
     "metadata": {},
     "output_type": "execute_result"
    }
   ],
   "source": [
    "site_map = folium.Map(location=(site_lat,site_long),zoom_start=14)\n",
    "circle = folium.Circle((site_lat,site_long),radius=1000, color='blue',fill=True).add_child(folium.Popup(str(site)))\n",
    "\n",
    "distance_marker =folium.Marker((lan_coast,long_coast),icon=DivIcon(\n",
    "       icon_size=(20,20),\n",
    "       icon_anchor=(0,0),\n",
    "       html='<div style=\"font-size: 12; color:#d35400;\"><b>%s</b></div>' % \"{:10.2f} KM\".format(distance),\n",
    "       ))\n",
    "site_map.add_child(distance_marker)\n",
    "line = folium.PolyLine([(lan_coast,long_coast),(site_lat,site_long)])\n",
    "site_map.add_child(circle)\n",
    "site_map.add_child(line)"
   ]
  },
  {
   "cell_type": "markdown",
   "id": "7b798ede",
   "metadata": {},
   "source": [
    "## Dashboarding"
   ]
  },
  {
   "cell_type": "code",
   "execution_count": null,
   "id": "2f079ffc",
   "metadata": {},
   "outputs": [],
   "source": [
    "app = dash.Dash(__name__) # creating a dash app\n",
    "app.layout = html.Div([\n",
    "    # creating the heading\n",
    "    html.H1('Success ratio per Launch Site',style={'textAlign':'center','color':'#503D36','font-size':40}),\n",
    "    # creating the drop downs \n",
    "    html.Div([html.Label(['Launch Sites:'], style={'font-size':30}),\n",
    "        dcc.Dropdown(id='inp01',options=[{'label':'All sites','value':'All'},\n",
    "                                         {'label':'CCSFS SLC 40','value':'CCSFS SLC 40'},\n",
    "                                        {'label':'VAFB SLC 4E','value':'VAFB SLC 4E'},\n",
    "                                        {'label':'KSC LC 39A','value':'KSC LC 39A'},],\n",
    "                     value='All',placeholder=\"place holder here\",searchable=True,\n",
    "                     style={'width':'80%','padding':'3px','font-size':'20px','text-align-last':'center'}),\n",
    "             ]),\n",
    "    html.Div([dcc.Graph(id='plot01')],style={'border':'solid'}),\n",
    "    html.H1(''),\n",
    "    # creating range slider\n",
    "    html.Div([html.Label(['Payload Mass:'], style={'font-size':30}),\n",
    "    dcc.RangeSlider(id='inp02',\n",
    "                min=0, max=10000, step=1000,\n",
    "                marks={0: '0',10000: '10000'},\n",
    "                value=[0, 10000])\n",
    "             ]),\n",
    "    html.Div([dcc.Graph(id='plot02')],style={'border':'solid'}),\n",
    "])\n",
    "#########################################################################\n",
    "# creating a decorator to add app application to the Graph function defined below\n",
    "# the ids for inputs and outputs are the same as those provided in the app layout\n",
    "@app.callback([Output(component_id='plot01',component_property='figure'),\n",
    "              Output(component_id='plot02',component_property='figure')],\n",
    "              [Input(component_id='inp01',component_property='value'),\n",
    "              Input(component_id='inp02',component_property='value')])\n",
    "#########################################################################\n",
    "def Graph(inp01,inp02):\n",
    "    # creating a pie plot\n",
    "    if inp01=='All':\n",
    "        data_rate_site=data_falcone9.groupby('LaunchSite')['Class'].mean().reset_index()\n",
    "        fig01 = px.pie(data_rate_site, values='Class',names='LaunchSite')\n",
    "    else:\n",
    "        data_pie=data_falcone9[data_falcone9.LaunchSite==inp01]['Class']\n",
    "        fig01 = px.pie(data_pie, names='Class')\n",
    "    # create scatter plot\n",
    "    df_scatter = data_falcone9[(data_falcone9['PayloadMass'] >inp02[0]) & (data_falcone9['PayloadMass']<inp02[1])]\n",
    "    fig02 = px.scatter(df_scatter,x='PayloadMass',y='Class',color='Orbit')\n",
    "    return [fig01,fig02]\n",
    "#########################################################################\n",
    "app.run_server(port=8002,host='127.0.0.1',debug=False)"
   ]
  },
  {
   "cell_type": "markdown",
   "id": "9eb86133",
   "metadata": {},
   "source": [
    "## Predictive Analysis"
   ]
  },
  {
   "cell_type": "code",
   "execution_count": 75,
   "id": "2ac56405",
   "metadata": {},
   "outputs": [],
   "source": [
    "y_tot = data_falcone9['Class'].to_numpy()"
   ]
  },
  {
   "cell_type": "code",
   "execution_count": 76,
   "id": "26034a1d",
   "metadata": {},
   "outputs": [],
   "source": [
    "x_tot = StandardScaler().fit_transform(features)"
   ]
  },
  {
   "cell_type": "markdown",
   "id": "5ba88382",
   "metadata": {},
   "source": [
    "*let's split dataframe into the train and test samples*"
   ]
  },
  {
   "cell_type": "code",
   "execution_count": 77,
   "id": "9200d2c3",
   "metadata": {},
   "outputs": [],
   "source": [
    "xtrain,xtest,ytrain,ytest = train_test_split(x_tot,y_tot,test_size =0.2,random_state=4)"
   ]
  },
  {
   "cell_type": "markdown",
   "id": "5fddfe02",
   "metadata": {},
   "source": [
    "### Logistic Regression"
   ]
  },
  {
   "cell_type": "code",
   "execution_count": 79,
   "id": "4aba907f",
   "metadata": {},
   "outputs": [
    {
     "name": "stdout",
     "output_type": "stream",
     "text": [
      "best parameter is 1.0, best score is: 0.85\n"
     ]
    }
   ],
   "source": [
    "lr = LogisticRegression()\n",
    "# let's find the parameter C which leads to the highest accuracy score using Grid Seach CV\n",
    "parameters = {'C':[0.01,0.1,1.0]}\n",
    "grid = GridSearchCV(lr,parameters)\n",
    "# let's train the grid uding training data\n",
    "grid.fit(xtrain,ytrain)\n",
    "# let's print the best parameter and corresponding accuracy score\n",
    "print(f\"best parameter is {grid.best_params_['C']}, best score is: {round(grid.best_score_,3)}\")"
   ]
  },
  {
   "cell_type": "code",
   "execution_count": 80,
   "id": "47512906",
   "metadata": {},
   "outputs": [
    {
     "name": "stdout",
     "output_type": "stream",
     "text": [
      "The score value for the test data is :0.778\n"
     ]
    }
   ],
   "source": [
    "lr=LogisticRegression(C=0.1)\n",
    "lr.fit(xtrain,ytrain)\n",
    "print(f\"The score value for the test data is :{round(lr.score(xtest,ytest),3)}\")"
   ]
  },
  {
   "cell_type": "markdown",
   "id": "0392406e",
   "metadata": {},
   "source": [
    "**Discussion**: The accuracy score for test data is less than training data which makes sense due to the fact that only 20% of data is allocated for testing the model."
   ]
  },
  {
   "cell_type": "code",
   "execution_count": 81,
   "id": "5ba3edba",
   "metadata": {},
   "outputs": [
    {
     "data": {
      "image/png": "iVBORw0KGgoAAAANSUhEUgAAAWgAAAEWCAYAAABLzQ1kAAAAOXRFWHRTb2Z0d2FyZQBNYXRwbG90bGliIHZlcnNpb24zLjMuNCwgaHR0cHM6Ly9tYXRwbG90bGliLm9yZy8QVMy6AAAACXBIWXMAAAsTAAALEwEAmpwYAAAYt0lEQVR4nO3debxd473H8c/3JGYJIZKYgt4aL6W9arw0paaiKDWUVpWGKlrDRXtdKW3vS1t1qSqOsZVIza4maiiNmBoZEIKipqSZiJn0yvC7f6x1Yuc4wzr77OHZ53zfr9d62XuttZ/1c2y/85zfep5nKSIwM7P0NNU7ADMza5sTtJlZopygzcwS5QRtZpYoJ2gzs0Q5QZuZJcoJ2rpN0gqS/ijpHUk3daOdwyXdU8nY6kHSnyQdWe84rPE5Qfcikr4uaZKk9yXNyhPJv1eg6YOAwcDqEfG1chuJiFERsXsF4lmKpGGSQtKtrfZvme8fV7CdH0sa2dl5EbFXRPyuzHDNlnCC7iUknQJcCPw3WTIdCvwW2K8Cza8HPB8RCyvQVrW8DuwgafWSfUcCz1fqAsr4/ymrGH+ZegFJqwDnAt+LiFsj4oOIWBARf4yI/8jPWU7ShZJm5tuFkpbLjw2TNEPSqZLm5r3vo/Jj5wBnA4fkPfOjW/c0Ja2f91T75u+/JeklSe9JelnS4SX7Hyr53A6SJualk4mSdig5Nk7STyQ9nLdzj6SBHfwYPgJuBw7NP98HOBgY1epndZGk6ZLelTRZ0k75/j2BH5X8ez5ZEsfPJD0MfAh8Kt93TH78Ukk3l7T/c0n3SVLR/37WezlB9w7bA8sDt3Vwzn8C2wFbAVsC2wBnlRwfAqwCrA0cDVwiaUBEjCDrld8QEStHxFUdBSJpJeDXwF4R0Q/YAXiijfNWA8bm564OXACMbdUD/jpwFDAIWBY4raNrA78Hvpm/3gOYBsxsdc5Esp/BasD1wE2Slo+Iu1r9e25Z8plvAMOBfsCrrdo7FfhM/stnJ7Kf3ZHhNRasACfo3mF14I1OShCHA+dGxNyIeB04hyzxtFiQH18QEXcC7wMblxnPYmBzSStExKyImNbGOXsDL0TEdRGxMCJGA88B+5acc01EPB8R84EbyRJruyLiEWA1SRuTJerft3HOyIiYl1/zV8BydP7veW1ETMs/s6BVex8CR5D9ghkJnBgRMzppzwxwgu4t5gEDW0oM7ViLpXt/r+b7lrTRKsF/CKzc1UAi4gPgEOA4YJaksZI2KRBPS0xrl7yfXUY81wEnAF+kjb8o8jLOs3lZ5W2yvxo6Kp0ATO/oYEQ8BrwEiOwXiVkhTtC9w6PAP4H9OzhnJtnNvhZD+eSf/0V9AKxY8n5I6cGIuDsidgPWJOsVX1EgnpaY/lFmTC2uA44H7sx7t0vkJYgzyGrTAyJiVeAdssQK0F5ZosNyhaTvkfXEZwKnlx259TpO0L1ARLxDdiPvEkn7S1pR0jKS9pL0i/y00cBZktbIb7adTfYneTmeAHaWNDS/QfnDlgOSBkv6Sl6L/j+yUsmiNtq4E9goHxrYV9IhwGbAmDJjAiAiXga+QFZzb60fsJBsxEdfSWcD/UuOzwHW78pIDUkbAT8lK3N8Azhd0lblRW+9jRN0LxERFwCnkN34e53sz/ITyEY2QJZEJgFTgaeAKfm+cq51L3BD3tZklk6qTWQ3zmYCb5Ily+PbaGMesE9+7jyynuc+EfFGOTG1avuhiGjrr4O7gT+RDb17leyvjtLyRcsknHmSpnR2nbykNBL4eUQ8GREvkI0Eua5lhIxZR+SbyWZmaXIP2swsUU7QZmYVJunqfFLX0yX7VpN0r6QX8n8O6KwdJ2gzs8q7Ftiz1b4zgfsiYkPgvvx9h1yDNjOrAknrA2MiYvP8/d+AYRExS9KawLiI6HASVEcTF+rqtAn3+zeHmRVy/ra7dHttkxWGHlY45/xz+h+OJZve36I5Ipo7+djgiJgFkCfpQZ1dJ9kEbWaWqjwZd5aQu80J2swMqMFKsXMkrVlS4pjb2Qd8k9DMDGhS38Jbme4gW4Oc/J//29kH3IM2M6OyPWhJo4FhZIuUzQBGAOcBN0o6GngN6PTpQ07QZmZAJZ+hEBGHtXNo16604wRtZgakWPF1gjYzoyY3CbvMCdrMDCdoM7NkdWN0RtWkF5GZWR24B21mlignaDOzRInKDbOrFCdoMzPcgzYzS1ZTU3rpML2IzMzqwj1oM7MkucRhZpYoJ2gzs0TJJQ4zszS5B21mlqimpj71DuETnKDNzHCJw8wsWS5xmJklygnazCxRLnGYmSVKnuptZpamSj40tlKcoM3McInDzCxZvkloZpYqlzjMzBKVXgfaCdrMDICm9DK0E7SZGbgHbWaWqnAN2swsUenlZydoMzMAmtLL0E7QZmbgYXZmZsnq4wRtZpYm96DNzBKVXn52gjYzA5K8SZjg0GwzszpQF7bOmpJOljRN0tOSRktavpyQnKDNzIDo01R464iktYGTgK0jYnOgD3BoOTG5xGFmBpWuQfcFVpC0AFgRmFlOI+5Bm5lBNoqj4CZpuKRJJdvwlmYi4h/A+cBrwCzgnYi4p5yQ3IM2M4Mu3SSMiGagua1jkgYA+wEbAG8DN0k6IiJGdjmkrn7AzKxHqtxNwi8BL0fE6xGxALgV2KGckNyDNjODSk5UeQ3YTtKKwHxgV2BSOQ05QZuZQcWmekfEBEk3A1OAhcDjtFMO6YwTtJkZVHSqd0SMAEZ0tx0naDMzSHKqt28SJi4WL+aBs37GhF9dUu9QLCH+XlReNKnwVitO0Il76e776bfWkHqHYYnx96IKujAOulaqlqAlbSLpDEm/lnRR/nrTal2vJ5r/5lvMffJphg7bsd6hWEL8vaiSCq7FUSlVSdCSzgD+QPav8hgwMX89WtKZ1bhmTzRt1E1sesgBIP+hYx/z96JK+jQV32qkWlc6Gvh8RJwXESPz7Txgm/xYm0qnT069fUyVQmsMcx5/imX79WPVDdardyiWEH8vqijBHnS1RnEsBtYCXm21f838WJtKp0+eNuH+qFJsDeHNF/7OnMen8uepT7N4wUIWzJ/PlMuu4XPHHVXv0KyO/L2oogTXg65Wgv4BcJ+kF4Dp+b6hwKeBE6p0zR5l04P3Z9OD9wfgjWef5+933uv/Cc3fi2rqLQk6Iu6StBFZSWNtsj8KZgATI2JRNa5pZtYdkV5+rt5ElYhYDPy1Wu33JgM33YiBm25U7zAsMf5eVFgNb/4V5ZmEZmbQe0ocZmYNJ70OtBO0mRlQ0xmCRTlBm5mBSxxmZqkK96DNzBLV1wnazCxN7kGbmSXKNWgzs0Sll5+doM3MgJo+KaUoJ2gzM3CJw8wsWX2coM3M0uRRHGZmiXKJw8wsUU7QZmZp8lRvM7NU+SahmVmiXOIwM0uUE7SZWaLSy8/FHvIi6d8lHZW/XkPSBtUNy8ystqJJhbda6bQHLWkEsDWwMXANsAwwEtixuqGZmdVQg47iOAD4LDAFICJmSupX1ajMzGqtQUdxfBQRISkAJK1U5ZjMzGquKcGnehcJ6UZJlwOrSvoO8GfgiuqGZWZWW1LxrfO2tKqkmyU9J+lZSduXE1OnPeiIOF/SbsC7ZHXosyPi3nIuZmaWqgqXoC8C7oqIgyQtC6xYTiOFhtnlCdlJ2cx6LFUoQ0vqD+wMfAsgIj4CPiqnrU5LHJLek/Ruvv1T0iJJ75ZzMTOzVDU1Fd8kDZc0qWQbXtLUp4DXgWskPS7pynLv3RUpcSw1YkPS/sA25VzMzCxV6sJNwohoBprbOdwX+BxwYkRMkHQRcCbwX12Nqcv3LSPidmCXrn7OzCxlFbxJOAOYERET8vc3kyXsLisyUeWrJW+byCatRDkXMzNLVaUmCEbEbEnTJW0cEX8DdgWeKaetIjcJ9y15vRB4BdivnIuZmaWqwqM4TgRG5SM4XgKOKqeRIjXosho2M2sklUzQEfEEWbWhW9pN0JIupoNSRkSc1N2Lm5mloqnBpnpPqlkUZmZ1luBaSe0n6Ij4XS0DMTOrp4ZK0C0krQGcAWwGLN+yPyI81M7MeowUE3SRcdCjgGeBDYBzyEZxTKxiTGZmNdek4lvNYipwzuoRcRWwICIeiIhvA9tVOS4zs5qq5Gp2lVJkHPSC/J+zJO0NzATWqV5IZma112ijOFr8VNIqwKnAxUB/4OSqRmVmVmMp1qCLJOgJEfEO8A7wxSrHY2ZWFykm6CI16Eck3SPpaEkDqh6RmVkdpFiD7jRBR8SGwFnAvwKTJY2RdETVIzMzq6FGHcVBRDwWEaeQrQP9JuBJLGbWozT1Kb7VLKbOTpDUX9KRkv4EPALMwgv2m1kPk2KJo8hNwieB24FzI+LR6oZjZlYflXomYSUVSdCfiggv0G9mPVqC+bnQetBOzmbW4zVkgq6X87f1ZEX7pBWGjqh3CJag81/r/tptTtBmZonq2+VHaFefn6hiZgY0Kb1qrp+oYmZGbSegFOUnqpiZUXDWXo35iSpmZqRZ4vATVczMaNy1OPxEFTPr8fqq+FazmAqc4yeqmFmPpwRLHH6iipkZDTaKo0VEjMlf+okqZtZjNeoojmtoY8JKXos2M+sRUhzFUaTEMabk9fLAAWR1aDOzHqOWN/+KKlLiuKX0vaTRwJ+rFpGZWR00ZA26DRsCQysdiJlZPTVkiUPSeyxdg55NNrPQzKzHaMgedET0q0UgZmb1lOIojiIPjb2vyD4zs0bWpCi81UpH60EvD6wIDJQ0AGj5A6A/sFYNYjMzq5mGWrAfOBb4AVkynszHCfpd4JLqhmVmVluVzs+S+pCtq/+PiNinnDY6Wg/6IuAiSSdGxMVlxmhm1hCqULr4PtlKoP3LbaDIL43FklZteSNpgKTjy72gmVmKKrncqKR1gL2BK7sVU4FzvhMRb7e8iYi3gO9056JmZqlp6sImabikSSXb8FbNXQicDizuTkxFJqo0SVJEBCypqyzbnYuamaWmK+OgI6IZaG7rmKR9gLkRMVnSsO7EVCRB3w3cKOkysgkrxwF3deeiZmap6dNUsRr0jsBXJH2ZbP2i/pJGRsQRXW2oSII+AxgOfJdsJMc9wBVdvZCZWcoqNYojIn4I/BAg70GfVk5yLhRTRCyOiMsi4qCIOBCYRrZwv5lZj9FQE1VKSdoKOAw4BHgZuLWKMZmZ1Vw11uKIiHHAuHI/39FMwo2AQ8kS8zzgBkAR4aeqmFmP02iLJT0HPAjsGxEvAkjyswjNrEdaJsHlRjuqQR9ItrToXyRdIWlXPp7ubWbWo1RyokrFYmrvQETcFhGHAJuQ1VBOBgZLulTS7jWKz8ysJhoqQbeIiA8iYlS+2Mc6wBPAmdUOzMyslvqo+FYrXRr6FxFvRsTlEbFLtQIyM6uHFHvQ5TyT0Mysx2nIZxKamfUGyyQ4BMIJ2syMxhsHbWbWa7jEYWaWqFqOzijKCdrMDJc4zMyS1WhP9TYz6zX6uAZtZpamBDvQTtBmZuAatJlZspygzcwS5Rq0mVmiPIrDzCxRLnGYmSXKMwnNzBKV4locCVZdrNT48ZPZY4/j2G234TQ331TvcKxOLvvlsbw65TIm3fuLJfsGrLISY0b9iKceuIAxo37EqqusVMcIG19TF7ZaxmSJWrRoEeeeexlXXvljxo69hDFjxvPii6/VOyyrg+tueoD9vnneUvtO+95+jHv4abb4wimMe/hpTjv+K3WKrmdI8YkqTtAJmzr1BdZbb03WXXcIyy67DHvvvTP33Teh3mFZHTz82HO8+fb7S+3bZ7d/Y+TN4wEYefN49t1963qE1mMs0xSFt1pxgk7YnDnzGDJk4JL3gwevzpw58+oYkaVk0MBVmD33bQBmz32bNQb2r29ADc49aEDSUR0cGy5pkqRJzc031DKsJEV88je1lOCtZrMeIMUEXY9RHOcA17R1ICKagebs3fPp3VKtsSFDBjJ79htL3s+ZM49Bg1arY0SWkrlvvMOQQasye+7bDBm0Kq+/8W69Q2poKZYTqhKTpKntbE8Bg6txzZ5oiy025JVXZjJ9+mw++mgBY8eOZ5ddtql3WJaIsfdO5oiDdgbgiIN2Zsy9k+scUWOTim+1Uq0e9GBgD+CtVvsFPFKla/Y4ffv24eyzj+OYY0awaNFiDjzwS2y44Xr1Dsvq4HcXn8hO22/KwAH9eHHCb/jJBTdz/m/vYOSl3+fIQ4YxfeY8Dj/uwnqH2dBSnEmotuqc3W5Uugq4JiIeauPY9RHx9c5bcYnDPmmFoSPqHYIlaP5ro7udXqe8MbZwzvncwL1rks6r0oOOiKM7OFYgOZuZ1ZYSnEnoqd5mZmT119Q4QZuZUdubf0WlOLLEzKzm1IWtw3akdSX9RdKzkqZJ+n65MbkHbWZGRZcbXQicGhFTJPUDJku6NyKe6WpDTtBmZlSuxBERs4BZ+ev3JD0LrA10OUG7xGFmRtdKHKXLUuTb8DbblNYHPguUtcqZe9BmZnRtFMfSy1K00560MnAL8IOIKGsevhO0mRmVnUkoaRmy5DwqIm4ttx0naDMzKjcOWtmSk1cBz0bEBd1pyzVoMzOyZxIW3TqxI/ANYBdJT+Tbl8uJyT1oMzMqOorjISrUIXeCNjMjzXKCE7SZGWlO9XaCNjPDiyWZmSUrxQX7naDNzHCCNjNLVoL52QnazAz8RBUzs2S5B21mligPszMzS1SfegfQBidoMzPcgzYzS1h6GdoJ2swMkBO0mVmapPSWS3KCNjMDXOIwM0uUElxw1AnazAyXOMzMEuYSh5lZkjyKw8wsUU7QZmaJktKb7O0EbWYGuAZtZpYolzjMzJLlYXZmZklyD9rMLFFKcL1RJ2gzM0AJLtnvBG1mBngUh5lZolziMDNLlhO0mVmSvNyomVmy3IM2M0tSk9eDNjNLlRO0mVmSUpxJmN6vDDOzulAXtk5akvaU9DdJL0o6s9yI3IM2M6Ny46CVLSx9CbAbMAOYKOmOiHimq205QZuZUdGp3tsAL0bESwCS/gDsB/SkBL1RegWhOpE0PCKa6x1HCua/NrreISTD34tKK55zJA0Hhpfsai75b7E2ML3k2Axg23Iicg26MQzv/BTrhfy9qJOIaI6IrUu20l+UbSX6KOc6TtBmZpU1A1i35P06wMxyGnKCNjOrrInAhpI2kLQscChwRzkNJVyDthKuM1pb/L1IUEQslHQCcDfQB7g6IqaV05YiyiqNmJlZlbnEYWaWKCdoM7NEOUEnrlJTRq3nkHS1pLmSnq53LFZdTtAJK5kyuhewGXCYpM3qG5Ul4Fpgz3oHYdXnBJ22JVNGI+IjoGXKqPViETEeeLPecVj1OUGnra0po2vXKRYzqzEn6LRVbMqomTUeJ+i0VWzKqJk1HifotFVsyqiZNR4n6IRFxEKgZcros8CN5U4ZtZ5D0mjgUWBjSTMkHV3vmKw6PNXbzCxR7kGbmSXKCdrMLFFO0GZmiXKCNjNLlBO0mVminKCtTZIWSXpC0tOSbpK0YjfaulbSQfnrKzta8EnSMEk7lHGNVyQNLDfGSrdjVglO0Nae+RGxVURsDnwEHFd6MF9pr8si4piIeKaDU4YBXU7QZj2RE7QV8SDw6bx3+xdJ1wNPSeoj6ZeSJkqaKulYAGV+I+kZSWOBQS0NSRonaev89Z6Spkh6UtJ9ktYn+0Vwct5730nSGpJuya8xUdKO+WdXl3SPpMclXU4b65ZI+q6kX5S8/5aki/PXt0uaLGmapOFtfHb90vWWJZ0m6cf563+RdFf++QclbdL9H7HZJ/mhsdYhSX3J1qO+K9+1DbB5RLycJ7Z3IuLzkpYDHpZ0D/BZYGNgC2Aw8Axwdat21wCuAHbO21otIt6UdBnwfkScn593PfA/EfGQpKFksyo3BUYAD0XEuZL2Bj6RZIGbyWbcnZ6/PwT4Wf762/n1VgAmSrolIuYV/LE0A8dFxAuStgV+C+xS8LNmhTlBW3tWkPRE/vpB4Cqy0sNjEfFyvn934DMt9WVgFWBDYGdgdEQsAmZKur+N9rcDxre0FRHtrW/8JWAzaUkHub+kfvk1vpp/dqykt1p/MCJel/SSpO2AF8h+aTycHz5J0gH563XzuDtN0JJWzn8ON5XEtFxnnzMrhxO0tWd+RGxVuiNPSB+U7gJOjIi7W533ZTpfFlUFzoGsDLd9RMxvI5Yin78BOBh4DrgtIkLSMLLEv31EfChpHLB8q88tZOkSYMvxJuDt1j8bs2pwDdq6427gu5KWAZC0kaSVgPHAoXmNek3gi2189lHgC5I2yD+7Wr7/PaBfyXn3kC0YRX7eVvnL8cDh+b69gAHtxHgrsD9wGFmyhqyn/1aenDch6823NgcYlNe6lwP2AYiId4GXJX0tv7YkbdnOtc26xQnauuNKsvrylPyG2uVkf5XdRlZSeAq4FHig9Qcj4nWyuvGtkp7k4+T5R+CAlpuEwEnA1vlNyGf4eDTJOcDOkqaQlVpeayvAiHgrj3G9iHgs330X0FfSVOAnwF/b+NwC4FxgAjCGrAfe4nDg6DzuafgxZFYlXs3OzCxR7kGbmSXKCdrMLFFO0GZmiXKCNjNLlBO0mVminKDNzBLlBG1mlqj/B/Ky2s5UYm29AAAAAElFTkSuQmCC\n",
      "text/plain": [
       "<Figure size 432x288 with 2 Axes>"
      ]
     },
     "metadata": {
      "needs_background": "light"
     },
     "output_type": "display_data"
    }
   ],
   "source": [
    "yhat_log_reg = lr.predict(xtest)\n",
    "sns.heatmap(confusion_matrix(ytest,yhat_log_reg),annot=True,cmap='YlGnBu')\n",
    "plt.xlabel('Predicted value')\n",
    "plt.ylabel('Actual value')\n",
    "plt.title('Confusion Matrix')\n",
    "plt.show()"
   ]
  },
  {
   "cell_type": "markdown",
   "id": "a53ecadb",
   "metadata": {},
   "source": [
    "**Discussion**: The accuracy score reported above could be calculated using from the results of the confusion matrix above:\n",
    "(10+4)/(10+0+4+4)=0.78"
   ]
  },
  {
   "cell_type": "markdown",
   "id": "67b8ea65",
   "metadata": {},
   "source": [
    "## Support Vector Machine (SVM)"
   ]
  },
  {
   "cell_type": "code",
   "execution_count": 84,
   "id": "db700533",
   "metadata": {},
   "outputs": [
    {
     "name": "stdout",
     "output_type": "stream",
     "text": [
      "Best parameters are {'C': 1.0, 'gamma': 0.001, 'kernel': 'linear'}, best score is: 0.864\n"
     ]
    }
   ],
   "source": [
    "parameters = {'kernel':('linear', 'rbf','poly','rbf', 'sigmoid'),\n",
    "              'C': np.logspace(-3, 3, 5),\n",
    "              'gamma':np.logspace(-3, 3, 5)}\n",
    "svm = SVC()\n",
    "grid_svm = GridSearchCV(svm,parameters)\n",
    "grid_svm.fit(xtrain,ytrain)\n",
    "print(f\"Best parameters are {grid_svm.best_params_}, best score is: {round(grid_svm.best_score_,3)}\")"
   ]
  },
  {
   "cell_type": "code",
   "execution_count": 85,
   "id": "c1255a89",
   "metadata": {},
   "outputs": [
    {
     "name": "stdout",
     "output_type": "stream",
     "text": [
      "The score value for the test data is :0.778\n"
     ]
    }
   ],
   "source": [
    "svm = SVC(C=1.0, gamma=0.03162277660168379, kernel='sigmoid')\n",
    "svm.fit(xtrain,ytrain)\n",
    "print(f\"The score value for the test data is :{round(svm.score(xtest,ytest),3)}\")"
   ]
  },
  {
   "cell_type": "code",
   "execution_count": 86,
   "id": "d6266f26",
   "metadata": {},
   "outputs": [
    {
     "data": {
      "image/png": "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\n",
      "text/plain": [
       "<Figure size 432x288 with 2 Axes>"
      ]
     },
     "metadata": {
      "needs_background": "light"
     },
     "output_type": "display_data"
    }
   ],
   "source": [
    "yhat_svm = svm.predict(xtest)\n",
    "sns.heatmap(confusion_matrix(ytest,yhat_svm),annot=True,cmap='YlGnBu')\n",
    "plt.xlabel('Predicted value')\n",
    "plt.ylabel('Actual value')\n",
    "plt.title('Confusion Matrix')\n",
    "plt.show()"
   ]
  },
  {
   "cell_type": "markdown",
   "id": "a4a5b9a0",
   "metadata": {},
   "source": [
    "**Discussion**: The results obtained from the SVM model is very similar to those reported with logistic regression model."
   ]
  },
  {
   "cell_type": "markdown",
   "id": "2ed5cc95",
   "metadata": {},
   "source": [
    "## Decision Tree"
   ]
  },
  {
   "cell_type": "code",
   "execution_count": 87,
   "id": "61901b2a",
   "metadata": {},
   "outputs": [
    {
     "name": "stdout",
     "output_type": "stream",
     "text": [
      "Best parameters are {'criterion': 'gini', 'max_depth': 14, 'max_features': 'sqrt', 'min_samples_leaf': 4, 'min_samples_split': 5, 'splitter': 'random'}, best score is: 0.905\n"
     ]
    }
   ],
   "source": [
    "parameters = {'criterion': ['gini', 'entropy'],\n",
    "     'splitter': ['best', 'random'],\n",
    "     'max_depth': [2*n for n in range(1,10)],\n",
    "     'max_features': ['auto', 'sqrt'],\n",
    "     'min_samples_leaf': [1, 2, 4],\n",
    "     'min_samples_split': [2, 5, 10]}\n",
    "\n",
    "tree = DecisionTreeClassifier()\n",
    "grid_tree = GridSearchCV(tree,parameters)\n",
    "grid_tree.fit(xtrain,ytrain)\n",
    "print(f\"Best parameters are {grid_tree.best_params_}, best score is: {round(grid_tree.best_score_,3)}\")"
   ]
  },
  {
   "cell_type": "code",
   "execution_count": 88,
   "id": "45c1a31e",
   "metadata": {},
   "outputs": [
    {
     "name": "stdout",
     "output_type": "stream",
     "text": [
      "The score value for the test data is :0.722\n"
     ]
    }
   ],
   "source": [
    "tree = DecisionTreeClassifier(criterion='gini',max_depth=6,max_features='auto',min_samples_leaf=1,min_samples_split=10,splitter='best')\n",
    "tree.fit(xtrain,ytrain)\n",
    "print(f\"The score value for the test data is :{round(tree.score(xtest,ytest),3)}\")"
   ]
  },
  {
   "cell_type": "markdown",
   "id": "c0c38242",
   "metadata": {},
   "source": [
    "**Discussion**: Although the accuracy of the decision tree model using the training data is higher than the previous models, the accuracy of the model using test data is slight lower than SVM and logistic regression model. "
   ]
  },
  {
   "cell_type": "code",
   "execution_count": 89,
   "id": "7da5ef98",
   "metadata": {},
   "outputs": [
    {
     "data": {
      "image/png": "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\n",
      "text/plain": [
       "<Figure size 432x288 with 2 Axes>"
      ]
     },
     "metadata": {
      "needs_background": "light"
     },
     "output_type": "display_data"
    }
   ],
   "source": [
    "yhat_tree = tree.predict(xtest)\n",
    "sns.heatmap(confusion_matrix(ytest,yhat_tree),annot=True,cmap='YlGnBu')\n",
    "plt.xlabel('Predicted value')\n",
    "plt.ylabel('Actual value')\n",
    "plt.title('Confusion Matrix')\n",
    "plt.show()"
   ]
  },
  {
   "cell_type": "markdown",
   "id": "d44844e8",
   "metadata": {},
   "source": [
    "**Discussion**: In comparison to previous models, in here the False Positive value is slightly higher and the True Negative value is slightly lower leading to less accuracy compared to SVM and Logistic regression models."
   ]
  },
  {
   "cell_type": "markdown",
   "id": "bb7313ac",
   "metadata": {},
   "source": [
    "## K Nearest Neighbor"
   ]
  },
  {
   "cell_type": "code",
   "execution_count": 90,
   "id": "c0a2f39d",
   "metadata": {},
   "outputs": [
    {
     "name": "stdout",
     "output_type": "stream",
     "text": [
      "Best parameters are {'algorithm': 'auto', 'n_neighbors': 3, 'p': 1}, best score is: 0.836\n"
     ]
    }
   ],
   "source": [
    "parameters = {'n_neighbors': [1, 2, 3, 4, 5, 6, 7, 8, 9, 10],\n",
    "              'algorithm': ['auto', 'ball_tree', 'kd_tree', 'brute'],\n",
    "              'p': [1,2]}\n",
    "\n",
    "KNN = KNeighborsClassifier()\n",
    "grid_KNN = GridSearchCV(KNN,parameters)\n",
    "grid_KNN.fit(xtrain,ytrain)\n",
    "print(f\"Best parameters are {grid_KNN.best_params_}, best score is: {round(grid_KNN.best_score_,3)}\")"
   ]
  },
  {
   "cell_type": "code",
   "execution_count": 91,
   "id": "33d153cb",
   "metadata": {},
   "outputs": [
    {
     "name": "stdout",
     "output_type": "stream",
     "text": [
      "The score value for the test data is :0.722\n"
     ]
    }
   ],
   "source": [
    "KNN = KNeighborsClassifier(algorithm='auto',n_neighbors=8,p=1)\n",
    "KNN.fit(xtrain,ytrain)\n",
    "print(f\"The score value for the test data is :{round(KNN.score(xtest,ytest),3)}\")"
   ]
  },
  {
   "cell_type": "code",
   "execution_count": 92,
   "id": "fba3d310",
   "metadata": {},
   "outputs": [
    {
     "data": {
      "image/png": "iVBORw0KGgoAAAANSUhEUgAAAWgAAAEWCAYAAABLzQ1kAAAAOXRFWHRTb2Z0d2FyZQBNYXRwbG90bGliIHZlcnNpb24zLjMuNCwgaHR0cHM6Ly9tYXRwbG90bGliLm9yZy8QVMy6AAAACXBIWXMAAAsTAAALEwEAmpwYAAAZgElEQVR4nO3deZhdVZnv8e+vKiEDJCQQkiAQAlcGGQTbXGRoYgRRRtGWFhBopIMlKlERLg7XSwTb+zjQXGgaxQJEJTECEb2YKINcYwARMsgUgsAFTGJGAkkYIkkqb/+xd8WTolJ16tQZ1jn1+zzPfnLO3mev/aYI71n17rXWVkRgZmbpaap1AGZm1jknaDOzRDlBm5klygnazCxRTtBmZolygjYzS5QTtPWapEGSfiVpraTbe9HOWZLuKWdstSDpN5LOrXUcVv+coPsQSR+XNFfSa5KW5YnkH8vQ9GnAKGDniPjnUhuJiKkR8YEyxLMVSRMkhaQ7Ouw/JN8/q8h2vi5pSnefi4gTIuLHJYZrtoUTdB8h6YvA1cD/JkumY4DvAaeWofk9gWciYlMZ2qqUVcCRknYu2Hcu8Ey5LqCM/5+ysvE/pj5A0o7AFcBnI+KOiHg9IjZGxK8i4n/knxkg6WpJS/PtakkD8mMTJC2RdLGklXnv+7z82OXAZcDpec98YseepqSxeU+1X/7+E5Kel/SqpBcknVWw/4GC846UNCcvncyRdGTBsVmSviHpwbydeySN6OLHsAH4JXBGfn4z8DFgaoef1TWSFktaJ2mepKPz/ccDXy34ez5WEMc3JT0IvAHsne87Pz/+fUnTC9r/tqT7JKnY/37WdzlB9w1HAAOBX3Txmf8JHA4cChwCHAZ8reD4aGBHYDdgInCdpOERMZmsV35rROwQETd1FYik7YH/AE6IiCHAkcCjnXxuJ2Bm/tmdgauAmR16wB8HzgNGAtsBl3R1beAnwL/krz8ILACWdvjMHLKfwU7AT4HbJQ2MiLs6/D0PKTjnHKAFGAL8pUN7FwPvzL98jib72Z0bXmPBiuAE3TfsDLzUTQniLOCKiFgZEauAy8kST7uN+fGNEfFr4DVgvxLj2QwcJGlQRCyLiAWdfOYk4NmIuCUiNkXENOBp4JSCz9wcEc9ExHrgNrLEuk0R8QdgJ0n7kSXqn3TymSkRsTq/5r8DA+j+7/mjiFiQn7OxQ3tvAGeTfcFMASZFxJJu2jMDnKD7itXAiPYSwza8ja17f3/J921po0OCfwPYoaeBRMTrwOnABcAySTMl7V9EPO0x7VbwfnkJ8dwCXAi8j05+o8jLOAvzssoast8auiqdACzu6mBEPAI8D4jsi8SsKE7QfcNDwN+AD3fxmaVkN/vajeGtv/4X63VgcMH70YUHI+LuiDgO2JWsV3xDEfG0x/TXEmNqdwvwGeDXee92i7wE8SWy2vTwiBgGrCVLrADbKkt0Wa6Q9FmynvhS4NKSI7c+xwm6D4iItWQ38q6T9GFJgyX1l3SCpO/kH5sGfE3SLvnNtsvIfiUvxaPAeElj8huUX2k/IGmUpA/lteg3yUolbZ208Wtg33xoYD9JpwMHADNKjAmAiHgBeC9Zzb2jIcAmshEf/SRdBgwtOL4CGNuTkRqS9gX+jazMcQ5wqaRDS4ve+hon6D4iIq4Cvkh2428V2a/lF5KNbIAsicwFHgeeAObn+0q51r3ArXlb89g6qTaR3ThbCrxMliw/00kbq4GT88+uJut5nhwRL5USU4e2H4iIzn47uBv4DdnQu7+Q/dZRWL5on4SzWtL87q6Tl5SmAN+OiMci4lmykSC3tI+QMeuKfDPZzCxN7kGbmSXKCdrMrMwk/TCf1PVkwb6dJN0r6dn8z+HdteMEbWZWfj8Cju+w78vAfRGxD3Bf/r5LrkGbmVWApLHAjIg4KH//Z2BCRCyTtCswKyK6nATV1cSFmpr+wl3+5rC3uG7hkFqHYAn63YlH9Xptk0Fjziw65/xt8c8+RTa9v11rRLR2c9qoiFgGkCfpkd1dJ9kEbWaWqjwZd5eQe80J2swMqMJKsSsk7VpQ4ljZ3Qm+SWhmBjSpX9Fbie4kW4Oc/M//290J7kGbmVHeHrSkacAEskXKlgCTgW8Bt0maCCwCun36kBO0mRlQzmcoRMSZ2zh0bE/acYI2MwNSrPg6QZuZUZWbhD3mBG1mhhO0mVmyejE6o2LSi8jMrAbcgzYzS5QTtJlZokT5htmVixO0mRnuQZuZJaupKb10mF5EZmY14R60mVmSXOIwM0uUE7SZWaLkEoeZWZrcgzYzS1RTU3OtQ3gLJ2gzM1ziMDNLlkscZmaJcoI2M0uUSxxmZomSp3qbmaWpnA+NLRcnaDMzXOIwM0uWbxKamaXKJQ4zs0Sl14F2gjYzA6ApvQztBG1mBu5Bm5mlKlyDNjNLVHr52QnazAyApvQytBO0mRl4mJ2ZWbKanaDNzNLkHrSZWaLSy89O0GZmQJI3CRMcmm1mVgPqwdZdU9JFkhZIelLSNEkDSwnJCdrMDIjmpqK3rkjaDfgcMC4iDgKagTNKicklDjMzKHcNuh8wSNJGYDCwtJRG3IM2M4NsFEeRm6QWSXMLtpb2ZiLir8CVwCJgGbA2Iu4pJST3oM3MoEc3CSOiFWjt7Jik4cCpwF7AGuB2SWdHxJQeh9TTE8zMGlL5bhK+H3ghIlZFxEbgDuDIUkJyD9rMDMo5UWURcLikwcB64FhgbikNOUGbmUHZpnpHxMOSpgPzgU3An9hGOaQ7TtBmZlDWqd4RMRmY3Nt2nKDNzMBTva1nNm7YyA2X/AdtGzexuW0zBx59CO8/58Rah2UJmDbh3bzR1sbmCNoCLnjwsVqHVPciwaneTtAJ69e/HxO/fSEDBg2gbVMbrRdfw77jDmDMO8bWOjRLwEV/fJJ1GzfVOozG0ZdWs5O0P9lYwN2AIJtJc2dELKzUNRuNJAYMGgBA26Y22ja1pfhvyKwxJPj/VkUStKQvAWcCPwMeyXfvDkyT9LOI+FYlrtuINrdt5rpJV/Ly0lW855Sj2WP/sbUOyRIQwHcPOxCAXy1azozFK2obUCPoZo2NWqhUD3oicGA+SHsLSVcBC4BOE3Q+XbIFoOWbkzjuTNdbm5qbmPS9S1n/2htMveImVry4lFFj31brsKzGJj30BKvf3MCw7fpz5WEHsui19Tz+yrpah1XfEuxBV+orYzPQWRbZNT/WqYhojYhxETHOyXlrg3YYzF7vfDvPzH261qFYAla/uQGANRs2cv+K1ew/bIcaR9QAmlT8ViWV6kF/AbhP0rPA4nzfGODtwIUVumbDeX3NazT1a2LQDoPZ+OYG/v+fnmH8x46tdVhWYwObmxBifVsbA5ubGDdiGD95dnH3J1rX+soojoi4S9K+wGFkNwkFLAHmRERbJa7ZiF59eS3T/30qm9s2ExEcPP5d7P+eg2odltXY8O368413vwOAZonfLl3FnJfW1DaoBhDp5efKjeKIiM3AHyvVfl8weu/duPC6S2sdhiVm2fo3Of+BR2sdRuPpQzcJzczqS18pcZiZ1Z30OtBO0GZmQN+aSWhmVldc4jAzS1O4B21mlqh+TtBmZmlyD9rMLFGuQZuZJSq9/OwEbWYGfqKKmVm6nKDNzBLV7ARtZpYmj+IwM0uUSxxmZolygjYzS5OnepuZpco3Cc3MEuUSh5lZopygzcwSlV5+Lu4hL5L+UdJ5+etdJO1V2bDMzKormlT0Vi3d9qAlTQbGAfsBNwP9gSnAUZUNzcysiup0FMdHgHcB8wEiYqmkIRWNysys2up0FMeGiAhJASBp+wrHZGZWdU0JPtW7mJBuk/QDYJikTwK/BW6obFhmZtUlFb9135aGSZou6WlJCyUdUUpM3fagI+JKSccB68jq0JdFxL2lXMzMLFVlLkFfA9wVEadJ2g4YXEojRQ2zyxOyk7KZNSyVKUNLGgqMBz4BEBEbgA2ltNVtiUPSq5LW5dvfJLVJWlfKxczMUtXUVPwmqUXS3IKtpaCpvYFVwM2S/iTpxlLv3RVT4thqxIakDwOHlXIxM7NUqQc3CSOiFWjdxuF+wD8AkyLiYUnXAF8G/ldPY+rxfcuI+CVwTE/PMzNLWRlvEi4BlkTEw/n76WQJu8eKmajyTwVvm8gmrUQpFzMzS1W5JghGxHJJiyXtFxF/Bo4FniqlrWJuEp5S8HoT8CJwaikXMzNLVZlHcUwCpuYjOJ4HziulkWJq0CU1bGZWT8qZoCPiUbJqQ69sM0FLupYuShkR8bneXtzMLBVNdTbVe27VojAzq7EE10radoKOiB9XMxAzs1qqqwTdTtIuwJeAA4CB7fsjwkPtzKxhpJigixkHPRVYCOwFXE42imNOBWMyM6u6JhW/VS2mIj6zc0TcBGyMiN9HxL8Ch1c4LjOzqirnanblUsw46I35n8sknQQsBXavXEhmZtVXb6M42v2bpB2Bi4FrgaHARRWNysysylKsQReToB+OiLXAWuB9FY7HzKwmUkzQxdSg/yDpHkkTJQ2veERmZjWQYg262wQdEfsAXwMOBOZJmiHp7IpHZmZWRfU6ioOIeCQivki2DvTLgCexmFlDaWoufqtaTN19QNJQSedK+g3wB2AZXrDfzBpMiiWOYm4SPgb8ErgiIh6qbDhmZrVRrmcSllMxCXrviPAC/WbW0BLMz0WtB+3kbGYNry4TdK2cttfetQ7BEnTOeyfXOgRL0aKjet2EE7SZWaL69fgR2pXnJ6qYmQFNSq+a6yeqmJlR3QkoxfITVczMKHLWXpX5iSpmZqRZ4vATVczMqN+1OPxEFTNreP1U/Fa1mIr4jJ+oYmYNTwmWOPxEFTMz6mwUR7uImJG/9BNVzKxh1esojpvpZMJKXos2M2sIKY7iKKbEMaPg9UDgI2R1aDOzhlHNm3/FKqbE8fPC95KmAb+tWERmZjVQlzXoTuwDjCl3IGZmtVSXJQ5Jr7J1DXo52cxCM7OGUZc96IgYUo1AzMxqKcVRHMU8NPa+YvaZmdWzJkXRW7V0tR70QGAwMELScKD9F4ChwNuqEJuZWdXU1YL9wKeAL5Al43n8PUGvA66rbFhmZtVV7vwsqZlsXf2/RsTJpbTR1XrQ1wDXSJoUEdeWGKOZWV2oQOni82QrgQ4ttYFivjQ2SxrW/kbScEmfKfWCZmYpKudyo5J2B04CbuxVTEV85pMRsab9TUS8AnyyNxc1M0tNUw82SS2S5hZsLR2auxq4FNjcm5iKmajSJEkREbClrrJdby5qZpaanoyDjohWoLWzY5JOBlZGxDxJE3oTUzEJ+m7gNknXk01YuQC4qzcXNTNLTXNT2WrQRwEfknQi2fpFQyVNiYize9pQMQn6S0AL8GmykRz3ADf09EJmZikr1yiOiPgK8BWAvAd9SSnJuaiYImJzRFwfEadFxEeBBWQL95uZNYy6mqhSSNKhwJnA6cALwB0VjMnMrOoqsRZHRMwCZpV6flczCfcFziBLzKuBWwFFhJ+qYmYNp94WS3oauB84JSKeA5DkZxGaWUPqn+Byo13VoD9KtrTo7yTdIOlY/j7d28ysoZRzokrZYtrWgYj4RUScDuxPVkO5CBgl6fuSPlCl+MzMqqKuEnS7iHg9Iqbmi33sDjwKfLnSgZmZVVOzit+qpUdD/yLi5Yj4QUQcU6mAzMxqIcUedCnPJDQzazh1+UxCM7O+oH+CQyCcoM3MqL9x0GZmfYZLHGZmiarm6IxiOUGbmeESh5lZsurtqd5mZn1Gs2vQZmZpSrAD7QRtZgauQZuZJcsJ2swsUa5Bm5klyqM4zMwS5RKHmVmiPJPQzCxRKa7FkWDVxQrNnj2PD37wAo47roXW1ttrHY7VyPXf/RR/mX89c+/9zpZ9w3fcnhlTv8oTv7+KGVO/yrAdt69hhPWvqQdbNWOyRLW1tXHFFddz441fZ+bM65gxYzbPPbeo1mFZDdxy++859V++tdW+Sz57KrMefJKD3/tFZj34JJd85kM1iq4xpPhEFSfohD3++LPsueeu7LHHaLbbrj8nnTSe++57uNZhWQ08+MjTvLzmta32nXzcu5kyfTYAU6bP5pQPjKtFaA2jf1MUvVWLE3TCVqxYzejRI7a8HzVqZ1asWF3DiCwlI0fsyPKVawBYvnINu4wYWtuA6px70ICk87o41iJprqS5ra23VjOsJEW89ZtaSvBWs1kDSDFB12IUx+XAzZ0diIhWoDV790x6t1SrbPToESxf/tKW9ytWrGbkyJ1qGJGlZOVLaxk9chjLV65h9MhhrHppXa1DqmsplhMqEpOkx7exPQGMqsQ1G9HBB+/Diy8uZfHi5WzYsJGZM2dzzDGH1TosS8TMe+dx9mnjATj7tPHMuHdejSOqb1LxW7VUqgc9Cvgg8EqH/QL+UKFrNpx+/Zq57LILOP/8ybS1beajH30/++yzZ63Dshr48bWTOPqIdzBi+BCee/g/+cZV07nye3cy5fuf59zTJ7B46WrOuuDqWodZ11KcSajO6py9blS6Cbg5Ih7o5NhPI+Lj3bfiEoe91aAxk2sdgiVo/aJpvU6v81+aWXTO+YcRJ1UlnVekBx0RE7s4VkRyNjOrLiU4k9BTvc3MyOqvqXGCNjOjujf/ipXiyBIzs6pTD7Yu25H2kPQ7SQslLZD0+VJjcg/azIyyLje6Cbg4IuZLGgLMk3RvRDzV04acoM3MKF+JIyKWAcvy169KWgjsBvQ4QbvEYWZGz0ochctS5FtLp21KY4F3ASWtcuYetJkZPRvFsfWyFNtoT9oB+DnwhYgoaR6+E7SZGeWdSSipP1lynhoRd5TajhO0mRnlGwetbMnJm4CFEXFVb9pyDdrMjOyZhMVu3TgKOAc4RtKj+XZiKTG5B21mRllHcTxAmTrkTtBmZqRZTnCCNjMjzaneTtBmZnixJDOzZKW4YL8TtJkZTtBmZslKMD87QZuZgZ+oYmaWLPegzcwS5WF2ZmaJaq51AJ1wgjYzwz1oM7OEpZehnaDNzAA5QZuZpUlKb7kkJ2gzM8AlDjOzRCnBBUedoM3McInDzCxhLnGYmSXJozjMzBLlBG1mligpvcneTtBmZoBr0GZmiXKJw8wsWR5mZ2aWJPegzcwSpQTXG3WCNjMDlOCS/U7QZmaAR3GYmSXKJQ4zs2Q5QZuZJcnLjZqZJcs9aDOzJDV5PWgzs1Q5QZuZJSnFmYTpfWWYmdWEerB105J0vKQ/S3pO0pdLjcg9aDMzyjcOWtnC0tcBxwFLgDmS7oyIp3ralhO0mRllnep9GPBcRDwPIOlnwKlAIyXofdMrCNWIpJaIaK11HClYv2harUNIhv9dlFvxOUdSC9BSsKu14L/FbsDigmNLgPeUEpFr0PWhpfuPWB/kfxc1EhGtETGuYCv8ouws0Ucp13GCNjMrryXAHgXvdweWltKQE7SZWXnNAfaRtJek7YAzgDtLaSjhGrQVcJ3ROuN/FwmKiE2SLgTuBpqBH0bEglLaUkRJpREzM6swlzjMzBLlBG1mlign6MSVa8qoNQ5JP5S0UtKTtY7FKssJOmEFU0ZPAA4AzpR0QG2jsgT8CDi+1kFY5TlBp23LlNGI2AC0Txm1PiwiZgMv1zoOqzwn6LR1NmV0txrFYmZV5gSdtrJNGTWz+uMEnbayTRk1s/rjBJ22sk0ZNbP64wSdsIjYBLRPGV0I3FbqlFFrHJKmAQ8B+0laImlirWOyyvBUbzOzRLkHbWaWKCdoM7NEOUGbmSXKCdrMLFFO0GZmiXKCtk5JapP0qKQnJd0uaXAv2vqRpNPy1zd2teCTpAmSjizhGi9KGlFqjOVux6wcnKBtW9ZHxKERcRCwAbig8GC+0l6PRcT5EfFUFx+ZAPQ4QZs1IidoK8b9wNvz3u3vJP0UeEJSs6TvSpoj6XFJnwJQ5j8lPSVpJjCyvSFJsySNy18fL2m+pMck3SdpLNkXwUV57/1oSbtI+nl+jTmSjsrP3VnSPZL+JOkHdLJuiaRPS/pOwftPSLo2f/1LSfMkLZDU0sm5YwvXW5Z0iaSv56//m6S78vPvl7R/73/EZm/lh8ZalyT1I1uP+q5812HAQRHxQp7Y1kbEf5c0AHhQ0j3Au4D9gIOBUcBTwA87tLsLcAMwPm9rp4h4WdL1wGsRcWX+uZ8C/yciHpA0hmxW5TuAycADEXGFpJOAtyRZYDrZjLtL8/enA9/MX/9rfr1BwBxJP4+I1UX+WFqBCyLiWUnvAb4HHFPkuWZFc4K2bRkk6dH89f3ATWSlh0ci4oV8/weAd7bXl4EdgX2A8cC0iGgDlkr6f520fzgwu72tiNjW+sbvBw6QtnSQh0oakl/jn/JzZ0p6peOJEbFK0vOSDgeeJfvSeDA//DlJH8lf75HH3W2ClrRD/nO4vSCmAd2dZ1YKJ2jblvURcWjhjjwhvV64C5gUEXd3+NyJdL8sqor4DGRluCMiYn0nsRRz/q3Ax4CngV9EREiaQJb4j4iINyTNAgZ2OG8TW5cA2483AWs6/mzMKsE1aOuNu4FPS+oPIGlfSdsDs4Ez8hr1rsD7Ojn3IeC9kvbKz90p3/8qMKTgc/eQLRhF/rlD85ezgbPyfScAw7cR4x3Ah4EzyZI1ZD39V/LkvD9Zb76jFcDIvNY9ADgZICLWAS9I+uf82pJ0yDaubdYrTtDWGzeS1Zfn5zfUfkD2W9kvyEoKTwDfB37f8cSIWEVWN75D0mP8PXn+CvhI+01C4HPAuPwm5FP8fTTJ5cB4SfPJSi2LOgswIl7JY9wzIh7Jd98F9JP0OPAN4I+dnLcRuAJ4GJhB1gNvdxYwMY97AX4MmVWIV7MzM0uUe9BmZolygjYzS5QTtJlZopygzcwS5QRtZpYoJ2gzs0Q5QZuZJeq/AH0y9xqv5CCSAAAAAElFTkSuQmCC\n",
      "text/plain": [
       "<Figure size 432x288 with 2 Axes>"
      ]
     },
     "metadata": {
      "needs_background": "light"
     },
     "output_type": "display_data"
    }
   ],
   "source": [
    "yhat_KNN = KNN.predict(xtest)\n",
    "sns.heatmap(confusion_matrix(ytest,yhat_KNN),annot=True,cmap='YlGnBu')\n",
    "plt.xlabel('Predicted value')\n",
    "plt.ylabel('Actual value')\n",
    "plt.title('Confusion Matrix')\n",
    "plt.show()"
   ]
  },
  {
   "cell_type": "markdown",
   "id": "5c684b4a",
   "metadata": {},
   "source": [
    "**Discussion**: The accuracy of the KNN model for test data is the same as those reported for Decision Tree model."
   ]
  },
  {
   "cell_type": "markdown",
   "id": "69b608c3",
   "metadata": {},
   "source": [
    "### Conclusion"
   ]
  },
  {
   "cell_type": "code",
   "execution_count": 94,
   "id": "d9c64177",
   "metadata": {},
   "outputs": [
    {
     "data": {
      "image/png": "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\n",
      "text/plain": [
       "<Figure size 720x288 with 1 Axes>"
      ]
     },
     "metadata": {
      "needs_background": "light"
     },
     "output_type": "display_data"
    }
   ],
   "source": [
    "# Accuracy of different models\n",
    "dict_dummy = {'Support vector machine':[0.778],'Logistic regression':[0.778],\n",
    "              'K_nearest neighbor':[0.722],'Decision tree':[0.722]}\n",
    "df_accuracy = pd.DataFrame(dict_dummy).transpose().reset_index()\n",
    "df_accuracy.rename({'index':'Classification methods',0:'Accuracy Score'},axis=1,inplace=True)\n",
    "plt.subplots(figsize=(10,4))\n",
    "plt.bar(df_accuracy['Classification methods'],df_accuracy['Accuracy Score'])\n",
    "plt.show()"
   ]
  },
  {
   "cell_type": "markdown",
   "id": "813b4dfd",
   "metadata": {},
   "source": [
    "**Discussion**: Based on the bar chart above, using either logistic regression or SVM model leads to relatively high accuracy score. Additionally, the results previously reported indicate that the success rate of first phase for Falcon 9 rocket is likely to increase in the future. Hence, SpaceX is going to be more profitable if one is motivated to invest. Furthermore, other companies should try to replicate the same model of reusing the first phase of the launch to decrease the price if they want to be competitive in the market. "
   ]
  }
 ],
 "metadata": {
  "kernelspec": {
   "display_name": "Python 3",
   "language": "python",
   "name": "python3"
  },
  "language_info": {
   "codemirror_mode": {
    "name": "ipython",
    "version": 3
   },
   "file_extension": ".py",
   "mimetype": "text/x-python",
   "name": "python",
   "nbconvert_exporter": "python",
   "pygments_lexer": "ipython3",
   "version": "3.8.8"
  }
 },
 "nbformat": 4,
 "nbformat_minor": 5
}
